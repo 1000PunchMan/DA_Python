{
  "nbformat": 4,
  "nbformat_minor": 0,
  "metadata": {
    "colab": {
      "name": "mini_project_week5",
      "provenance": [],
      "collapsed_sections": [],
      "authorship_tag": "ABX9TyOo1Rx/0VfI0w4YrDwLP5a/",
      "include_colab_link": true
    },
    "kernelspec": {
      "name": "python3",
      "display_name": "Python 3"
    },
    "language_info": {
      "name": "python"
    }
  },
  "cells": [
    {
      "cell_type": "markdown",
      "metadata": {
        "id": "view-in-github",
        "colab_type": "text"
      },
      "source": [
        "<a href=\"https://colab.research.google.com/github/1000PunchMan/DA_Python/blob/main/mini_project_week5.ipynb\" target=\"_parent\"><img src=\"https://colab.research.google.com/assets/colab-badge.svg\" alt=\"Open In Colab\"/></a>"
      ]
    },
    {
      "cell_type": "markdown",
      "metadata": {
        "id": "e-N4xcm5-Sew"
      },
      "source": [
        "1) Имеются следующие данные о транзакциях в период с 01.12.2010 по 12.09.2011:  \n",
        "InvoiceNo – номер транзакции  \n",
        "StockCode – код товара  \n",
        "Description – описание товара  \n",
        "Quantity – количество единиц товара, добавленных в заказ  \n",
        "InvoiceDate – дата транзакции   \n",
        "UnitPrice – цена за единицу товара  \n",
        "CustomerID – id клиента  \n",
        "Country – страна, где проживает клиент  \n",
        "Импортируйте данные data.csv.zip (в папке) с кодировкой ISO-8859-1. Запишите полученный датафрейм в retail, а названия колонок сохраните в переменную retail_columns.  \n",
        "\n",
        "2) Проверьте, встречаются ли в данных повторяющиеся наблюдения, и в качестве ответа укажите их количество. Если они есть, то удалите их из retail.  \n",
        "\n",
        "3) ⭐️Задание со звёздочкой!⭐️  \n",
        "Данные содержат в себе записи как и об успешных транзакциях, так и об отмененных. Если пользователь отменил заказ, в начале номера транзакции (InvoiceNo) ставится C (canceled).   \n",
        "Сколько всего заказов отменили пользователи?  \n",
        "\n",
        "4) Теперь отфильтруйте данные и оставьте в retail только те заказы, где Quantity > 0. В качестве ответа укажите число оставшихся строк.  \n",
        "\n",
        "5) 💀 Сложное задание! 💀  \n",
        "Посчитайте число заказов для каждого пользователя (CustomerID) из Германии (Germany). Оставьте только тех, кто совершил более N транзакций (InvoiceNo), где N – 80% процентиль. Запишите полученные id пользователей в germany_top (не весь датафрейм, только id). Идентификатор заказа – InvoiceNo. Для каждого заказа в данных может встречаться более 1 строки.\n",
        "\n",
        "6) ⭐️Задание со звёздочкой!⭐️  \n",
        "Используя объект с id пользователей (germany_top), полученный на предыдущем шаге, отфильтруйте наблюдения и оставьте в данных записи только по интересующим нас юзерам. Результирующий датафрейм запишите в top_retail_germany.  \n",
        "\n",
        "7) Сгруппируйте top_retail_germany по коду товара (StockCode). Какой из продуктов добавляли в корзину чаще всего, кроме POST? \n",
        "Note: одним заказом считается единовременная покупка любого количества товара, т.е. без учета Quantity.  \n",
        "\n",
        "8) Вернемся к анализу полного датасета retail. Создайте колонку Revenue с суммой покупки, используя колонки Quantity и UnitPrice.  \n",
        "\n",
        "9) Для каждой транзакции (InvoiceNo), посчитайте финальную сумму заказа. В качестве ответа укажите топ-5 (InvoiceNo) по сумме заказа (через запятую с пробелом и в порядке убывания TotalRevenue)  \n"
      ]
    },
    {
      "cell_type": "markdown",
      "metadata": {
        "id": "51-HiguQ-YHy"
      },
      "source": [
        "![image.png](data:image/png;base64,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)"
      ]
    },
    {
      "cell_type": "code",
      "metadata": {
        "id": "gsFCs-K0-2n7"
      },
      "source": [
        "import pandas as pd"
      ],
      "execution_count": null,
      "outputs": []
    },
    {
      "cell_type": "markdown",
      "metadata": {
        "id": "qZknICl2_GtL"
      },
      "source": [
        "https://drive.google.com/file/d/1QF4ZYtOFs2ndKm9M_9vIODpcSzTUBFUn/view?usp=sharing"
      ]
    },
    {
      "cell_type": "code",
      "metadata": {
        "colab": {
          "base_uri": "https://localhost:8080/"
        },
        "id": "SY9uU1QE_Iaq",
        "outputId": "f205511a-0267-484d-c50b-980d09fb9658"
      },
      "source": [
        "!gdown --id 1QF4ZYtOFs2ndKm9M_9vIODpcSzTUBFUn"
      ],
      "execution_count": null,
      "outputs": [
        {
          "output_type": "stream",
          "name": "stdout",
          "text": [
            "Downloading...\n",
            "From: https://drive.google.com/uc?id=1QF4ZYtOFs2ndKm9M_9vIODpcSzTUBFUn\n",
            "To: /content/data.csv\n",
            "100% 45.6M/45.6M [00:00<00:00, 109MB/s] \n"
          ]
        }
      ]
    },
    {
      "cell_type": "markdown",
      "metadata": {
        "id": "hq71hmorAJOH"
      },
      "source": [
        "**Импортируйте данные data.csv.zip (в папке) с кодировкой ISO-8859-1. Запишите полученный датафрейм в retail, а названия колонок сохраните в переменную retail_columns.**"
      ]
    },
    {
      "cell_type": "code",
      "metadata": {
        "id": "-9boJGKN_OzL"
      },
      "source": [
        "retail = pd.read_csv('/content/data.csv',\n",
        "                 encoding = 'ISO-8859-1')"
      ],
      "execution_count": null,
      "outputs": []
    },
    {
      "cell_type": "code",
      "metadata": {
        "colab": {
          "base_uri": "https://localhost:8080/",
          "height": 204
        },
        "id": "lS3J8V8w_Uut",
        "outputId": "1eb3a208-8aa8-4814-a0b4-870b7e32dc53"
      },
      "source": [
        "retail.head()"
      ],
      "execution_count": null,
      "outputs": [
        {
          "output_type": "execute_result",
          "data": {
            "text/html": [
              "<div>\n",
              "<style scoped>\n",
              "    .dataframe tbody tr th:only-of-type {\n",
              "        vertical-align: middle;\n",
              "    }\n",
              "\n",
              "    .dataframe tbody tr th {\n",
              "        vertical-align: top;\n",
              "    }\n",
              "\n",
              "    .dataframe thead th {\n",
              "        text-align: right;\n",
              "    }\n",
              "</style>\n",
              "<table border=\"1\" class=\"dataframe\">\n",
              "  <thead>\n",
              "    <tr style=\"text-align: right;\">\n",
              "      <th></th>\n",
              "      <th>InvoiceNo</th>\n",
              "      <th>StockCode</th>\n",
              "      <th>Description</th>\n",
              "      <th>Quantity</th>\n",
              "      <th>InvoiceDate</th>\n",
              "      <th>UnitPrice</th>\n",
              "      <th>CustomerID</th>\n",
              "      <th>Country</th>\n",
              "    </tr>\n",
              "  </thead>\n",
              "  <tbody>\n",
              "    <tr>\n",
              "      <th>0</th>\n",
              "      <td>536365</td>\n",
              "      <td>85123A</td>\n",
              "      <td>WHITE HANGING HEART T-LIGHT HOLDER</td>\n",
              "      <td>6</td>\n",
              "      <td>12/1/2010 8:26</td>\n",
              "      <td>2.55</td>\n",
              "      <td>17850.0</td>\n",
              "      <td>United Kingdom</td>\n",
              "    </tr>\n",
              "    <tr>\n",
              "      <th>1</th>\n",
              "      <td>536365</td>\n",
              "      <td>71053</td>\n",
              "      <td>WHITE METAL LANTERN</td>\n",
              "      <td>6</td>\n",
              "      <td>12/1/2010 8:26</td>\n",
              "      <td>3.39</td>\n",
              "      <td>17850.0</td>\n",
              "      <td>United Kingdom</td>\n",
              "    </tr>\n",
              "    <tr>\n",
              "      <th>2</th>\n",
              "      <td>536365</td>\n",
              "      <td>84406B</td>\n",
              "      <td>CREAM CUPID HEARTS COAT HANGER</td>\n",
              "      <td>8</td>\n",
              "      <td>12/1/2010 8:26</td>\n",
              "      <td>2.75</td>\n",
              "      <td>17850.0</td>\n",
              "      <td>United Kingdom</td>\n",
              "    </tr>\n",
              "    <tr>\n",
              "      <th>3</th>\n",
              "      <td>536365</td>\n",
              "      <td>84029G</td>\n",
              "      <td>KNITTED UNION FLAG HOT WATER BOTTLE</td>\n",
              "      <td>6</td>\n",
              "      <td>12/1/2010 8:26</td>\n",
              "      <td>3.39</td>\n",
              "      <td>17850.0</td>\n",
              "      <td>United Kingdom</td>\n",
              "    </tr>\n",
              "    <tr>\n",
              "      <th>4</th>\n",
              "      <td>536365</td>\n",
              "      <td>84029E</td>\n",
              "      <td>RED WOOLLY HOTTIE WHITE HEART.</td>\n",
              "      <td>6</td>\n",
              "      <td>12/1/2010 8:26</td>\n",
              "      <td>3.39</td>\n",
              "      <td>17850.0</td>\n",
              "      <td>United Kingdom</td>\n",
              "    </tr>\n",
              "  </tbody>\n",
              "</table>\n",
              "</div>"
            ],
            "text/plain": [
              "  InvoiceNo StockCode  ... CustomerID         Country\n",
              "0    536365    85123A  ...    17850.0  United Kingdom\n",
              "1    536365     71053  ...    17850.0  United Kingdom\n",
              "2    536365    84406B  ...    17850.0  United Kingdom\n",
              "3    536365    84029G  ...    17850.0  United Kingdom\n",
              "4    536365    84029E  ...    17850.0  United Kingdom\n",
              "\n",
              "[5 rows x 8 columns]"
            ]
          },
          "metadata": {},
          "execution_count": 9
        }
      ]
    },
    {
      "cell_type": "code",
      "metadata": {
        "id": "Yb7ZvVh3ADqt"
      },
      "source": [
        "retail_columns = retail.columns"
      ],
      "execution_count": null,
      "outputs": []
    },
    {
      "cell_type": "code",
      "metadata": {
        "colab": {
          "base_uri": "https://localhost:8080/"
        },
        "id": "uLmDDJ2PAoiP",
        "outputId": "2c380eb6-1855-4cd4-ccdf-90bf837383d2"
      },
      "source": [
        "retail_columns"
      ],
      "execution_count": null,
      "outputs": [
        {
          "output_type": "execute_result",
          "data": {
            "text/plain": [
              "Index(['InvoiceNo', 'StockCode', 'Description', 'Quantity', 'InvoiceDate',\n",
              "       'UnitPrice', 'CustomerID', 'Country'],\n",
              "      dtype='object')"
            ]
          },
          "metadata": {},
          "execution_count": 12
        }
      ]
    },
    {
      "cell_type": "markdown",
      "metadata": {
        "id": "-T--dxUWAqwS"
      },
      "source": [
        "**2) Проверьте, встречаются ли в данных повторяющиеся наблюдения, и в качестве ответа укажите их количество. Если они есть, то удалите их из retail.**"
      ]
    },
    {
      "cell_type": "code",
      "metadata": {
        "colab": {
          "base_uri": "https://localhost:8080/"
        },
        "id": "7wuikRimAwR6",
        "outputId": "91706a56-9ecb-40d4-da7c-857c900e5ef3"
      },
      "source": [
        "retail.duplicated().sum()"
      ],
      "execution_count": null,
      "outputs": [
        {
          "output_type": "execute_result",
          "data": {
            "text/plain": [
              "5268"
            ]
          },
          "metadata": {},
          "execution_count": 15
        }
      ]
    },
    {
      "cell_type": "code",
      "metadata": {
        "id": "1wJGsLS8A2yr"
      },
      "source": [
        "retail.drop_duplicates(inplace = True)"
      ],
      "execution_count": null,
      "outputs": []
    },
    {
      "cell_type": "code",
      "metadata": {
        "colab": {
          "base_uri": "https://localhost:8080/"
        },
        "id": "E0OEEmnWBqQB",
        "outputId": "33e9f51d-6b50-4167-ccc3-8d082f3c2d51"
      },
      "source": [
        "retail.duplicated().sum()"
      ],
      "execution_count": null,
      "outputs": [
        {
          "output_type": "execute_result",
          "data": {
            "text/plain": [
              "0"
            ]
          },
          "metadata": {},
          "execution_count": 17
        }
      ]
    },
    {
      "cell_type": "markdown",
      "metadata": {
        "id": "SvEfhnxPBrrH"
      },
      "source": [
        "**3) ⭐️Задание со звёздочкой!⭐️\n",
        "Данные содержат в себе записи как и об успешных транзакциях, так и об отмененных. Если пользователь отменил заказ, в начале номера транзакции (InvoiceNo) ставится C (canceled).\n",
        "Сколько всего заказов отменили пользователи?**"
      ]
    },
    {
      "cell_type": "code",
      "metadata": {
        "colab": {
          "base_uri": "https://localhost:8080/",
          "height": 204
        },
        "id": "5aNqj9q7Bw0M",
        "outputId": "22589216-4162-4279-f470-ee8804b72f62"
      },
      "source": [
        "retail.head()"
      ],
      "execution_count": null,
      "outputs": [
        {
          "output_type": "execute_result",
          "data": {
            "text/html": [
              "<div>\n",
              "<style scoped>\n",
              "    .dataframe tbody tr th:only-of-type {\n",
              "        vertical-align: middle;\n",
              "    }\n",
              "\n",
              "    .dataframe tbody tr th {\n",
              "        vertical-align: top;\n",
              "    }\n",
              "\n",
              "    .dataframe thead th {\n",
              "        text-align: right;\n",
              "    }\n",
              "</style>\n",
              "<table border=\"1\" class=\"dataframe\">\n",
              "  <thead>\n",
              "    <tr style=\"text-align: right;\">\n",
              "      <th></th>\n",
              "      <th>InvoiceNo</th>\n",
              "      <th>StockCode</th>\n",
              "      <th>Description</th>\n",
              "      <th>Quantity</th>\n",
              "      <th>InvoiceDate</th>\n",
              "      <th>UnitPrice</th>\n",
              "      <th>CustomerID</th>\n",
              "      <th>Country</th>\n",
              "    </tr>\n",
              "  </thead>\n",
              "  <tbody>\n",
              "    <tr>\n",
              "      <th>0</th>\n",
              "      <td>536365</td>\n",
              "      <td>85123A</td>\n",
              "      <td>WHITE HANGING HEART T-LIGHT HOLDER</td>\n",
              "      <td>6</td>\n",
              "      <td>12/1/2010 8:26</td>\n",
              "      <td>2.55</td>\n",
              "      <td>17850.0</td>\n",
              "      <td>United Kingdom</td>\n",
              "    </tr>\n",
              "    <tr>\n",
              "      <th>1</th>\n",
              "      <td>536365</td>\n",
              "      <td>71053</td>\n",
              "      <td>WHITE METAL LANTERN</td>\n",
              "      <td>6</td>\n",
              "      <td>12/1/2010 8:26</td>\n",
              "      <td>3.39</td>\n",
              "      <td>17850.0</td>\n",
              "      <td>United Kingdom</td>\n",
              "    </tr>\n",
              "    <tr>\n",
              "      <th>2</th>\n",
              "      <td>536365</td>\n",
              "      <td>84406B</td>\n",
              "      <td>CREAM CUPID HEARTS COAT HANGER</td>\n",
              "      <td>8</td>\n",
              "      <td>12/1/2010 8:26</td>\n",
              "      <td>2.75</td>\n",
              "      <td>17850.0</td>\n",
              "      <td>United Kingdom</td>\n",
              "    </tr>\n",
              "    <tr>\n",
              "      <th>3</th>\n",
              "      <td>536365</td>\n",
              "      <td>84029G</td>\n",
              "      <td>KNITTED UNION FLAG HOT WATER BOTTLE</td>\n",
              "      <td>6</td>\n",
              "      <td>12/1/2010 8:26</td>\n",
              "      <td>3.39</td>\n",
              "      <td>17850.0</td>\n",
              "      <td>United Kingdom</td>\n",
              "    </tr>\n",
              "    <tr>\n",
              "      <th>4</th>\n",
              "      <td>536365</td>\n",
              "      <td>84029E</td>\n",
              "      <td>RED WOOLLY HOTTIE WHITE HEART.</td>\n",
              "      <td>6</td>\n",
              "      <td>12/1/2010 8:26</td>\n",
              "      <td>3.39</td>\n",
              "      <td>17850.0</td>\n",
              "      <td>United Kingdom</td>\n",
              "    </tr>\n",
              "  </tbody>\n",
              "</table>\n",
              "</div>"
            ],
            "text/plain": [
              "  InvoiceNo StockCode  ... CustomerID         Country\n",
              "0    536365    85123A  ...    17850.0  United Kingdom\n",
              "1    536365     71053  ...    17850.0  United Kingdom\n",
              "2    536365    84406B  ...    17850.0  United Kingdom\n",
              "3    536365    84029G  ...    17850.0  United Kingdom\n",
              "4    536365    84029E  ...    17850.0  United Kingdom\n",
              "\n",
              "[5 rows x 8 columns]"
            ]
          },
          "metadata": {},
          "execution_count": 18
        }
      ]
    },
    {
      "cell_type": "code",
      "metadata": {
        "id": "RUeGMmkDPCfW"
      },
      "source": [
        "row = retail.InvoiceNo"
      ],
      "execution_count": null,
      "outputs": []
    },
    {
      "cell_type": "code",
      "metadata": {
        "colab": {
          "base_uri": "https://localhost:8080/"
        },
        "id": "kMSBDMssPYFo",
        "outputId": "9a8ec578-eb5c-4299-ab69-cec613d09e49"
      },
      "source": [
        "row"
      ],
      "execution_count": null,
      "outputs": [
        {
          "output_type": "execute_result",
          "data": {
            "text/plain": [
              "0         536365\n",
              "1         536365\n",
              "2         536365\n",
              "3         536365\n",
              "4         536365\n",
              "           ...  \n",
              "541904    581587\n",
              "541905    581587\n",
              "541906    581587\n",
              "541907    581587\n",
              "541908    581587\n",
              "Name: InvoiceNo, Length: 536641, dtype: object"
            ]
          },
          "metadata": {},
          "execution_count": 22
        }
      ]
    },
    {
      "cell_type": "code",
      "metadata": {
        "id": "Mrw8J81WPh-Z"
      },
      "source": [
        "result= []\n",
        "for i in row:\n",
        "  if 'C' in i:\n",
        "    result.append(i)"
      ],
      "execution_count": null,
      "outputs": []
    },
    {
      "cell_type": "code",
      "metadata": {
        "colab": {
          "base_uri": "https://localhost:8080/"
        },
        "id": "Blam0jB9PmZo",
        "outputId": "2c54e701-41e3-42f2-e785-08e991b45a16"
      },
      "source": [
        "len(result)"
      ],
      "execution_count": null,
      "outputs": [
        {
          "output_type": "execute_result",
          "data": {
            "text/plain": [
              "9251"
            ]
          },
          "metadata": {},
          "execution_count": 27
        }
      ]
    },
    {
      "cell_type": "markdown",
      "metadata": {
        "id": "OhA__p2bQFNw"
      },
      "source": [
        "**4) Теперь отфильтруйте данные и оставьте в retail только те заказы, где Quantity > 0. В качестве ответа укажите число оставшихся строк.**"
      ]
    },
    {
      "cell_type": "code",
      "metadata": {
        "id": "ZCYFzLfVQn11"
      },
      "source": [
        "retail = retail.query('Quantity > 0')"
      ],
      "execution_count": null,
      "outputs": []
    },
    {
      "cell_type": "code",
      "metadata": {
        "colab": {
          "base_uri": "https://localhost:8080/"
        },
        "id": "CQym1_V8QrsB",
        "outputId": "e26c9551-e020-4d35-8f3e-d85c305a5d99"
      },
      "source": [
        "retail.shape[0]"
      ],
      "execution_count": null,
      "outputs": [
        {
          "output_type": "execute_result",
          "data": {
            "text/plain": [
              "526054"
            ]
          },
          "metadata": {},
          "execution_count": 35
        }
      ]
    },
    {
      "cell_type": "markdown",
      "metadata": {
        "id": "UFy4hIGuRHtn"
      },
      "source": [
        "**5) 💀 Сложное задание! 💀\n",
        "Посчитайте число заказов для каждого пользователя (CustomerID) из Германии (Germany). Оставьте только тех, кто совершил более N транзакций (InvoiceNo), где N – 80% процентиль. Запишите полученные id пользователей в germany_top (не весь датафрейм, только id). Идентификатор заказа – InvoiceNo. Для каждого заказа в данных может встречаться более 1 строки.**"
      ]
    },
    {
      "cell_type": "code",
      "metadata": {
        "colab": {
          "base_uri": "https://localhost:8080/",
          "height": 204
        },
        "id": "jlDSGMI7RRUk",
        "outputId": "1ad3bf51-4062-4dfb-ace3-164fd88bede7"
      },
      "source": [
        "retail.head()"
      ],
      "execution_count": null,
      "outputs": [
        {
          "output_type": "execute_result",
          "data": {
            "text/html": [
              "<div>\n",
              "<style scoped>\n",
              "    .dataframe tbody tr th:only-of-type {\n",
              "        vertical-align: middle;\n",
              "    }\n",
              "\n",
              "    .dataframe tbody tr th {\n",
              "        vertical-align: top;\n",
              "    }\n",
              "\n",
              "    .dataframe thead th {\n",
              "        text-align: right;\n",
              "    }\n",
              "</style>\n",
              "<table border=\"1\" class=\"dataframe\">\n",
              "  <thead>\n",
              "    <tr style=\"text-align: right;\">\n",
              "      <th></th>\n",
              "      <th>InvoiceNo</th>\n",
              "      <th>StockCode</th>\n",
              "      <th>Description</th>\n",
              "      <th>Quantity</th>\n",
              "      <th>InvoiceDate</th>\n",
              "      <th>UnitPrice</th>\n",
              "      <th>CustomerID</th>\n",
              "      <th>Country</th>\n",
              "    </tr>\n",
              "  </thead>\n",
              "  <tbody>\n",
              "    <tr>\n",
              "      <th>0</th>\n",
              "      <td>536365</td>\n",
              "      <td>85123A</td>\n",
              "      <td>WHITE HANGING HEART T-LIGHT HOLDER</td>\n",
              "      <td>6</td>\n",
              "      <td>12/1/2010 8:26</td>\n",
              "      <td>2.55</td>\n",
              "      <td>17850.0</td>\n",
              "      <td>United Kingdom</td>\n",
              "    </tr>\n",
              "    <tr>\n",
              "      <th>1</th>\n",
              "      <td>536365</td>\n",
              "      <td>71053</td>\n",
              "      <td>WHITE METAL LANTERN</td>\n",
              "      <td>6</td>\n",
              "      <td>12/1/2010 8:26</td>\n",
              "      <td>3.39</td>\n",
              "      <td>17850.0</td>\n",
              "      <td>United Kingdom</td>\n",
              "    </tr>\n",
              "    <tr>\n",
              "      <th>2</th>\n",
              "      <td>536365</td>\n",
              "      <td>84406B</td>\n",
              "      <td>CREAM CUPID HEARTS COAT HANGER</td>\n",
              "      <td>8</td>\n",
              "      <td>12/1/2010 8:26</td>\n",
              "      <td>2.75</td>\n",
              "      <td>17850.0</td>\n",
              "      <td>United Kingdom</td>\n",
              "    </tr>\n",
              "    <tr>\n",
              "      <th>3</th>\n",
              "      <td>536365</td>\n",
              "      <td>84029G</td>\n",
              "      <td>KNITTED UNION FLAG HOT WATER BOTTLE</td>\n",
              "      <td>6</td>\n",
              "      <td>12/1/2010 8:26</td>\n",
              "      <td>3.39</td>\n",
              "      <td>17850.0</td>\n",
              "      <td>United Kingdom</td>\n",
              "    </tr>\n",
              "    <tr>\n",
              "      <th>4</th>\n",
              "      <td>536365</td>\n",
              "      <td>84029E</td>\n",
              "      <td>RED WOOLLY HOTTIE WHITE HEART.</td>\n",
              "      <td>6</td>\n",
              "      <td>12/1/2010 8:26</td>\n",
              "      <td>3.39</td>\n",
              "      <td>17850.0</td>\n",
              "      <td>United Kingdom</td>\n",
              "    </tr>\n",
              "  </tbody>\n",
              "</table>\n",
              "</div>"
            ],
            "text/plain": [
              "  InvoiceNo StockCode  ... CustomerID         Country\n",
              "0    536365    85123A  ...    17850.0  United Kingdom\n",
              "1    536365     71053  ...    17850.0  United Kingdom\n",
              "2    536365    84406B  ...    17850.0  United Kingdom\n",
              "3    536365    84029G  ...    17850.0  United Kingdom\n",
              "4    536365    84029E  ...    17850.0  United Kingdom\n",
              "\n",
              "[5 rows x 8 columns]"
            ]
          },
          "metadata": {},
          "execution_count": 36
        }
      ]
    },
    {
      "cell_type": "code",
      "metadata": {
        "id": "rfjvtLyXRoAQ"
      },
      "source": [
        "german = retail.query('Country == \"Germany\"').groupby('CustomerID',as_index=False).agg({'InvoiceNo':pd.Series.nunique}). \\\n",
        "         rename(columns=({'InvoiceNo':'cnt'}))\n"
      ],
      "execution_count": null,
      "outputs": []
    },
    {
      "cell_type": "code",
      "metadata": {
        "colab": {
          "base_uri": "https://localhost:8080/",
          "height": 297
        },
        "id": "bvSkuKqdSjY8",
        "outputId": "1fc41802-6961-45ee-a03c-5e925145d859"
      },
      "source": [
        "german.describe()"
      ],
      "execution_count": null,
      "outputs": [
        {
          "output_type": "execute_result",
          "data": {
            "text/html": [
              "<div>\n",
              "<style scoped>\n",
              "    .dataframe tbody tr th:only-of-type {\n",
              "        vertical-align: middle;\n",
              "    }\n",
              "\n",
              "    .dataframe tbody tr th {\n",
              "        vertical-align: top;\n",
              "    }\n",
              "\n",
              "    .dataframe thead th {\n",
              "        text-align: right;\n",
              "    }\n",
              "</style>\n",
              "<table border=\"1\" class=\"dataframe\">\n",
              "  <thead>\n",
              "    <tr style=\"text-align: right;\">\n",
              "      <th></th>\n",
              "      <th>CustomerID</th>\n",
              "      <th>cnt</th>\n",
              "    </tr>\n",
              "  </thead>\n",
              "  <tbody>\n",
              "    <tr>\n",
              "      <th>count</th>\n",
              "      <td>94.000000</td>\n",
              "      <td>94.000000</td>\n",
              "    </tr>\n",
              "    <tr>\n",
              "      <th>mean</th>\n",
              "      <td>12706.829787</td>\n",
              "      <td>4.861702</td>\n",
              "    </tr>\n",
              "    <tr>\n",
              "      <th>std</th>\n",
              "      <td>392.019712</td>\n",
              "      <td>5.908989</td>\n",
              "    </tr>\n",
              "    <tr>\n",
              "      <th>min</th>\n",
              "      <td>12426.000000</td>\n",
              "      <td>1.000000</td>\n",
              "    </tr>\n",
              "    <tr>\n",
              "      <th>25%</th>\n",
              "      <td>12520.250000</td>\n",
              "      <td>1.000000</td>\n",
              "    </tr>\n",
              "    <tr>\n",
              "      <th>50%</th>\n",
              "      <td>12606.000000</td>\n",
              "      <td>3.000000</td>\n",
              "    </tr>\n",
              "    <tr>\n",
              "      <th>75%</th>\n",
              "      <td>12664.250000</td>\n",
              "      <td>5.000000</td>\n",
              "    </tr>\n",
              "    <tr>\n",
              "      <th>max</th>\n",
              "      <td>14335.000000</td>\n",
              "      <td>32.000000</td>\n",
              "    </tr>\n",
              "  </tbody>\n",
              "</table>\n",
              "</div>"
            ],
            "text/plain": [
              "         CustomerID        cnt\n",
              "count     94.000000  94.000000\n",
              "mean   12706.829787   4.861702\n",
              "std      392.019712   5.908989\n",
              "min    12426.000000   1.000000\n",
              "25%    12520.250000   1.000000\n",
              "50%    12606.000000   3.000000\n",
              "75%    12664.250000   5.000000\n",
              "max    14335.000000  32.000000"
            ]
          },
          "metadata": {},
          "execution_count": 61
        }
      ]
    },
    {
      "cell_type": "code",
      "metadata": {
        "id": "2XO2hjUuR0h6"
      },
      "source": [
        "top_clients = german.query('cnt > cnt.quantile(0.8)').sort_values(by = 'cnt', ascending = False)"
      ],
      "execution_count": null,
      "outputs": []
    },
    {
      "cell_type": "code",
      "metadata": {
        "id": "XyMuabbHR2Yp"
      },
      "source": [
        "germany_top = top_clients.CustomerID"
      ],
      "execution_count": null,
      "outputs": []
    },
    {
      "cell_type": "markdown",
      "metadata": {
        "id": "W5gIHHdhUqsh"
      },
      "source": [
        "**6) ⭐️Задание со звёздочкой!⭐️\n",
        "Используя объект с id пользователей (germany_top), полученный на предыдущем шаге, отфильтруйте наблюдения и оставьте в данных записи только по интересующим нас юзерам. Результирующий датафрейм запишите в top_retail_germany.**"
      ]
    },
    {
      "cell_type": "code",
      "metadata": {
        "id": "aletGxZ3Uzxp",
        "colab": {
          "base_uri": "https://localhost:8080/"
        },
        "outputId": "7fe26d97-4226-40b6-b23a-03597e52fae2"
      },
      "source": [
        "germany_top"
      ],
      "execution_count": null,
      "outputs": [
        {
          "output_type": "execute_result",
          "data": {
            "text/plain": [
              "37    12569.0\n",
              "3     12471.0\n",
              "83    12720.0\n",
              "52    12621.0\n",
              "6     12474.0\n",
              "79    12709.0\n",
              "81    12712.0\n",
              "64    12647.0\n",
              "16    12500.0\n",
              "8     12476.0\n",
              "69    12662.0\n",
              "12    12481.0\n",
              "44    12600.0\n",
              "78    12708.0\n",
              "51    12619.0\n",
              "56    12626.0\n",
              "77    12705.0\n",
              "26    12524.0\n",
              "Name: CustomerID, dtype: float64"
            ]
          },
          "metadata": {},
          "execution_count": 67
        }
      ]
    },
    {
      "cell_type": "code",
      "metadata": {
        "id": "qGBkhMQ4foxE"
      },
      "source": [
        "top_retail_germany = retail.query('CustomerID in @germany_top')"
      ],
      "execution_count": null,
      "outputs": []
    },
    {
      "cell_type": "markdown",
      "metadata": {
        "id": "qH6moYBng2EX"
      },
      "source": [
        "**7) Сгруппируйте top_retail_germany по коду товара (StockCode). Какой из продуктов добавляли в корзину чаще всего, кроме POST? Note: одним заказом считается единовременная покупка любого количества товара, т.е. без учета Quantity.**"
      ]
    },
    {
      "cell_type": "code",
      "metadata": {
        "colab": {
          "base_uri": "https://localhost:8080/",
          "height": 204
        },
        "id": "Ki4MkbG2hQeR",
        "outputId": "cda164ca-2867-4215-92fe-1e3830e7cd1e"
      },
      "source": [
        "top_retail_germany.head()"
      ],
      "execution_count": null,
      "outputs": [
        {
          "output_type": "execute_result",
          "data": {
            "text/html": [
              "<div>\n",
              "<style scoped>\n",
              "    .dataframe tbody tr th:only-of-type {\n",
              "        vertical-align: middle;\n",
              "    }\n",
              "\n",
              "    .dataframe tbody tr th {\n",
              "        vertical-align: top;\n",
              "    }\n",
              "\n",
              "    .dataframe thead th {\n",
              "        text-align: right;\n",
              "    }\n",
              "</style>\n",
              "<table border=\"1\" class=\"dataframe\">\n",
              "  <thead>\n",
              "    <tr style=\"text-align: right;\">\n",
              "      <th></th>\n",
              "      <th>InvoiceNo</th>\n",
              "      <th>StockCode</th>\n",
              "      <th>Description</th>\n",
              "      <th>Quantity</th>\n",
              "      <th>InvoiceDate</th>\n",
              "      <th>UnitPrice</th>\n",
              "      <th>CustomerID</th>\n",
              "      <th>Country</th>\n",
              "    </tr>\n",
              "  </thead>\n",
              "  <tbody>\n",
              "    <tr>\n",
              "      <th>1109</th>\n",
              "      <td>536527</td>\n",
              "      <td>22809</td>\n",
              "      <td>SET OF 6 T-LIGHTS SANTA</td>\n",
              "      <td>6</td>\n",
              "      <td>12/1/2010 13:04</td>\n",
              "      <td>2.95</td>\n",
              "      <td>12662.0</td>\n",
              "      <td>Germany</td>\n",
              "    </tr>\n",
              "    <tr>\n",
              "      <th>1110</th>\n",
              "      <td>536527</td>\n",
              "      <td>84347</td>\n",
              "      <td>ROTATING SILVER ANGELS T-LIGHT HLDR</td>\n",
              "      <td>6</td>\n",
              "      <td>12/1/2010 13:04</td>\n",
              "      <td>2.55</td>\n",
              "      <td>12662.0</td>\n",
              "      <td>Germany</td>\n",
              "    </tr>\n",
              "    <tr>\n",
              "      <th>1111</th>\n",
              "      <td>536527</td>\n",
              "      <td>84945</td>\n",
              "      <td>MULTI COLOUR SILVER T-LIGHT HOLDER</td>\n",
              "      <td>12</td>\n",
              "      <td>12/1/2010 13:04</td>\n",
              "      <td>0.85</td>\n",
              "      <td>12662.0</td>\n",
              "      <td>Germany</td>\n",
              "    </tr>\n",
              "    <tr>\n",
              "      <th>1112</th>\n",
              "      <td>536527</td>\n",
              "      <td>22242</td>\n",
              "      <td>5 HOOK HANGER MAGIC TOADSTOOL</td>\n",
              "      <td>12</td>\n",
              "      <td>12/1/2010 13:04</td>\n",
              "      <td>1.65</td>\n",
              "      <td>12662.0</td>\n",
              "      <td>Germany</td>\n",
              "    </tr>\n",
              "    <tr>\n",
              "      <th>1113</th>\n",
              "      <td>536527</td>\n",
              "      <td>22244</td>\n",
              "      <td>3 HOOK HANGER MAGIC GARDEN</td>\n",
              "      <td>12</td>\n",
              "      <td>12/1/2010 13:04</td>\n",
              "      <td>1.95</td>\n",
              "      <td>12662.0</td>\n",
              "      <td>Germany</td>\n",
              "    </tr>\n",
              "  </tbody>\n",
              "</table>\n",
              "</div>"
            ],
            "text/plain": [
              "     InvoiceNo StockCode  ... CustomerID  Country\n",
              "1109    536527     22809  ...    12662.0  Germany\n",
              "1110    536527     84347  ...    12662.0  Germany\n",
              "1111    536527     84945  ...    12662.0  Germany\n",
              "1112    536527     22242  ...    12662.0  Germany\n",
              "1113    536527     22244  ...    12662.0  Germany\n",
              "\n",
              "[5 rows x 8 columns]"
            ]
          },
          "metadata": {},
          "execution_count": 70
        }
      ]
    },
    {
      "cell_type": "code",
      "metadata": {
        "colab": {
          "base_uri": "https://localhost:8080/"
        },
        "id": "VjwbScEBhSnI",
        "outputId": "3969186f-6df5-42e9-ace8-dcbafcbc6f85"
      },
      "source": [
        "top_retail_germany.query('StockCode != \"POST\"').StockCode.value_counts()"
      ],
      "execution_count": null,
      "outputs": [
        {
          "output_type": "execute_result",
          "data": {
            "text/plain": [
              "22326    52\n",
              "22328    38\n",
              "22423    34\n",
              "20719    30\n",
              "22961    28\n",
              "         ..\n",
              "23535     1\n",
              "23219     1\n",
              "23167     1\n",
              "23503     1\n",
              "22480     1\n",
              "Name: StockCode, Length: 1157, dtype: int64"
            ]
          },
          "metadata": {},
          "execution_count": 79
        }
      ]
    },
    {
      "cell_type": "markdown",
      "metadata": {
        "id": "ku0VWOlehhDE"
      },
      "source": [
        "**8) Вернемся к анализу полного датасета retail. Создайте колонку Revenue с суммой покупки, используя колонки Quantity и UnitPrice.**"
      ]
    },
    {
      "cell_type": "code",
      "metadata": {
        "colab": {
          "base_uri": "https://localhost:8080/"
        },
        "id": "gxu-3AIVihN6",
        "outputId": "9005f434-8dc2-4f33-e9a6-831ee07eb106"
      },
      "source": [
        "retail['revenue'] = retail['Quantity'] * retail['UnitPrice']"
      ],
      "execution_count": null,
      "outputs": [
        {
          "output_type": "stream",
          "name": "stderr",
          "text": [
            "/usr/local/lib/python3.7/dist-packages/ipykernel_launcher.py:1: SettingWithCopyWarning: \n",
            "A value is trying to be set on a copy of a slice from a DataFrame.\n",
            "Try using .loc[row_indexer,col_indexer] = value instead\n",
            "\n",
            "See the caveats in the documentation: https://pandas.pydata.org/pandas-docs/stable/user_guide/indexing.html#returning-a-view-versus-a-copy\n",
            "  \"\"\"Entry point for launching an IPython kernel.\n"
          ]
        }
      ]
    },
    {
      "cell_type": "code",
      "metadata": {
        "colab": {
          "base_uri": "https://localhost:8080/",
          "height": 420
        },
        "id": "xj9m6xZTih-P",
        "outputId": "29dc8294-21aa-441e-bb73-426eeb8cea79"
      },
      "source": [
        "retail"
      ],
      "execution_count": null,
      "outputs": [
        {
          "output_type": "execute_result",
          "data": {
            "text/html": [
              "<div>\n",
              "<style scoped>\n",
              "    .dataframe tbody tr th:only-of-type {\n",
              "        vertical-align: middle;\n",
              "    }\n",
              "\n",
              "    .dataframe tbody tr th {\n",
              "        vertical-align: top;\n",
              "    }\n",
              "\n",
              "    .dataframe thead th {\n",
              "        text-align: right;\n",
              "    }\n",
              "</style>\n",
              "<table border=\"1\" class=\"dataframe\">\n",
              "  <thead>\n",
              "    <tr style=\"text-align: right;\">\n",
              "      <th></th>\n",
              "      <th>InvoiceNo</th>\n",
              "      <th>StockCode</th>\n",
              "      <th>Description</th>\n",
              "      <th>Quantity</th>\n",
              "      <th>InvoiceDate</th>\n",
              "      <th>UnitPrice</th>\n",
              "      <th>CustomerID</th>\n",
              "      <th>Country</th>\n",
              "      <th>revenue</th>\n",
              "    </tr>\n",
              "  </thead>\n",
              "  <tbody>\n",
              "    <tr>\n",
              "      <th>0</th>\n",
              "      <td>536365</td>\n",
              "      <td>85123A</td>\n",
              "      <td>WHITE HANGING HEART T-LIGHT HOLDER</td>\n",
              "      <td>6</td>\n",
              "      <td>12/1/2010 8:26</td>\n",
              "      <td>2.55</td>\n",
              "      <td>17850.0</td>\n",
              "      <td>United Kingdom</td>\n",
              "      <td>15.30</td>\n",
              "    </tr>\n",
              "    <tr>\n",
              "      <th>1</th>\n",
              "      <td>536365</td>\n",
              "      <td>71053</td>\n",
              "      <td>WHITE METAL LANTERN</td>\n",
              "      <td>6</td>\n",
              "      <td>12/1/2010 8:26</td>\n",
              "      <td>3.39</td>\n",
              "      <td>17850.0</td>\n",
              "      <td>United Kingdom</td>\n",
              "      <td>20.34</td>\n",
              "    </tr>\n",
              "    <tr>\n",
              "      <th>2</th>\n",
              "      <td>536365</td>\n",
              "      <td>84406B</td>\n",
              "      <td>CREAM CUPID HEARTS COAT HANGER</td>\n",
              "      <td>8</td>\n",
              "      <td>12/1/2010 8:26</td>\n",
              "      <td>2.75</td>\n",
              "      <td>17850.0</td>\n",
              "      <td>United Kingdom</td>\n",
              "      <td>22.00</td>\n",
              "    </tr>\n",
              "    <tr>\n",
              "      <th>3</th>\n",
              "      <td>536365</td>\n",
              "      <td>84029G</td>\n",
              "      <td>KNITTED UNION FLAG HOT WATER BOTTLE</td>\n",
              "      <td>6</td>\n",
              "      <td>12/1/2010 8:26</td>\n",
              "      <td>3.39</td>\n",
              "      <td>17850.0</td>\n",
              "      <td>United Kingdom</td>\n",
              "      <td>20.34</td>\n",
              "    </tr>\n",
              "    <tr>\n",
              "      <th>4</th>\n",
              "      <td>536365</td>\n",
              "      <td>84029E</td>\n",
              "      <td>RED WOOLLY HOTTIE WHITE HEART.</td>\n",
              "      <td>6</td>\n",
              "      <td>12/1/2010 8:26</td>\n",
              "      <td>3.39</td>\n",
              "      <td>17850.0</td>\n",
              "      <td>United Kingdom</td>\n",
              "      <td>20.34</td>\n",
              "    </tr>\n",
              "    <tr>\n",
              "      <th>...</th>\n",
              "      <td>...</td>\n",
              "      <td>...</td>\n",
              "      <td>...</td>\n",
              "      <td>...</td>\n",
              "      <td>...</td>\n",
              "      <td>...</td>\n",
              "      <td>...</td>\n",
              "      <td>...</td>\n",
              "      <td>...</td>\n",
              "    </tr>\n",
              "    <tr>\n",
              "      <th>541904</th>\n",
              "      <td>581587</td>\n",
              "      <td>22613</td>\n",
              "      <td>PACK OF 20 SPACEBOY NAPKINS</td>\n",
              "      <td>12</td>\n",
              "      <td>12/9/2011 12:50</td>\n",
              "      <td>0.85</td>\n",
              "      <td>12680.0</td>\n",
              "      <td>France</td>\n",
              "      <td>10.20</td>\n",
              "    </tr>\n",
              "    <tr>\n",
              "      <th>541905</th>\n",
              "      <td>581587</td>\n",
              "      <td>22899</td>\n",
              "      <td>CHILDREN'S APRON DOLLY GIRL</td>\n",
              "      <td>6</td>\n",
              "      <td>12/9/2011 12:50</td>\n",
              "      <td>2.10</td>\n",
              "      <td>12680.0</td>\n",
              "      <td>France</td>\n",
              "      <td>12.60</td>\n",
              "    </tr>\n",
              "    <tr>\n",
              "      <th>541906</th>\n",
              "      <td>581587</td>\n",
              "      <td>23254</td>\n",
              "      <td>CHILDRENS CUTLERY DOLLY GIRL</td>\n",
              "      <td>4</td>\n",
              "      <td>12/9/2011 12:50</td>\n",
              "      <td>4.15</td>\n",
              "      <td>12680.0</td>\n",
              "      <td>France</td>\n",
              "      <td>16.60</td>\n",
              "    </tr>\n",
              "    <tr>\n",
              "      <th>541907</th>\n",
              "      <td>581587</td>\n",
              "      <td>23255</td>\n",
              "      <td>CHILDRENS CUTLERY CIRCUS PARADE</td>\n",
              "      <td>4</td>\n",
              "      <td>12/9/2011 12:50</td>\n",
              "      <td>4.15</td>\n",
              "      <td>12680.0</td>\n",
              "      <td>France</td>\n",
              "      <td>16.60</td>\n",
              "    </tr>\n",
              "    <tr>\n",
              "      <th>541908</th>\n",
              "      <td>581587</td>\n",
              "      <td>22138</td>\n",
              "      <td>BAKING SET 9 PIECE RETROSPOT</td>\n",
              "      <td>3</td>\n",
              "      <td>12/9/2011 12:50</td>\n",
              "      <td>4.95</td>\n",
              "      <td>12680.0</td>\n",
              "      <td>France</td>\n",
              "      <td>14.85</td>\n",
              "    </tr>\n",
              "  </tbody>\n",
              "</table>\n",
              "<p>526054 rows × 9 columns</p>\n",
              "</div>"
            ],
            "text/plain": [
              "       InvoiceNo StockCode  ...         Country  revenue\n",
              "0         536365    85123A  ...  United Kingdom    15.30\n",
              "1         536365     71053  ...  United Kingdom    20.34\n",
              "2         536365    84406B  ...  United Kingdom    22.00\n",
              "3         536365    84029G  ...  United Kingdom    20.34\n",
              "4         536365    84029E  ...  United Kingdom    20.34\n",
              "...          ...       ...  ...             ...      ...\n",
              "541904    581587     22613  ...          France    10.20\n",
              "541905    581587     22899  ...          France    12.60\n",
              "541906    581587     23254  ...          France    16.60\n",
              "541907    581587     23255  ...          France    16.60\n",
              "541908    581587     22138  ...          France    14.85\n",
              "\n",
              "[526054 rows x 9 columns]"
            ]
          },
          "metadata": {},
          "execution_count": 81
        }
      ]
    },
    {
      "cell_type": "markdown",
      "metadata": {
        "id": "9sFy5nzaiiPI"
      },
      "source": [
        "**9) Для каждой транзакции (InvoiceNo), посчитайте финальную сумму заказа. В качестве ответа укажите топ-5 (InvoiceNo) по сумме заказа (через запятую с пробелом и в порядке убывания TotalRevenue)**"
      ]
    },
    {
      "cell_type": "code",
      "metadata": {
        "colab": {
          "base_uri": "https://localhost:8080/"
        },
        "id": "wWhSKnFDijID",
        "outputId": "f1de43bc-1c12-4263-ba08-58bf5a40a732"
      },
      "source": [
        "t = retail.groupby('InvoiceNo',as_index = False).agg({'revenue':'sum'}).sort_values(by = 'revenue', ascending = False).InvoiceNo.head()\n",
        "t"
      ],
      "execution_count": null,
      "outputs": [
        {
          "output_type": "execute_result",
          "data": {
            "text/plain": [
              "20689    581483\n",
              "2202     541431\n",
              "17582    574941\n",
              "18251    576365\n",
              "9034     556444\n",
              "Name: InvoiceNo, dtype: object"
            ]
          },
          "metadata": {},
          "execution_count": 91
        }
      ]
    },
    {
      "cell_type": "code",
      "metadata": {
        "colab": {
          "base_uri": "https://localhost:8080/"
        },
        "id": "dFNtRFFmjx0N",
        "outputId": "eb43f5ec-c4ff-4330-92a0-6b3ea9a90224"
      },
      "source": [
        "t.tolist()"
      ],
      "execution_count": null,
      "outputs": [
        {
          "output_type": "execute_result",
          "data": {
            "text/plain": [
              "['581483', '541431', '574941', '576365', '556444']"
            ]
          },
          "metadata": {},
          "execution_count": 92
        }
      ]
    },
    {
      "cell_type": "code",
      "metadata": {
        "id": "D8t9HCIQkYQi"
      },
      "source": [
        ""
      ],
      "execution_count": null,
      "outputs": []
    }
  ]
}