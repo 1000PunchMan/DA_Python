{
  "nbformat": 4,
  "nbformat_minor": 0,
  "metadata": {
    "colab": {
      "name": "Karpov_course_howework3",
      "provenance": [],
      "collapsed_sections": [],
      "authorship_tag": "ABX9TyMf0dER1pMulmuyi0b9F4IO",
      "include_colab_link": true
    },
    "kernelspec": {
      "name": "python3",
      "display_name": "Python 3"
    },
    "language_info": {
      "name": "python"
    }
  },
  "cells": [
    {
      "cell_type": "markdown",
      "metadata": {
        "id": "view-in-github",
        "colab_type": "text"
      },
      "source": [
        "<a href=\"https://colab.research.google.com/github/1000PunchMan/DA_Python/blob/main/Karpov_course_howework3.ipynb\" target=\"_parent\"><img src=\"https://colab.research.google.com/assets/colab-badge.svg\" alt=\"Open In Colab\"/></a>"
      ]
    },
    {
      "cell_type": "markdown",
      "metadata": {
        "id": "g61_A3t_ZV5k"
      },
      "source": [
        "1) Строка names содержит имена в формате 'Name1 Surname1, Name2 Surname2, …'.\n",
        "Поместите в переменную names_list список со строками имён – ['Name1 Surname1', 'Name2 Surname2', …]\n",
        "\n",
        "2) В переменной df содержатся данные как на картинке task2.png (находится в папке с заданием)\n",
        "Отберите из них только те, где wealth 'medium', а возраст больше 35, и поместите в переменную medium_35\n",
        "\n",
        "3) Ваш коллега-новичок перепутал названия колонок в таблице из предыдущих заданий и прислал вам такой вариант task3.png (находится в папке с заданием)\n",
        "Приведите таблицу к каноничному виду, сохранив её в ту же переменную df, где сейчас находится нестандартно наименнованная таблица (воспользуйтесь методом rename)\n",
        "Note: колонка называется Клиент id - шрифт плохо передаёт кейс i в id\n",
        "\n",
        "4)Добавьте в исследуемый нами датафрэйм df колонку older_than_30, в которой будет храниться больше ли возраст 30 лет (булиновское значение)\n",
        "\n",
        "5) А теперь получите серию с числом уникальных значений для каждой колонки и присвойте её переменной unique_num\n",
        "\n",
        "6) У нас появились новые данные! Переменная data хранит в себе датафрэйм следующего вида: task6.png\n",
        "Проведите inner join датафрейма data с df из предыдущего шага, объединив их по колонке client_id, и поместите результат в переменную full_data (да, придумывать переменные иногда бывает сложно)\n",
        "\n",
        "7)💀 Сложное задание! 💀\n",
        "А теперь создадим свою собственную функцию!\n",
        "Напишите функцию read_n_agg, которая \n",
        "- принимает на вход один параметр – путь к файлу\n",
        "- считывает переданный файл, в котором разделителем является ;\n",
        "- считает средний заработок (income) по каждой компании (company), перенося колонку company в индекс (as_index=True)\n",
        "- возвращает результат этих действий (агрегированный датафрэйм)\n",
        "Данные выглядят как в task7.png, датасэт в файле companies.csv\n",
        "\n",
        "8) Вернемся к данным по поездкам на такси! На этот раз – из Перу, с рейтингами водителей, пассажиров, координатами, и парой других деталей!\n",
        "journey_id – уникальный id поездки\n",
        "user_id – id пользователя\n",
        "driver_id – id водителя\n",
        "taxi_id – id машины\n",
        "icon – тип поездки\n",
        "start_type – тип заказа (asap, reserved, delayed)\n",
        "start_at – время начала поездки\n",
        "start_lat – исходное местоположение пользователя, широта\n",
        "start_lon – исходное местоположение пользователя, долгота\n",
        "end_at – время окончания поездки\n",
        "end_lat – итоговое местоположение, широта\n",
        "end_lon – итоговое местоположение, долгота\n",
        "end_state – состояние заказа\n",
        "driver_start_lat – исходное местоположение водителя, широта\n",
        "driver_start_lon – исходное местоположение водителя, долгота\n",
        "arrived_at – время прибытия водителя\n",
        "source – платформа, с которой сделан заказ\n",
        "driver_score – оценка водителя клиентом\n",
        "rider_score – оценка клиента водителем\n",
        "Импортируйте pandas как pd. Загрузите датасет, используя ; в качестве разделителя. Также укажите, что столбцы start_at, end_at, arrived_at нужно прочитать как даты (параметр parse_dates). Результат запишите в taxi.\n",
        "Может пригодиться: read_csv()\n",
        "Датасет для задания: taxi_peru.csv (в папке).\n",
        "\n",
        "9) Проверьте, с какой платформы было сделано больше всего заказов. В ответе укажите значение в %, округлённое до целого.\n",
        "\n",
        "10) Проверим, как распределены оценки водителей (driver_score). Для подготовки данных выполните следующие шаги:\n",
        "- Посчитайте частоту встречаемости каждой из оценок\n",
        "- Переведите в проценты и округлите до 2 знаков после точки (.mul(100).round(2))\n",
        "- Сбросьте индексы\n",
        "- Переименуйте колонки в driver_score и percentage\n",
        "- Отсортируйте по driver_score в порядке возрастания (от 0 до 5)\n",
        "- Запишите результат в driver_score_counts\n",
        "Полезные функции:\n",
        ".mul() – умножение, более удобный вариант для использования в цепочке методов \n",
        ".round() – округление\n",
        ".reset_index() – сбросить индекс\n",
        ".value_counts() – сколько раз встречается каждое значение переменной\n",
        "\n",
        "11) Теперь строим график! (task11.png) Сначала импортируем библиотеки:\n",
        "import seaborn as sns\n",
        "import matplotlib.pyplot as plt\n",
        "Укажите, какую из четырех строчек в нижепредставленном коде нужно исправить, чтобы получить следующий график:\n",
        "ax = sns.barplot(x=driver_score, y=percentage, data=driver_score_counts, color='blue', alpha=0.5)\n",
        "ax.set(xlabel='Driver score', ylabel='Percentage')\n",
        "sns.despine()  # убрать часть рамки графика\n",
        "plt.show()\n",
        "\n",
        "12) 💀 Сложное задание! 💀\n",
        "Проделайте аналогичные шаги для rider_score (оценок клиентов водителями), не забыв построить график. В чем его отличие от распределения оценок водителей?"
      ]
    },
    {
      "cell_type": "markdown",
      "metadata": {
        "id": "xRbT5eVbZaug"
      },
      "source": [
        "Строка names содержит имена в формате 'Name1 Surname1, Name2 Surname2, …'. Поместите в переменную names_list список со строками имён – ['Name1 Surname1', 'Name2 Surname2', …]"
      ]
    },
    {
      "cell_type": "code",
      "metadata": {
        "id": "VlrkH2U_ZfKy"
      },
      "source": [
        "names = 'Name1 Surname1,Name2 Surname2,...'"
      ],
      "execution_count": null,
      "outputs": []
    },
    {
      "cell_type": "code",
      "metadata": {
        "id": "XecyUFfDZxgA"
      },
      "source": [
        "names_list = names.split(',')"
      ],
      "execution_count": null,
      "outputs": []
    },
    {
      "cell_type": "code",
      "metadata": {
        "colab": {
          "base_uri": "https://localhost:8080/"
        },
        "id": "6fu4mE1DaelB",
        "outputId": "76692fed-9734-4164-bde1-f9548934b0d3"
      },
      "source": [
        "names_list"
      ],
      "execution_count": null,
      "outputs": [
        {
          "output_type": "execute_result",
          "data": {
            "text/plain": [
              "['Name1 Surname1', 'Name2 Surname2', '...']"
            ]
          },
          "metadata": {},
          "execution_count": 55
        }
      ]
    },
    {
      "cell_type": "markdown",
      "metadata": {
        "id": "eD5jPfL1agD4"
      },
      "source": [
        "2) В переменной df содержатся данные как на картинке task2.png (находится в папке с заданием) Отберите из них только те, где wealth 'medium', а возраст больше 35, и поместите в переменную medium_35"
      ]
    },
    {
      "cell_type": "markdown",
      "metadata": {
        "id": "zvaCWLABd_z5"
      },
      "source": [
        "![image.png](data:image/png;base64,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)"
      ]
    },
    {
      "cell_type": "code",
      "metadata": {
        "id": "EMa3JIDDdYbB"
      },
      "source": [
        "import pandas as pd"
      ],
      "execution_count": null,
      "outputs": []
    },
    {
      "cell_type": "code",
      "metadata": {
        "id": "VlxKZ9Olaoix"
      },
      "source": [
        "df = pd.DataFrame({'client_id':[9002,6722,8799,8737,5208],'sex':[1,1,1,0,0],\n",
        "                   'wealth':['medium','high','hign','low','medium'],'age':[63,54,62,54,37]})"
      ],
      "execution_count": null,
      "outputs": []
    },
    {
      "cell_type": "code",
      "metadata": {
        "colab": {
          "base_uri": "https://localhost:8080/",
          "height": 204
        },
        "id": "3hTUcKltdWtF",
        "outputId": "b02810be-e3a7-4e50-c5f1-754a82b7da88"
      },
      "source": [
        "df"
      ],
      "execution_count": null,
      "outputs": [
        {
          "output_type": "execute_result",
          "data": {
            "text/html": [
              "<div>\n",
              "<style scoped>\n",
              "    .dataframe tbody tr th:only-of-type {\n",
              "        vertical-align: middle;\n",
              "    }\n",
              "\n",
              "    .dataframe tbody tr th {\n",
              "        vertical-align: top;\n",
              "    }\n",
              "\n",
              "    .dataframe thead th {\n",
              "        text-align: right;\n",
              "    }\n",
              "</style>\n",
              "<table border=\"1\" class=\"dataframe\">\n",
              "  <thead>\n",
              "    <tr style=\"text-align: right;\">\n",
              "      <th></th>\n",
              "      <th>client_id</th>\n",
              "      <th>sex</th>\n",
              "      <th>wealth</th>\n",
              "      <th>age</th>\n",
              "    </tr>\n",
              "  </thead>\n",
              "  <tbody>\n",
              "    <tr>\n",
              "      <th>0</th>\n",
              "      <td>9002</td>\n",
              "      <td>1</td>\n",
              "      <td>medium</td>\n",
              "      <td>63</td>\n",
              "    </tr>\n",
              "    <tr>\n",
              "      <th>1</th>\n",
              "      <td>6722</td>\n",
              "      <td>1</td>\n",
              "      <td>high</td>\n",
              "      <td>54</td>\n",
              "    </tr>\n",
              "    <tr>\n",
              "      <th>2</th>\n",
              "      <td>8799</td>\n",
              "      <td>1</td>\n",
              "      <td>hign</td>\n",
              "      <td>62</td>\n",
              "    </tr>\n",
              "    <tr>\n",
              "      <th>3</th>\n",
              "      <td>8737</td>\n",
              "      <td>0</td>\n",
              "      <td>low</td>\n",
              "      <td>54</td>\n",
              "    </tr>\n",
              "    <tr>\n",
              "      <th>4</th>\n",
              "      <td>5208</td>\n",
              "      <td>0</td>\n",
              "      <td>medium</td>\n",
              "      <td>37</td>\n",
              "    </tr>\n",
              "  </tbody>\n",
              "</table>\n",
              "</div>"
            ],
            "text/plain": [
              "   client_id  sex  wealth  age\n",
              "0       9002    1  medium   63\n",
              "1       6722    1    high   54\n",
              "2       8799    1    hign   62\n",
              "3       8737    0     low   54\n",
              "4       5208    0  medium   37"
            ]
          },
          "metadata": {},
          "execution_count": 58
        }
      ]
    },
    {
      "cell_type": "code",
      "metadata": {
        "id": "UyQm0gSRdbLk"
      },
      "source": [
        "medium_35 = df.query('wealth == \"medium\" and age > 35')"
      ],
      "execution_count": null,
      "outputs": []
    },
    {
      "cell_type": "code",
      "metadata": {
        "colab": {
          "base_uri": "https://localhost:8080/",
          "height": 111
        },
        "id": "icefyZkudui_",
        "outputId": "24db58ce-3231-4859-cd7c-832527ecd9a7"
      },
      "source": [
        "medium_35"
      ],
      "execution_count": null,
      "outputs": [
        {
          "output_type": "execute_result",
          "data": {
            "text/html": [
              "<div>\n",
              "<style scoped>\n",
              "    .dataframe tbody tr th:only-of-type {\n",
              "        vertical-align: middle;\n",
              "    }\n",
              "\n",
              "    .dataframe tbody tr th {\n",
              "        vertical-align: top;\n",
              "    }\n",
              "\n",
              "    .dataframe thead th {\n",
              "        text-align: right;\n",
              "    }\n",
              "</style>\n",
              "<table border=\"1\" class=\"dataframe\">\n",
              "  <thead>\n",
              "    <tr style=\"text-align: right;\">\n",
              "      <th></th>\n",
              "      <th>client_id</th>\n",
              "      <th>sex</th>\n",
              "      <th>wealth</th>\n",
              "      <th>age</th>\n",
              "    </tr>\n",
              "  </thead>\n",
              "  <tbody>\n",
              "    <tr>\n",
              "      <th>0</th>\n",
              "      <td>9002</td>\n",
              "      <td>1</td>\n",
              "      <td>medium</td>\n",
              "      <td>63</td>\n",
              "    </tr>\n",
              "    <tr>\n",
              "      <th>4</th>\n",
              "      <td>5208</td>\n",
              "      <td>0</td>\n",
              "      <td>medium</td>\n",
              "      <td>37</td>\n",
              "    </tr>\n",
              "  </tbody>\n",
              "</table>\n",
              "</div>"
            ],
            "text/plain": [
              "   client_id  sex  wealth  age\n",
              "0       9002    1  medium   63\n",
              "4       5208    0  medium   37"
            ]
          },
          "metadata": {},
          "execution_count": 60
        }
      ]
    },
    {
      "cell_type": "markdown",
      "metadata": {
        "id": "hzqxZcyfdvtU"
      },
      "source": [
        "3) Ваш коллега-новичок перепутал названия колонок в таблице из предыдущих заданий и прислал вам такой вариант task3.png (находится в папке с заданием) Приведите таблицу к каноничному виду, сохранив её в ту же переменную df, где сейчас находится нестандартно наименнованная таблица (воспользуйтесь методом rename) Note: колонка называется Клиент id - шрифт плохо передаёт кейс i в id"
      ]
    },
    {
      "cell_type": "markdown",
      "metadata": {
        "id": "1n81Ww5ad18d"
      },
      "source": [
        "![image.png](data:image/png;base64,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)"
      ]
    },
    {
      "cell_type": "code",
      "metadata": {
        "id": "wH_fVw6peLaT"
      },
      "source": [
        "df = pd.DataFrame({'Клиент id':[9002,6722,8799,8737,5208],'Пол':[1,1,1,0,0],\n",
        "                   'Благосостояние':['medium','high','hign','low','medium'],'Возраст':[63,54,62,54,37]})"
      ],
      "execution_count": null,
      "outputs": []
    },
    {
      "cell_type": "code",
      "metadata": {
        "id": "Pjhw2cmfe5yp"
      },
      "source": [
        "df = pd.DataFrame({'client_id':[9002,6722,8799,8737,5208],'sex':[1,1,1,0,0],\n",
        "                   'wealth':['medium','high','hign','low','medium'],'age':[63,54,62,54,37]})"
      ],
      "execution_count": null,
      "outputs": []
    },
    {
      "cell_type": "code",
      "metadata": {
        "colab": {
          "base_uri": "https://localhost:8080/",
          "height": 204
        },
        "id": "7-GTqVBOetNT",
        "outputId": "d4925455-19c4-4cca-dde1-cbd8301f502a"
      },
      "source": [
        "df"
      ],
      "execution_count": null,
      "outputs": [
        {
          "output_type": "execute_result",
          "data": {
            "text/html": [
              "<div>\n",
              "<style scoped>\n",
              "    .dataframe tbody tr th:only-of-type {\n",
              "        vertical-align: middle;\n",
              "    }\n",
              "\n",
              "    .dataframe tbody tr th {\n",
              "        vertical-align: top;\n",
              "    }\n",
              "\n",
              "    .dataframe thead th {\n",
              "        text-align: right;\n",
              "    }\n",
              "</style>\n",
              "<table border=\"1\" class=\"dataframe\">\n",
              "  <thead>\n",
              "    <tr style=\"text-align: right;\">\n",
              "      <th></th>\n",
              "      <th>client_id</th>\n",
              "      <th>sex</th>\n",
              "      <th>wealth</th>\n",
              "      <th>age</th>\n",
              "    </tr>\n",
              "  </thead>\n",
              "  <tbody>\n",
              "    <tr>\n",
              "      <th>0</th>\n",
              "      <td>9002</td>\n",
              "      <td>1</td>\n",
              "      <td>medium</td>\n",
              "      <td>63</td>\n",
              "    </tr>\n",
              "    <tr>\n",
              "      <th>1</th>\n",
              "      <td>6722</td>\n",
              "      <td>1</td>\n",
              "      <td>high</td>\n",
              "      <td>54</td>\n",
              "    </tr>\n",
              "    <tr>\n",
              "      <th>2</th>\n",
              "      <td>8799</td>\n",
              "      <td>1</td>\n",
              "      <td>hign</td>\n",
              "      <td>62</td>\n",
              "    </tr>\n",
              "    <tr>\n",
              "      <th>3</th>\n",
              "      <td>8737</td>\n",
              "      <td>0</td>\n",
              "      <td>low</td>\n",
              "      <td>54</td>\n",
              "    </tr>\n",
              "    <tr>\n",
              "      <th>4</th>\n",
              "      <td>5208</td>\n",
              "      <td>0</td>\n",
              "      <td>medium</td>\n",
              "      <td>37</td>\n",
              "    </tr>\n",
              "  </tbody>\n",
              "</table>\n",
              "</div>"
            ],
            "text/plain": [
              "   client_id  sex  wealth  age\n",
              "0       9002    1  medium   63\n",
              "1       6722    1    high   54\n",
              "2       8799    1    hign   62\n",
              "3       8737    0     low   54\n",
              "4       5208    0  medium   37"
            ]
          },
          "metadata": {},
          "execution_count": 63
        }
      ]
    },
    {
      "cell_type": "code",
      "metadata": {
        "id": "9ZDqo1W4fKoq"
      },
      "source": [
        "df = df.rename(columns={'Клиент id':'client_id','Пол':'sex','Благосостояние':'wealth','Возраст':'age'})"
      ],
      "execution_count": null,
      "outputs": []
    },
    {
      "cell_type": "code",
      "metadata": {
        "id": "7wt3EIUwfeF_",
        "colab": {
          "base_uri": "https://localhost:8080/",
          "height": 204
        },
        "outputId": "44999f6a-f80c-4b99-ce41-5faa16eee865"
      },
      "source": [
        "df"
      ],
      "execution_count": null,
      "outputs": [
        {
          "output_type": "execute_result",
          "data": {
            "text/html": [
              "<div>\n",
              "<style scoped>\n",
              "    .dataframe tbody tr th:only-of-type {\n",
              "        vertical-align: middle;\n",
              "    }\n",
              "\n",
              "    .dataframe tbody tr th {\n",
              "        vertical-align: top;\n",
              "    }\n",
              "\n",
              "    .dataframe thead th {\n",
              "        text-align: right;\n",
              "    }\n",
              "</style>\n",
              "<table border=\"1\" class=\"dataframe\">\n",
              "  <thead>\n",
              "    <tr style=\"text-align: right;\">\n",
              "      <th></th>\n",
              "      <th>client_id</th>\n",
              "      <th>sex</th>\n",
              "      <th>wealth</th>\n",
              "      <th>age</th>\n",
              "    </tr>\n",
              "  </thead>\n",
              "  <tbody>\n",
              "    <tr>\n",
              "      <th>0</th>\n",
              "      <td>9002</td>\n",
              "      <td>1</td>\n",
              "      <td>medium</td>\n",
              "      <td>63</td>\n",
              "    </tr>\n",
              "    <tr>\n",
              "      <th>1</th>\n",
              "      <td>6722</td>\n",
              "      <td>1</td>\n",
              "      <td>high</td>\n",
              "      <td>54</td>\n",
              "    </tr>\n",
              "    <tr>\n",
              "      <th>2</th>\n",
              "      <td>8799</td>\n",
              "      <td>1</td>\n",
              "      <td>hign</td>\n",
              "      <td>62</td>\n",
              "    </tr>\n",
              "    <tr>\n",
              "      <th>3</th>\n",
              "      <td>8737</td>\n",
              "      <td>0</td>\n",
              "      <td>low</td>\n",
              "      <td>54</td>\n",
              "    </tr>\n",
              "    <tr>\n",
              "      <th>4</th>\n",
              "      <td>5208</td>\n",
              "      <td>0</td>\n",
              "      <td>medium</td>\n",
              "      <td>37</td>\n",
              "    </tr>\n",
              "  </tbody>\n",
              "</table>\n",
              "</div>"
            ],
            "text/plain": [
              "   client_id  sex  wealth  age\n",
              "0       9002    1  medium   63\n",
              "1       6722    1    high   54\n",
              "2       8799    1    hign   62\n",
              "3       8737    0     low   54\n",
              "4       5208    0  medium   37"
            ]
          },
          "metadata": {},
          "execution_count": 65
        }
      ]
    },
    {
      "cell_type": "markdown",
      "metadata": {
        "id": "k-NbROn6femI"
      },
      "source": [
        "4)Добавьте в исследуемый нами датафрэйм df колонку older_than_30, в которой будет храниться больше ли возраст 30 лет (булиновское значение)"
      ]
    },
    {
      "cell_type": "code",
      "metadata": {
        "colab": {
          "base_uri": "https://localhost:8080/",
          "height": 204
        },
        "id": "evE1WF1pve9O",
        "outputId": "fe364447-2d73-4d7b-bc95-63846c8ac262"
      },
      "source": [
        "df"
      ],
      "execution_count": null,
      "outputs": [
        {
          "output_type": "execute_result",
          "data": {
            "text/html": [
              "<div>\n",
              "<style scoped>\n",
              "    .dataframe tbody tr th:only-of-type {\n",
              "        vertical-align: middle;\n",
              "    }\n",
              "\n",
              "    .dataframe tbody tr th {\n",
              "        vertical-align: top;\n",
              "    }\n",
              "\n",
              "    .dataframe thead th {\n",
              "        text-align: right;\n",
              "    }\n",
              "</style>\n",
              "<table border=\"1\" class=\"dataframe\">\n",
              "  <thead>\n",
              "    <tr style=\"text-align: right;\">\n",
              "      <th></th>\n",
              "      <th>client_id</th>\n",
              "      <th>sex</th>\n",
              "      <th>wealth</th>\n",
              "      <th>age</th>\n",
              "    </tr>\n",
              "  </thead>\n",
              "  <tbody>\n",
              "    <tr>\n",
              "      <th>0</th>\n",
              "      <td>9002</td>\n",
              "      <td>1</td>\n",
              "      <td>medium</td>\n",
              "      <td>63</td>\n",
              "    </tr>\n",
              "    <tr>\n",
              "      <th>1</th>\n",
              "      <td>6722</td>\n",
              "      <td>1</td>\n",
              "      <td>high</td>\n",
              "      <td>54</td>\n",
              "    </tr>\n",
              "    <tr>\n",
              "      <th>2</th>\n",
              "      <td>8799</td>\n",
              "      <td>1</td>\n",
              "      <td>hign</td>\n",
              "      <td>62</td>\n",
              "    </tr>\n",
              "    <tr>\n",
              "      <th>3</th>\n",
              "      <td>8737</td>\n",
              "      <td>0</td>\n",
              "      <td>low</td>\n",
              "      <td>54</td>\n",
              "    </tr>\n",
              "    <tr>\n",
              "      <th>4</th>\n",
              "      <td>5208</td>\n",
              "      <td>0</td>\n",
              "      <td>medium</td>\n",
              "      <td>37</td>\n",
              "    </tr>\n",
              "  </tbody>\n",
              "</table>\n",
              "</div>"
            ],
            "text/plain": [
              "   client_id  sex  wealth  age\n",
              "0       9002    1  medium   63\n",
              "1       6722    1    high   54\n",
              "2       8799    1    hign   62\n",
              "3       8737    0     low   54\n",
              "4       5208    0  medium   37"
            ]
          },
          "metadata": {},
          "execution_count": 66
        }
      ]
    },
    {
      "cell_type": "code",
      "metadata": {
        "id": "994togfGvgOE"
      },
      "source": [
        "df['older_than_30'] = df['age'] >30"
      ],
      "execution_count": null,
      "outputs": []
    },
    {
      "cell_type": "code",
      "metadata": {
        "colab": {
          "base_uri": "https://localhost:8080/",
          "height": 204
        },
        "id": "VgzhIoo4vrce",
        "outputId": "16ad658d-3d24-4b6c-9c29-63ab47820721"
      },
      "source": [
        "df"
      ],
      "execution_count": null,
      "outputs": [
        {
          "output_type": "execute_result",
          "data": {
            "text/html": [
              "<div>\n",
              "<style scoped>\n",
              "    .dataframe tbody tr th:only-of-type {\n",
              "        vertical-align: middle;\n",
              "    }\n",
              "\n",
              "    .dataframe tbody tr th {\n",
              "        vertical-align: top;\n",
              "    }\n",
              "\n",
              "    .dataframe thead th {\n",
              "        text-align: right;\n",
              "    }\n",
              "</style>\n",
              "<table border=\"1\" class=\"dataframe\">\n",
              "  <thead>\n",
              "    <tr style=\"text-align: right;\">\n",
              "      <th></th>\n",
              "      <th>client_id</th>\n",
              "      <th>sex</th>\n",
              "      <th>wealth</th>\n",
              "      <th>age</th>\n",
              "      <th>older_than_30</th>\n",
              "    </tr>\n",
              "  </thead>\n",
              "  <tbody>\n",
              "    <tr>\n",
              "      <th>0</th>\n",
              "      <td>9002</td>\n",
              "      <td>1</td>\n",
              "      <td>medium</td>\n",
              "      <td>63</td>\n",
              "      <td>True</td>\n",
              "    </tr>\n",
              "    <tr>\n",
              "      <th>1</th>\n",
              "      <td>6722</td>\n",
              "      <td>1</td>\n",
              "      <td>high</td>\n",
              "      <td>54</td>\n",
              "      <td>True</td>\n",
              "    </tr>\n",
              "    <tr>\n",
              "      <th>2</th>\n",
              "      <td>8799</td>\n",
              "      <td>1</td>\n",
              "      <td>hign</td>\n",
              "      <td>62</td>\n",
              "      <td>True</td>\n",
              "    </tr>\n",
              "    <tr>\n",
              "      <th>3</th>\n",
              "      <td>8737</td>\n",
              "      <td>0</td>\n",
              "      <td>low</td>\n",
              "      <td>54</td>\n",
              "      <td>True</td>\n",
              "    </tr>\n",
              "    <tr>\n",
              "      <th>4</th>\n",
              "      <td>5208</td>\n",
              "      <td>0</td>\n",
              "      <td>medium</td>\n",
              "      <td>37</td>\n",
              "      <td>True</td>\n",
              "    </tr>\n",
              "  </tbody>\n",
              "</table>\n",
              "</div>"
            ],
            "text/plain": [
              "   client_id  sex  wealth  age  older_than_30\n",
              "0       9002    1  medium   63           True\n",
              "1       6722    1    high   54           True\n",
              "2       8799    1    hign   62           True\n",
              "3       8737    0     low   54           True\n",
              "4       5208    0  medium   37           True"
            ]
          },
          "metadata": {},
          "execution_count": 68
        }
      ]
    },
    {
      "cell_type": "markdown",
      "metadata": {
        "id": "07OEV2wTvr3C"
      },
      "source": [
        "5) А теперь получите серию с числом уникальных значений для каждой колонки и присвойте её переменной unique_num"
      ]
    },
    {
      "cell_type": "code",
      "metadata": {
        "id": "dTTlj_7Evv42"
      },
      "source": [
        "unique_num = df.value_counts()"
      ],
      "execution_count": null,
      "outputs": []
    },
    {
      "cell_type": "markdown",
      "metadata": {
        "id": "9NRxdTA-v104"
      },
      "source": [
        "6) У нас появились новые данные! Переменная data хранит в себе датафрэйм следующего вида: task6.png Проведите inner join датафрейма data с df из предыдущего шага, объединив их по колонке client_id, и поместите результат в переменную full_data (да, придумывать переменные иногда бывает сложно)"
      ]
    },
    {
      "cell_type": "markdown",
      "metadata": {
        "id": "ktma4wCMwImd"
      },
      "source": [
        "![image.png](data:image/png;base64,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)"
      ]
    },
    {
      "cell_type": "code",
      "metadata": {
        "id": "9gyNmGENwPoU"
      },
      "source": [
        "data = pd.DataFrame({'client_id':[5392,9581,7250,8619,6573],'amount':[42331,88420,1714,80572,57549],'date':[1585425830,1585429536,1585427761,1585427077,1585426290]})"
      ],
      "execution_count": null,
      "outputs": []
    },
    {
      "cell_type": "code",
      "metadata": {
        "id": "2VLztDKmw1Bl"
      },
      "source": [
        "full_data = df.merge(data,how='inner',on = 'client_id')"
      ],
      "execution_count": null,
      "outputs": []
    },
    {
      "cell_type": "markdown",
      "metadata": {
        "id": "52vlyRhmxZkI"
      },
      "source": [
        "7)💀 Сложное задание! 💀 А теперь создадим свою собственную функцию! Напишите функцию read_n_agg, которая\n",
        "\n",
        "принимает на вход один параметр – путь к файлу\n",
        "считывает переданный файл, в котором разделителем является ;\n",
        "считает средний заработок (income) по каждой компании (company), перенося колонку company в индекс (as_index=True)\n",
        "возвращает результат этих действий (агрегированный датафрэйм) Данные выглядят как в task7.png, датасэт в файле companies.csv"
      ]
    },
    {
      "cell_type": "code",
      "metadata": {
        "colab": {
          "base_uri": "https://localhost:8080/"
        },
        "id": "_Gj55uhlz8ft",
        "outputId": "510b68e8-ea65-49b4-edcd-0811aafc72bc"
      },
      "source": [
        "!gdown --id 1fdEvRksKqWp7ES2EtwGyNInOPnJ8aH0w"
      ],
      "execution_count": null,
      "outputs": [
        {
          "output_type": "stream",
          "name": "stdout",
          "text": [
            "Downloading...\n",
            "From: https://drive.google.com/uc?id=1fdEvRksKqWp7ES2EtwGyNInOPnJ8aH0w\n",
            "To: /content/companies (1).csv\n",
            "\r  0% 0.00/18.3k [00:00<?, ?B/s]\r100% 18.3k/18.3k [00:00<00:00, 15.4MB/s]\n"
          ]
        }
      ]
    },
    {
      "cell_type": "code",
      "metadata": {
        "colab": {
          "base_uri": "https://localhost:8080/",
          "height": 418
        },
        "id": "-Y4eW-Hj0vqj",
        "outputId": "87a2b546-1854-44f5-db60-9cb6fee68427"
      },
      "source": [
        "com = pd.read_csv('/content/companies (1).csv',sep = ';')\n",
        "com"
      ],
      "execution_count": null,
      "outputs": [
        {
          "output_type": "execute_result",
          "data": {
            "text/html": [
              "<div>\n",
              "<style scoped>\n",
              "    .dataframe tbody tr th:only-of-type {\n",
              "        vertical-align: middle;\n",
              "    }\n",
              "\n",
              "    .dataframe tbody tr th {\n",
              "        vertical-align: top;\n",
              "    }\n",
              "\n",
              "    .dataframe thead th {\n",
              "        text-align: right;\n",
              "    }\n",
              "</style>\n",
              "<table border=\"1\" class=\"dataframe\">\n",
              "  <thead>\n",
              "    <tr style=\"text-align: right;\">\n",
              "      <th></th>\n",
              "      <th>company</th>\n",
              "      <th>income</th>\n",
              "      <th>date</th>\n",
              "    </tr>\n",
              "  </thead>\n",
              "  <tbody>\n",
              "    <tr>\n",
              "      <th>0</th>\n",
              "      <td>ЗАО «Доронин, Колобов и Калашникова»</td>\n",
              "      <td>1221331958</td>\n",
              "      <td>2019-09-09</td>\n",
              "    </tr>\n",
              "    <tr>\n",
              "      <th>1</th>\n",
              "      <td>ООО «Авдеев»</td>\n",
              "      <td>21116804375</td>\n",
              "      <td>1972-12-21</td>\n",
              "    </tr>\n",
              "    <tr>\n",
              "      <th>2</th>\n",
              "      <td>РАО «Аксенов Сорокина»</td>\n",
              "      <td>79257158759</td>\n",
              "      <td>2007-03-05</td>\n",
              "    </tr>\n",
              "    <tr>\n",
              "      <th>3</th>\n",
              "      <td>Ларионов Инкорпорэйтед</td>\n",
              "      <td>36799366126</td>\n",
              "      <td>2011-08-11</td>\n",
              "    </tr>\n",
              "    <tr>\n",
              "      <th>4</th>\n",
              "      <td>Григорьев Инкорпорэйтед</td>\n",
              "      <td>48201837498</td>\n",
              "      <td>1989-09-02</td>\n",
              "    </tr>\n",
              "    <tr>\n",
              "      <th>...</th>\n",
              "      <td>...</td>\n",
              "      <td>...</td>\n",
              "      <td>...</td>\n",
              "    </tr>\n",
              "    <tr>\n",
              "      <th>288</th>\n",
              "      <td>Сэтл групп</td>\n",
              "      <td>6152279994</td>\n",
              "      <td>2004-03-30</td>\n",
              "    </tr>\n",
              "    <tr>\n",
              "      <th>289</th>\n",
              "      <td>ОАО «Горшков Чернов»</td>\n",
              "      <td>26623978007</td>\n",
              "      <td>2004-03-30</td>\n",
              "    </tr>\n",
              "    <tr>\n",
              "      <th>290</th>\n",
              "      <td>НПО «Фадеев»</td>\n",
              "      <td>84314056422</td>\n",
              "      <td>1998-09-03</td>\n",
              "    </tr>\n",
              "    <tr>\n",
              "      <th>291</th>\n",
              "      <td>Петролеум Трейдинг</td>\n",
              "      <td>95528839292</td>\n",
              "      <td>1975-01-31</td>\n",
              "    </tr>\n",
              "    <tr>\n",
              "      <th>292</th>\n",
              "      <td>ОАО «Жданова»</td>\n",
              "      <td>40620723709</td>\n",
              "      <td>2016-04-19</td>\n",
              "    </tr>\n",
              "  </tbody>\n",
              "</table>\n",
              "<p>293 rows × 3 columns</p>\n",
              "</div>"
            ],
            "text/plain": [
              "                                  company       income        date\n",
              "0    ЗАО «Доронин, Колобов и Калашникова»   1221331958  2019-09-09\n",
              "1                            ООО «Авдеев»  21116804375  1972-12-21\n",
              "2                  РАО «Аксенов Сорокина»  79257158759  2007-03-05\n",
              "3                  Ларионов Инкорпорэйтед  36799366126  2011-08-11\n",
              "4                 Григорьев Инкорпорэйтед  48201837498  1989-09-02\n",
              "..                                    ...          ...         ...\n",
              "288                            Сэтл групп   6152279994  2004-03-30\n",
              "289                  ОАО «Горшков Чернов»  26623978007  2004-03-30\n",
              "290                          НПО «Фадеев»  84314056422  1998-09-03\n",
              "291                    Петролеум Трейдинг  95528839292  1975-01-31\n",
              "292                         ОАО «Жданова»  40620723709  2016-04-19\n",
              "\n",
              "[293 rows x 3 columns]"
            ]
          },
          "metadata": {},
          "execution_count": 73
        }
      ]
    },
    {
      "cell_type": "code",
      "metadata": {
        "id": "vH51ieSZzXby"
      },
      "source": [
        "def read_n_agg(path):\n",
        "  t = pd.read_csv(path,sep = ';')\n",
        "  res = t.groupby('company').agg({'income':'mean'})\n",
        "\n",
        "  return res\n"
      ],
      "execution_count": null,
      "outputs": []
    },
    {
      "cell_type": "code",
      "metadata": {
        "colab": {
          "base_uri": "https://localhost:8080/",
          "height": 449
        },
        "id": "hJtUG1-41gP0",
        "outputId": "dc335d1f-e7a6-4670-f52d-3302b0397d0e"
      },
      "source": [
        "read_n_agg('/content/companies (1).csv')"
      ],
      "execution_count": null,
      "outputs": [
        {
          "output_type": "execute_result",
          "data": {
            "text/html": [
              "<div>\n",
              "<style scoped>\n",
              "    .dataframe tbody tr th:only-of-type {\n",
              "        vertical-align: middle;\n",
              "    }\n",
              "\n",
              "    .dataframe tbody tr th {\n",
              "        vertical-align: top;\n",
              "    }\n",
              "\n",
              "    .dataframe thead th {\n",
              "        text-align: right;\n",
              "    }\n",
              "</style>\n",
              "<table border=\"1\" class=\"dataframe\">\n",
              "  <thead>\n",
              "    <tr style=\"text-align: right;\">\n",
              "      <th></th>\n",
              "      <th>income</th>\n",
              "    </tr>\n",
              "    <tr>\n",
              "      <th>company</th>\n",
              "      <th></th>\n",
              "    </tr>\n",
              "  </thead>\n",
              "  <tbody>\n",
              "    <tr>\n",
              "      <th>En +</th>\n",
              "      <td>9.962187e+10</td>\n",
              "    </tr>\n",
              "    <tr>\n",
              "      <th>АО «Александрова, Савельев и Мельникова»</th>\n",
              "      <td>7.206782e+10</td>\n",
              "    </tr>\n",
              "    <tr>\n",
              "      <th>АО «Андреев-Анисимов»</th>\n",
              "      <td>6.931948e+09</td>\n",
              "    </tr>\n",
              "    <tr>\n",
              "      <th>АО «Андреев-Макарова»</th>\n",
              "      <td>8.934380e+10</td>\n",
              "    </tr>\n",
              "    <tr>\n",
              "      <th>АО «Большаков Кошелева»</th>\n",
              "      <td>7.860861e+10</td>\n",
              "    </tr>\n",
              "    <tr>\n",
              "      <th>...</th>\n",
              "      <td>...</td>\n",
              "    </tr>\n",
              "    <tr>\n",
              "      <th>Щекиноазот</th>\n",
              "      <td>4.309092e+10</td>\n",
              "    </tr>\n",
              "    <tr>\n",
              "      <th>Щукин Лимитед</th>\n",
              "      <td>6.703036e+10</td>\n",
              "    </tr>\n",
              "    <tr>\n",
              "      <th>Эйвон Бьюти Продактс Компани (Avon)</th>\n",
              "      <td>2.503657e+10</td>\n",
              "    </tr>\n",
              "    <tr>\n",
              "      <th>Яковлева Инкорпорэйтед</th>\n",
              "      <td>3.523436e+10</td>\n",
              "    </tr>\n",
              "    <tr>\n",
              "      <th>Якушев Лимитед</th>\n",
              "      <td>3.876468e+10</td>\n",
              "    </tr>\n",
              "  </tbody>\n",
              "</table>\n",
              "<p>289 rows × 1 columns</p>\n",
              "</div>"
            ],
            "text/plain": [
              "                                                income\n",
              "company                                               \n",
              "En +                                      9.962187e+10\n",
              "АО «Александрова, Савельев и Мельникова»  7.206782e+10\n",
              "АО «Андреев-Анисимов»                     6.931948e+09\n",
              "АО «Андреев-Макарова»                     8.934380e+10\n",
              "АО «Большаков Кошелева»                   7.860861e+10\n",
              "...                                                ...\n",
              "Щекиноазот                                4.309092e+10\n",
              "Щукин Лимитед                             6.703036e+10\n",
              "Эйвон Бьюти Продактс Компани (Avon)       2.503657e+10\n",
              "Яковлева Инкорпорэйтед                    3.523436e+10\n",
              "Якушев Лимитед                            3.876468e+10\n",
              "\n",
              "[289 rows x 1 columns]"
            ]
          },
          "metadata": {},
          "execution_count": 75
        }
      ]
    },
    {
      "cell_type": "markdown",
      "metadata": {
        "id": "F2Q2nBaF1pTL"
      },
      "source": [
        "8) Вернемся к данным по поездкам на такси! На этот раз – из Перу, с рейтингами водителей, пассажиров, координатами, и парой других деталей!   \n",
        "journey_id – уникальный id поездки  \n",
        "user_id – id пользователя  \n",
        "driver_id – id водителя  \n",
        "taxi_id – id машины  \n",
        "icon – тип поездки  \n",
        "start_type – тип заказа (asap, reserved, delayed)  \n",
        "start_at – время начала поездки  \n",
        "start_lat – исходное местоположение пользователя, широта  \n",
        "start_lon – исходное местоположение пользователя, долгота  \n",
        "end_at – время окончания поездки end_lat – итоговое местоположение, широта  end_lon – итоговое местоположение, долгота  \n",
        "end_state – состояние заказа  \n",
        "driver_start_lat – исходное местоположение водителя, широта  \n",
        "driver_start_lon – исходное местоположение водителя, долгота  \n",
        "arrived_at – время прибытия водителя source – платформа, с которой сделан заказ  \n",
        "driver_score – оценка водителя клиентом  \n",
        "rider_score – оценка клиента водителем  \n",
        "Импортируйте pandas как pd. Загрузите датасет, используя ; в качестве разделителя. Также укажите, что столбцы start_at, end_at, arrived_at нужно прочитать как даты (параметр parse_dates). Результат запишите в taxi. Может пригодиться: read_csv() Датасет для задания: taxi_peru.csv (в папке)."
      ]
    },
    {
      "cell_type": "markdown",
      "metadata": {
        "id": "ewmE2hbm4t18"
      },
      "source": [
        "https://drive.google.com/file/d/1aiBPd8iuKHISZc-0JH4oTaWBcuCOwC2k/view?usp=sharing"
      ]
    },
    {
      "cell_type": "code",
      "metadata": {
        "colab": {
          "base_uri": "https://localhost:8080/"
        },
        "id": "4avx21ou3j_6",
        "outputId": "a1e181f5-38dc-4861-d44e-196e4eafc4f6"
      },
      "source": [
        "!gdown --id 1aiBPd8iuKHISZc-0JH4oTaWBcuCOwC2k"
      ],
      "execution_count": null,
      "outputs": [
        {
          "output_type": "stream",
          "name": "stdout",
          "text": [
            "Downloading...\n",
            "From: https://drive.google.com/uc?id=1aiBPd8iuKHISZc-0JH4oTaWBcuCOwC2k\n",
            "To: /content/taxi_peru (1).csv\n",
            "\r  0% 0.00/6.61M [00:00<?, ?B/s]\r100% 6.61M/6.61M [00:00<00:00, 103MB/s]\n"
          ]
        }
      ]
    },
    {
      "cell_type": "code",
      "metadata": {
        "id": "4mDvVNqY4tVC"
      },
      "source": [
        "taxi = pd.read_csv('/content/taxi_peru (1).csv', sep = ';',\n",
        "                    parse_dates = ['start_at', 'end_at', 'arrived_at'])"
      ],
      "execution_count": null,
      "outputs": []
    },
    {
      "cell_type": "code",
      "metadata": {
        "id": "1sypXl855XHs",
        "colab": {
          "base_uri": "https://localhost:8080/"
        },
        "outputId": "66002272-91ce-4d13-cba6-642443b1b4de"
      },
      "source": [
        "taxi.info()"
      ],
      "execution_count": null,
      "outputs": [
        {
          "output_type": "stream",
          "name": "stdout",
          "text": [
            "<class 'pandas.core.frame.DataFrame'>\n",
            "RangeIndex: 23111 entries, 0 to 23110\n",
            "Data columns (total 19 columns):\n",
            " #   Column            Non-Null Count  Dtype         \n",
            "---  ------            --------------  -----         \n",
            " 0   journey_id        23111 non-null  object        \n",
            " 1   user_id           23111 non-null  object        \n",
            " 2   driver_id         19726 non-null  object        \n",
            " 3   taxi_id           19726 non-null  object        \n",
            " 4   icon              23111 non-null  object        \n",
            " 5   start_type        23111 non-null  object        \n",
            " 6   start_at          23111 non-null  datetime64[ns]\n",
            " 7   start_lat         23111 non-null  object        \n",
            " 8   start_lon         23111 non-null  object        \n",
            " 9   end_at            22835 non-null  datetime64[ns]\n",
            " 10  end_lat           23111 non-null  object        \n",
            " 11  end_lon           23111 non-null  object        \n",
            " 12  end_state         23099 non-null  object        \n",
            " 13  driver_start_lat  19621 non-null  object        \n",
            " 14  driver_start_lon  19621 non-null  object        \n",
            " 15  arrived_at        17716 non-null  datetime64[ns]\n",
            " 16  source            22988 non-null  object        \n",
            " 17  driver_score      7650 non-null   float64       \n",
            " 18  rider_score       15390 non-null  float64       \n",
            "dtypes: datetime64[ns](3), float64(2), object(14)\n",
            "memory usage: 3.4+ MB\n"
          ]
        }
      ]
    },
    {
      "cell_type": "markdown",
      "metadata": {
        "id": "VFNO-wS95YAF"
      },
      "source": [
        "9) Проверьте, с какой платформы было сделано больше всего заказов. В ответе укажите значение в %, округлённое до целого."
      ]
    },
    {
      "cell_type": "code",
      "metadata": {
        "colab": {
          "base_uri": "https://localhost:8080/",
          "height": 36
        },
        "id": "vR__dbfO6upd",
        "outputId": "606ab9a7-9d89-4d1d-86c7-b5b52e6eb986"
      },
      "source": [
        "(taxi['source'].value_counts(normalize = True) * 100).round().idxmax()"
      ],
      "execution_count": null,
      "outputs": [
        {
          "output_type": "execute_result",
          "data": {
            "application/vnd.google.colaboratory.intrinsic+json": {
              "type": "string"
            },
            "text/plain": [
              "'iPhone'"
            ]
          },
          "metadata": {},
          "execution_count": 142
        }
      ]
    },
    {
      "cell_type": "markdown",
      "metadata": {
        "id": "-Yhuj1av66kv"
      },
      "source": [
        "10) Проверим, как распределены оценки водителей (driver_score). Для подготовки данных выполните следующие шаги:\n",
        "\n",
        "Посчитайте частоту встречаемости каждой из оценок  \n",
        "Переведите в проценты и округлите до 2 знаков после точки (.mul(100).round(2))  \n",
        "Сбросьте индексы  \n",
        "Переименуйте колонки в driver_score и percentage  \n",
        "Отсортируйте по driver_score в порядке возрастания (от 0 до 5)  \n",
        "Запишите результат в driver_score_counts \n",
        "Полезные функции: .mul() – умножение, более удобный вариант для использования в цепочке методов  \n",
        ".round() – округление  \n",
        ".reset_index() – сбросить индекс  \n",
        ".value_counts() – сколько раз встречается каждое значение переменной  "
      ]
    },
    {
      "cell_type": "code",
      "metadata": {
        "colab": {
          "base_uri": "https://localhost:8080/"
        },
        "id": "iYgqwLYEDVoc",
        "outputId": "18122a4a-f49a-4e94-f8ae-e99e600efa3e"
      },
      "source": [
        "taxi['driver_score'].value_counts()"
      ],
      "execution_count": null,
      "outputs": [
        {
          "output_type": "execute_result",
          "data": {
            "text/plain": [
              "5.0    4499\n",
              "4.0    1674\n",
              "0.0    1094\n",
              "3.0     227\n",
              "1.0      94\n",
              "2.0      62\n",
              "Name: driver_score, dtype: int64"
            ]
          },
          "metadata": {},
          "execution_count": 93
        }
      ]
    },
    {
      "cell_type": "code",
      "metadata": {
        "id": "QIWis8SbDf9-"
      },
      "source": [
        "driver_score_counts = taxi['driver_score'].value_counts(normalize=True).mul(100).round(2).reset_index().rename(columns = {'index':'driver_score', 'driver_score':'percentage'}). \\\n",
        "sort_values(by = 'driver_score')"
      ],
      "execution_count": null,
      "outputs": []
    },
    {
      "cell_type": "code",
      "metadata": {
        "colab": {
          "base_uri": "https://localhost:8080/",
          "height": 235
        },
        "id": "_aZZdU2VE2gB",
        "outputId": "ea4dd785-5122-476a-cb1b-cf04e84ed0c0"
      },
      "source": [
        "driver_score_counts"
      ],
      "execution_count": null,
      "outputs": [
        {
          "output_type": "execute_result",
          "data": {
            "text/html": [
              "<div>\n",
              "<style scoped>\n",
              "    .dataframe tbody tr th:only-of-type {\n",
              "        vertical-align: middle;\n",
              "    }\n",
              "\n",
              "    .dataframe tbody tr th {\n",
              "        vertical-align: top;\n",
              "    }\n",
              "\n",
              "    .dataframe thead th {\n",
              "        text-align: right;\n",
              "    }\n",
              "</style>\n",
              "<table border=\"1\" class=\"dataframe\">\n",
              "  <thead>\n",
              "    <tr style=\"text-align: right;\">\n",
              "      <th></th>\n",
              "      <th>driver_score</th>\n",
              "      <th>percentage</th>\n",
              "    </tr>\n",
              "  </thead>\n",
              "  <tbody>\n",
              "    <tr>\n",
              "      <th>2</th>\n",
              "      <td>0.0</td>\n",
              "      <td>14.30</td>\n",
              "    </tr>\n",
              "    <tr>\n",
              "      <th>4</th>\n",
              "      <td>1.0</td>\n",
              "      <td>1.23</td>\n",
              "    </tr>\n",
              "    <tr>\n",
              "      <th>5</th>\n",
              "      <td>2.0</td>\n",
              "      <td>0.81</td>\n",
              "    </tr>\n",
              "    <tr>\n",
              "      <th>3</th>\n",
              "      <td>3.0</td>\n",
              "      <td>2.97</td>\n",
              "    </tr>\n",
              "    <tr>\n",
              "      <th>1</th>\n",
              "      <td>4.0</td>\n",
              "      <td>21.88</td>\n",
              "    </tr>\n",
              "    <tr>\n",
              "      <th>0</th>\n",
              "      <td>5.0</td>\n",
              "      <td>58.81</td>\n",
              "    </tr>\n",
              "  </tbody>\n",
              "</table>\n",
              "</div>"
            ],
            "text/plain": [
              "   driver_score  percentage\n",
              "2           0.0       14.30\n",
              "4           1.0        1.23\n",
              "5           2.0        0.81\n",
              "3           3.0        2.97\n",
              "1           4.0       21.88\n",
              "0           5.0       58.81"
            ]
          },
          "metadata": {},
          "execution_count": 118
        }
      ]
    },
    {
      "cell_type": "markdown",
      "metadata": {
        "id": "wlgDw7jaErRt"
      },
      "source": [
        "11) Теперь строим график! (task11.png) Сначала импортируем библиотеки: import seaborn as sns import matplotlib.pyplot as plt Укажите, какую из четырех строчек в нижепредставленном коде нужно исправить, чтобы получить следующий график: ax = sns.barplot(x=driver_score, y=percentage, data=driver_score_counts, color='blue', alpha=0.5) ax.set(xlabel='Driver score', ylabel='Percentage') sns.despine() # убрать часть рамки графика plt.show()"
      ]
    },
    {
      "cell_type": "markdown",
      "metadata": {
        "id": "FDXBXwmgFwqE"
      },
      "source": [
        "![image.png](data:image/png;base64,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)"
      ]
    },
    {
      "cell_type": "code",
      "metadata": {
        "id": "1VeS3ZYCF2L7"
      },
      "source": [
        " import seaborn as sns \n",
        " import matplotlib.pyplot as plt"
      ],
      "execution_count": null,
      "outputs": []
    },
    {
      "cell_type": "code",
      "metadata": {
        "colab": {
          "base_uri": "https://localhost:8080/",
          "height": 279
        },
        "id": "PXRzorPIF55p",
        "outputId": "bae34a0d-44ab-4da3-cab2-df37d2df7ec7"
      },
      "source": [
        "ax = sns.barplot(x='driver_score', y='percentage', data=driver_score_counts, color='red', alpha=0.8)\n",
        "ax.set(xlabel='Driver score', ylabel='Percentage')\n",
        "sns.despine()\n"
      ],
      "execution_count": null,
      "outputs": [
        {
          "output_type": "display_data",
          "data": {
            "image/png": "[encoded data removed]",
            "text/plain": [
              "<Figure size 432x288 with 1 Axes>"
            ]
          },
          "metadata": {
            "needs_background": "light"
          }
        }
      ]
    },
    {
      "cell_type": "markdown",
      "metadata": {
        "id": "RlhgqxDqGCqN"
      },
      "source": [
        "12) 💀 Сложное задание! 💀 Проделайте аналогичные шаги для rider_score (оценок клиентов водителями), не забыв построить график. В чем его отличие от распределения оценок водителей?"
      ]
    },
    {
      "cell_type": "code",
      "metadata": {
        "id": "i1l9-cU-IBqW"
      },
      "source": [
        "rider_sc = taxi['rider_score'].value_counts(normalize=True).mul(100).round(2).reset_index().rename(columns = {'index':'rider_score', 'rider_score':'percentage'}). \\\n",
        "sort_values(by = 'rider_score')"
      ],
      "execution_count": null,
      "outputs": []
    },
    {
      "cell_type": "code",
      "metadata": {
        "colab": {
          "base_uri": "https://localhost:8080/",
          "height": 279
        },
        "id": "71xiIeCJIHKT",
        "outputId": "54dffb85-2961-4c3c-d652-1088cfba96c2"
      },
      "source": [
        "ax = sns.barplot(x='rider_score', y='percentage', data=rider_sc, color='yellow')\n",
        "ax.set(xlabel='Rider score', ylabel='Percentage')\n",
        "sns.despine()\n"
      ],
      "execution_count": null,
      "outputs": [
        {
          "output_type": "display_data",
          "data": {
            "image/png": "[encoded data removed]",
            "text/plain": [
              "<Figure size 432x288 with 1 Axes>"
            ]
          },
          "metadata": {
            "needs_background": "light"
          }
        }
      ]
    },
    {
      "cell_type": "markdown",
      "metadata": {
        "id": "uZKJSOo_I2DF"
      },
      "source": [
        "Основное отличие, что большинство оценок - 5. Видимо, водители менее требовательны к клиентам :)"
      ]
    },
    {
      "cell_type": "code",
      "metadata": {
        "id": "BlwW22JuJLEo"
      },
      "source": [
        ""
      ],
      "execution_count": null,
      "outputs": []
    }
  ]
}