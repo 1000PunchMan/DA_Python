{
  "nbformat": 4,
  "nbformat_minor": 0,
  "metadata": {
    "colab": {
      "name": "Yandex_1 project",
      "provenance": [],
      "toc_visible": true,
      "authorship_tag": "ABX9TyNqWdMCqU+uOo8dBs/UeSWE",
      "include_colab_link": true
    },
    "kernelspec": {
      "name": "python3",
      "display_name": "Python 3"
    },
    "language_info": {
      "name": "python"
    }
  },
  "cells": [
    {
      "cell_type": "markdown",
      "metadata": {
        "id": "view-in-github",
        "colab_type": "text"
      },
      "source": [
        "<a href=\"https://colab.research.google.com/github/1000PunchMan/DA_Python/blob/main/Yandex_1_project.ipynb\" target=\"_parent\"><img src=\"https://colab.research.google.com/assets/colab-badge.svg\" alt=\"Open In Colab\"/></a>"
      ]
    },
    {
      "cell_type": "markdown",
      "metadata": {
        "id": "ZPvok2SrA0Np"
      },
      "source": [
        "\n",
        "Задачи исследования\n",
        "1. Осмотр данных\n",
        "- посмотрим начало и конец датасета\n",
        "- сделаем предварительные выводы\n",
        "- поищем аномалии\n",
        "\n",
        "\n",
        "2. Обработка данных\n",
        "- найти и обработать пропуски\n",
        "- заменить некорректные типы данных\n",
        "- удалить дубликаты\n",
        "- провести категоризацию\n",
        "\n",
        "\n",
        "3. Ответы на вопросы\n",
        "- Есть ли зависимость между наличием детей и возвратом кредита в срок?\n",
        "- Есть ли зависимость между семейным положением и возвратом кредита в срок?\n",
        "- Есть ли зависимость между уровнем дохода и возвратом кредита в срок?\n",
        "\n",
        "\n",
        "4. Результаты исследования\n",
        "- Общие выводы"
      ]
    },
    {
      "cell_type": "markdown",
      "metadata": {
        "id": "5rrJulpVuios"
      },
      "source": [
        "Заказчик — кредитный отдел банка. Нужно разобраться, влияет ли семейное\n",
        "положение и количество детей клиента на факт погашения кредита в срок.\n",
        "Входные данные от банка — статистика о платёжеспособности клиентов.\n",
        "Результаты исследования будут учтены при построении модели кредитного\n",
        "скоринга — специальной системы, которая оценивает способность\n",
        "потенциального заёмщика вернуть кредит банку."
      ]
    },
    {
      "cell_type": "markdown",
      "metadata": {
        "id": "rKES0sdACAY3"
      },
      "source": [
        "Описание данных  \n",
        "• children — количество детей в семье  \n",
        "• days_employed — общий трудовой стаж в днях  \n",
        "• dob_years — возраст клиента в годах  \n",
        "• education — уровень образования клиента  \n",
        "• education_id — идентификатор уровня образования  \n",
        "• family_status — семейное положение  \n",
        "• family_status_id — идентификатор семейного положения  \n",
        "• gender — пол клиента  \n",
        "• income_type — тип занятости  \n",
        "• debt — имел ли задолженность по возврату кредитов  \n",
        "• total_income — ежемесячный доход  \n",
        "• purpose — цель получения кредита  "
      ]
    },
    {
      "cell_type": "code",
      "metadata": {
        "id": "B7N7EUlk_HUz"
      },
      "source": [
        "import pandas as pd\n",
        "import numpy as np\n",
        "import seaborn as sns"
      ],
      "execution_count": null,
      "outputs": []
    },
    {
      "cell_type": "code",
      "metadata": {
        "id": "uSLocvJ5_26w"
      },
      "source": [
        "df = pd.read_csv('https://code.s3.yandex.net/datasets/data.csv')"
      ],
      "execution_count": null,
      "outputs": []
    },
    {
      "cell_type": "code",
      "metadata": {
        "colab": {
          "base_uri": "https://localhost:8080/",
          "height": 204
        },
        "id": "xOpOths_Ami-",
        "outputId": "669ec3e7-a3eb-4407-f68b-7a8bfea82dc4"
      },
      "source": [
        "df.head()"
      ],
      "execution_count": null,
      "outputs": [
        {
          "output_type": "execute_result",
          "data": {
            "text/html": [
              "<div>\n",
              "<style scoped>\n",
              "    .dataframe tbody tr th:only-of-type {\n",
              "        vertical-align: middle;\n",
              "    }\n",
              "\n",
              "    .dataframe tbody tr th {\n",
              "        vertical-align: top;\n",
              "    }\n",
              "\n",
              "    .dataframe thead th {\n",
              "        text-align: right;\n",
              "    }\n",
              "</style>\n",
              "<table border=\"1\" class=\"dataframe\">\n",
              "  <thead>\n",
              "    <tr style=\"text-align: right;\">\n",
              "      <th></th>\n",
              "      <th>children</th>\n",
              "      <th>days_employed</th>\n",
              "      <th>dob_years</th>\n",
              "      <th>education</th>\n",
              "      <th>education_id</th>\n",
              "      <th>family_status</th>\n",
              "      <th>family_status_id</th>\n",
              "      <th>gender</th>\n",
              "      <th>income_type</th>\n",
              "      <th>debt</th>\n",
              "      <th>total_income</th>\n",
              "      <th>purpose</th>\n",
              "    </tr>\n",
              "  </thead>\n",
              "  <tbody>\n",
              "    <tr>\n",
              "      <th>0</th>\n",
              "      <td>1</td>\n",
              "      <td>-8437.673028</td>\n",
              "      <td>42</td>\n",
              "      <td>высшее</td>\n",
              "      <td>0</td>\n",
              "      <td>женат / замужем</td>\n",
              "      <td>0</td>\n",
              "      <td>F</td>\n",
              "      <td>сотрудник</td>\n",
              "      <td>0</td>\n",
              "      <td>253875.639453</td>\n",
              "      <td>покупка жилья</td>\n",
              "    </tr>\n",
              "    <tr>\n",
              "      <th>1</th>\n",
              "      <td>1</td>\n",
              "      <td>-4024.803754</td>\n",
              "      <td>36</td>\n",
              "      <td>среднее</td>\n",
              "      <td>1</td>\n",
              "      <td>женат / замужем</td>\n",
              "      <td>0</td>\n",
              "      <td>F</td>\n",
              "      <td>сотрудник</td>\n",
              "      <td>0</td>\n",
              "      <td>112080.014102</td>\n",
              "      <td>приобретение автомобиля</td>\n",
              "    </tr>\n",
              "    <tr>\n",
              "      <th>2</th>\n",
              "      <td>0</td>\n",
              "      <td>-5623.422610</td>\n",
              "      <td>33</td>\n",
              "      <td>Среднее</td>\n",
              "      <td>1</td>\n",
              "      <td>женат / замужем</td>\n",
              "      <td>0</td>\n",
              "      <td>M</td>\n",
              "      <td>сотрудник</td>\n",
              "      <td>0</td>\n",
              "      <td>145885.952297</td>\n",
              "      <td>покупка жилья</td>\n",
              "    </tr>\n",
              "    <tr>\n",
              "      <th>3</th>\n",
              "      <td>3</td>\n",
              "      <td>-4124.747207</td>\n",
              "      <td>32</td>\n",
              "      <td>среднее</td>\n",
              "      <td>1</td>\n",
              "      <td>женат / замужем</td>\n",
              "      <td>0</td>\n",
              "      <td>M</td>\n",
              "      <td>сотрудник</td>\n",
              "      <td>0</td>\n",
              "      <td>267628.550329</td>\n",
              "      <td>дополнительное образование</td>\n",
              "    </tr>\n",
              "    <tr>\n",
              "      <th>4</th>\n",
              "      <td>0</td>\n",
              "      <td>340266.072047</td>\n",
              "      <td>53</td>\n",
              "      <td>среднее</td>\n",
              "      <td>1</td>\n",
              "      <td>гражданский брак</td>\n",
              "      <td>1</td>\n",
              "      <td>F</td>\n",
              "      <td>пенсионер</td>\n",
              "      <td>0</td>\n",
              "      <td>158616.077870</td>\n",
              "      <td>сыграть свадьбу</td>\n",
              "    </tr>\n",
              "  </tbody>\n",
              "</table>\n",
              "</div>"
            ],
            "text/plain": [
              "   children  days_employed  ...   total_income                     purpose\n",
              "0         1   -8437.673028  ...  253875.639453               покупка жилья\n",
              "1         1   -4024.803754  ...  112080.014102     приобретение автомобиля\n",
              "2         0   -5623.422610  ...  145885.952297               покупка жилья\n",
              "3         3   -4124.747207  ...  267628.550329  дополнительное образование\n",
              "4         0  340266.072047  ...  158616.077870             сыграть свадьбу\n",
              "\n",
              "[5 rows x 12 columns]"
            ]
          },
          "metadata": {},
          "execution_count": 3
        }
      ]
    },
    {
      "cell_type": "code",
      "metadata": {
        "colab": {
          "base_uri": "https://localhost:8080/"
        },
        "id": "mmPPYE8BAqnt",
        "outputId": "9a3c7192-0630-4f51-f43f-e68fde03d715"
      },
      "source": [
        "df.info()"
      ],
      "execution_count": null,
      "outputs": [
        {
          "output_type": "stream",
          "name": "stdout",
          "text": [
            "<class 'pandas.core.frame.DataFrame'>\n",
            "RangeIndex: 21525 entries, 0 to 21524\n",
            "Data columns (total 12 columns):\n",
            " #   Column            Non-Null Count  Dtype  \n",
            "---  ------            --------------  -----  \n",
            " 0   children          21525 non-null  int64  \n",
            " 1   days_employed     19351 non-null  float64\n",
            " 2   dob_years         21525 non-null  int64  \n",
            " 3   education         21525 non-null  object \n",
            " 4   education_id      21525 non-null  int64  \n",
            " 5   family_status     21525 non-null  object \n",
            " 6   family_status_id  21525 non-null  int64  \n",
            " 7   gender            21525 non-null  object \n",
            " 8   income_type       21525 non-null  object \n",
            " 9   debt              21525 non-null  int64  \n",
            " 10  total_income      19351 non-null  float64\n",
            " 11  purpose           21525 non-null  object \n",
            "dtypes: float64(2), int64(5), object(5)\n",
            "memory usage: 2.0+ MB\n"
          ]
        }
      ]
    },
    {
      "cell_type": "code",
      "metadata": {
        "colab": {
          "base_uri": "https://localhost:8080/",
          "height": 296
        },
        "id": "TdDEtcl3A79v",
        "outputId": "4fee4259-84a2-4095-ebaa-3a667ac99793"
      },
      "source": [
        "df.describe()"
      ],
      "execution_count": null,
      "outputs": [
        {
          "output_type": "execute_result",
          "data": {
            "text/html": [
              "<div>\n",
              "<style scoped>\n",
              "    .dataframe tbody tr th:only-of-type {\n",
              "        vertical-align: middle;\n",
              "    }\n",
              "\n",
              "    .dataframe tbody tr th {\n",
              "        vertical-align: top;\n",
              "    }\n",
              "\n",
              "    .dataframe thead th {\n",
              "        text-align: right;\n",
              "    }\n",
              "</style>\n",
              "<table border=\"1\" class=\"dataframe\">\n",
              "  <thead>\n",
              "    <tr style=\"text-align: right;\">\n",
              "      <th></th>\n",
              "      <th>children</th>\n",
              "      <th>days_employed</th>\n",
              "      <th>dob_years</th>\n",
              "      <th>education_id</th>\n",
              "      <th>family_status_id</th>\n",
              "      <th>debt</th>\n",
              "      <th>total_income</th>\n",
              "    </tr>\n",
              "  </thead>\n",
              "  <tbody>\n",
              "    <tr>\n",
              "      <th>count</th>\n",
              "      <td>21525.000000</td>\n",
              "      <td>19351.000000</td>\n",
              "      <td>21525.000000</td>\n",
              "      <td>21525.000000</td>\n",
              "      <td>21525.000000</td>\n",
              "      <td>21525.000000</td>\n",
              "      <td>1.935100e+04</td>\n",
              "    </tr>\n",
              "    <tr>\n",
              "      <th>mean</th>\n",
              "      <td>0.538908</td>\n",
              "      <td>63046.497661</td>\n",
              "      <td>43.293380</td>\n",
              "      <td>0.817236</td>\n",
              "      <td>0.972544</td>\n",
              "      <td>0.080883</td>\n",
              "      <td>1.674223e+05</td>\n",
              "    </tr>\n",
              "    <tr>\n",
              "      <th>std</th>\n",
              "      <td>1.381587</td>\n",
              "      <td>140827.311974</td>\n",
              "      <td>12.574584</td>\n",
              "      <td>0.548138</td>\n",
              "      <td>1.420324</td>\n",
              "      <td>0.272661</td>\n",
              "      <td>1.029716e+05</td>\n",
              "    </tr>\n",
              "    <tr>\n",
              "      <th>min</th>\n",
              "      <td>-1.000000</td>\n",
              "      <td>-18388.949901</td>\n",
              "      <td>0.000000</td>\n",
              "      <td>0.000000</td>\n",
              "      <td>0.000000</td>\n",
              "      <td>0.000000</td>\n",
              "      <td>2.066726e+04</td>\n",
              "    </tr>\n",
              "    <tr>\n",
              "      <th>25%</th>\n",
              "      <td>0.000000</td>\n",
              "      <td>-2747.423625</td>\n",
              "      <td>33.000000</td>\n",
              "      <td>1.000000</td>\n",
              "      <td>0.000000</td>\n",
              "      <td>0.000000</td>\n",
              "      <td>1.030532e+05</td>\n",
              "    </tr>\n",
              "    <tr>\n",
              "      <th>50%</th>\n",
              "      <td>0.000000</td>\n",
              "      <td>-1203.369529</td>\n",
              "      <td>42.000000</td>\n",
              "      <td>1.000000</td>\n",
              "      <td>0.000000</td>\n",
              "      <td>0.000000</td>\n",
              "      <td>1.450179e+05</td>\n",
              "    </tr>\n",
              "    <tr>\n",
              "      <th>75%</th>\n",
              "      <td>1.000000</td>\n",
              "      <td>-291.095954</td>\n",
              "      <td>53.000000</td>\n",
              "      <td>1.000000</td>\n",
              "      <td>1.000000</td>\n",
              "      <td>0.000000</td>\n",
              "      <td>2.034351e+05</td>\n",
              "    </tr>\n",
              "    <tr>\n",
              "      <th>max</th>\n",
              "      <td>20.000000</td>\n",
              "      <td>401755.400475</td>\n",
              "      <td>75.000000</td>\n",
              "      <td>4.000000</td>\n",
              "      <td>4.000000</td>\n",
              "      <td>1.000000</td>\n",
              "      <td>2.265604e+06</td>\n",
              "    </tr>\n",
              "  </tbody>\n",
              "</table>\n",
              "</div>"
            ],
            "text/plain": [
              "           children  days_employed  ...          debt  total_income\n",
              "count  21525.000000   19351.000000  ...  21525.000000  1.935100e+04\n",
              "mean       0.538908   63046.497661  ...      0.080883  1.674223e+05\n",
              "std        1.381587  140827.311974  ...      0.272661  1.029716e+05\n",
              "min       -1.000000  -18388.949901  ...      0.000000  2.066726e+04\n",
              "25%        0.000000   -2747.423625  ...      0.000000  1.030532e+05\n",
              "50%        0.000000   -1203.369529  ...      0.000000  1.450179e+05\n",
              "75%        1.000000    -291.095954  ...      0.000000  2.034351e+05\n",
              "max       20.000000  401755.400475  ...      1.000000  2.265604e+06\n",
              "\n",
              "[8 rows x 7 columns]"
            ]
          },
          "metadata": {},
          "execution_count": 5
        }
      ]
    },
    {
      "cell_type": "markdown",
      "metadata": {
        "id": "coO16NTsGP2U"
      },
      "source": [
        "# Предобработка"
      ]
    },
    {
      "cell_type": "markdown",
      "metadata": {
        "id": "7g_-Grobu-IJ"
      },
      "source": [
        "Видно, что в даннных имеются пропуски  \n",
        "Наблюдаются ошибки в столбцах children и days_employyed (отрицательные значения, а также выбросы)"
      ]
    },
    {
      "cell_type": "markdown",
      "metadata": {
        "id": "tQ_Oej67BDlM"
      },
      "source": [
        "Просмотрим столбики на ошибки и обработаем пропуски"
      ]
    },
    {
      "cell_type": "code",
      "metadata": {
        "colab": {
          "base_uri": "https://localhost:8080/",
          "height": 204
        },
        "id": "HWbvy34LBrEU",
        "outputId": "b77f4c6e-e4fb-41cd-b2dd-40b0edb1ad15"
      },
      "source": [
        "df.head()"
      ],
      "execution_count": null,
      "outputs": [
        {
          "output_type": "execute_result",
          "data": {
            "text/html": [
              "<div>\n",
              "<style scoped>\n",
              "    .dataframe tbody tr th:only-of-type {\n",
              "        vertical-align: middle;\n",
              "    }\n",
              "\n",
              "    .dataframe tbody tr th {\n",
              "        vertical-align: top;\n",
              "    }\n",
              "\n",
              "    .dataframe thead th {\n",
              "        text-align: right;\n",
              "    }\n",
              "</style>\n",
              "<table border=\"1\" class=\"dataframe\">\n",
              "  <thead>\n",
              "    <tr style=\"text-align: right;\">\n",
              "      <th></th>\n",
              "      <th>children</th>\n",
              "      <th>days_employed</th>\n",
              "      <th>dob_years</th>\n",
              "      <th>education</th>\n",
              "      <th>education_id</th>\n",
              "      <th>family_status</th>\n",
              "      <th>family_status_id</th>\n",
              "      <th>gender</th>\n",
              "      <th>income_type</th>\n",
              "      <th>debt</th>\n",
              "      <th>total_income</th>\n",
              "      <th>purpose</th>\n",
              "    </tr>\n",
              "  </thead>\n",
              "  <tbody>\n",
              "    <tr>\n",
              "      <th>0</th>\n",
              "      <td>1</td>\n",
              "      <td>-8437.673028</td>\n",
              "      <td>42</td>\n",
              "      <td>высшее</td>\n",
              "      <td>0</td>\n",
              "      <td>женат / замужем</td>\n",
              "      <td>0</td>\n",
              "      <td>F</td>\n",
              "      <td>сотрудник</td>\n",
              "      <td>0</td>\n",
              "      <td>253875.639453</td>\n",
              "      <td>покупка жилья</td>\n",
              "    </tr>\n",
              "    <tr>\n",
              "      <th>1</th>\n",
              "      <td>1</td>\n",
              "      <td>-4024.803754</td>\n",
              "      <td>36</td>\n",
              "      <td>среднее</td>\n",
              "      <td>1</td>\n",
              "      <td>женат / замужем</td>\n",
              "      <td>0</td>\n",
              "      <td>F</td>\n",
              "      <td>сотрудник</td>\n",
              "      <td>0</td>\n",
              "      <td>112080.014102</td>\n",
              "      <td>приобретение автомобиля</td>\n",
              "    </tr>\n",
              "    <tr>\n",
              "      <th>2</th>\n",
              "      <td>0</td>\n",
              "      <td>-5623.422610</td>\n",
              "      <td>33</td>\n",
              "      <td>Среднее</td>\n",
              "      <td>1</td>\n",
              "      <td>женат / замужем</td>\n",
              "      <td>0</td>\n",
              "      <td>M</td>\n",
              "      <td>сотрудник</td>\n",
              "      <td>0</td>\n",
              "      <td>145885.952297</td>\n",
              "      <td>покупка жилья</td>\n",
              "    </tr>\n",
              "    <tr>\n",
              "      <th>3</th>\n",
              "      <td>3</td>\n",
              "      <td>-4124.747207</td>\n",
              "      <td>32</td>\n",
              "      <td>среднее</td>\n",
              "      <td>1</td>\n",
              "      <td>женат / замужем</td>\n",
              "      <td>0</td>\n",
              "      <td>M</td>\n",
              "      <td>сотрудник</td>\n",
              "      <td>0</td>\n",
              "      <td>267628.550329</td>\n",
              "      <td>дополнительное образование</td>\n",
              "    </tr>\n",
              "    <tr>\n",
              "      <th>4</th>\n",
              "      <td>0</td>\n",
              "      <td>340266.072047</td>\n",
              "      <td>53</td>\n",
              "      <td>среднее</td>\n",
              "      <td>1</td>\n",
              "      <td>гражданский брак</td>\n",
              "      <td>1</td>\n",
              "      <td>F</td>\n",
              "      <td>пенсионер</td>\n",
              "      <td>0</td>\n",
              "      <td>158616.077870</td>\n",
              "      <td>сыграть свадьбу</td>\n",
              "    </tr>\n",
              "  </tbody>\n",
              "</table>\n",
              "</div>"
            ],
            "text/plain": [
              "   children  days_employed  ...   total_income                     purpose\n",
              "0         1   -8437.673028  ...  253875.639453               покупка жилья\n",
              "1         1   -4024.803754  ...  112080.014102     приобретение автомобиля\n",
              "2         0   -5623.422610  ...  145885.952297               покупка жилья\n",
              "3         3   -4124.747207  ...  267628.550329  дополнительное образование\n",
              "4         0  340266.072047  ...  158616.077870             сыграть свадьбу\n",
              "\n",
              "[5 rows x 12 columns]"
            ]
          },
          "metadata": {},
          "execution_count": 6
        }
      ]
    },
    {
      "cell_type": "markdown",
      "metadata": {
        "id": "6bDCbCNNwdxi"
      },
      "source": [
        "## Работа с пропусками/дубликатами и ошибками"
      ]
    },
    {
      "cell_type": "markdown",
      "metadata": {
        "id": "lkjwhx5Ox8Lh"
      },
      "source": [
        "**children**  \n",
        "Заменим значения -1 на 1, а также 20 на 2 (вероятно, это опечатка)\n"
      ]
    },
    {
      "cell_type": "code",
      "metadata": {
        "colab": {
          "base_uri": "https://localhost:8080/"
        },
        "id": "7v6g9ydrBWDo",
        "outputId": "ce33cf54-af6a-4e0f-d205-cd6778e1f794"
      },
      "source": [
        "df['children'].value_counts()"
      ],
      "execution_count": null,
      "outputs": [
        {
          "output_type": "execute_result",
          "data": {
            "text/plain": [
              " 0     14149\n",
              " 1      4818\n",
              " 2      2055\n",
              " 3       330\n",
              " 20       76\n",
              "-1        47\n",
              " 4        41\n",
              " 5         9\n",
              "Name: children, dtype: int64"
            ]
          },
          "metadata": {},
          "execution_count": 7
        }
      ]
    },
    {
      "cell_type": "code",
      "metadata": {
        "id": "H4TtmmwzxTwB"
      },
      "source": [
        "df['children'] = df['children'].replace(20,2)\n",
        "df['children'] = df['children'].replace(-1,1)"
      ],
      "execution_count": null,
      "outputs": []
    },
    {
      "cell_type": "code",
      "metadata": {
        "colab": {
          "base_uri": "https://localhost:8080/"
        },
        "id": "_XjcxkASxgmr",
        "outputId": "e3e27c79-b6a0-4d2f-a6b0-1c01671806cb"
      },
      "source": [
        "df['children'].value_counts()"
      ],
      "execution_count": null,
      "outputs": [
        {
          "output_type": "execute_result",
          "data": {
            "text/plain": [
              "0    14149\n",
              "1     4865\n",
              "2     2131\n",
              "3      330\n",
              "4       41\n",
              "5        9\n",
              "Name: children, dtype: int64"
            ]
          },
          "metadata": {},
          "execution_count": 9
        }
      ]
    },
    {
      "cell_type": "markdown",
      "metadata": {
        "id": "MvuJhLTnyMqf"
      },
      "source": [
        "**days_employed**  "
      ]
    },
    {
      "cell_type": "code",
      "metadata": {
        "colab": {
          "base_uri": "https://localhost:8080/"
        },
        "id": "cA3qibt3yMs6",
        "outputId": "7973b203-d827-41b8-ca33-1c866ff271c9"
      },
      "source": [
        "df['days_employed'].describe()"
      ],
      "execution_count": null,
      "outputs": [
        {
          "output_type": "execute_result",
          "data": {
            "text/plain": [
              "count     19351.000000\n",
              "mean      63046.497661\n",
              "std      140827.311974\n",
              "min      -18388.949901\n",
              "25%       -2747.423625\n",
              "50%       -1203.369529\n",
              "75%        -291.095954\n",
              "max      401755.400475\n",
              "Name: days_employed, dtype: float64"
            ]
          },
          "metadata": {},
          "execution_count": 10
        }
      ]
    },
    {
      "cell_type": "markdown",
      "metadata": {
        "id": "U8hzc_j_Ahx8"
      },
      "source": [
        "Превратим отрицательные значения в положительные"
      ]
    },
    {
      "cell_type": "code",
      "metadata": {
        "id": "P9GPa2y8yMvs"
      },
      "source": [
        "df['days_employed'] = abs(df['days_employed'])"
      ],
      "execution_count": null,
      "outputs": []
    },
    {
      "cell_type": "code",
      "metadata": {
        "colab": {
          "base_uri": "https://localhost:8080/"
        },
        "id": "UkRrbs1FyMym",
        "outputId": "4328072a-331d-48e1-a728-5500e51287d9"
      },
      "source": [
        "df['days_employed'].describe()"
      ],
      "execution_count": null,
      "outputs": [
        {
          "output_type": "execute_result",
          "data": {
            "text/plain": [
              "count     19351.000000\n",
              "mean      66914.728907\n",
              "std      139030.880527\n",
              "min          24.141633\n",
              "25%         927.009265\n",
              "50%        2194.220567\n",
              "75%        5537.882441\n",
              "max      401755.400475\n",
              "Name: days_employed, dtype: float64"
            ]
          },
          "metadata": {},
          "execution_count": 12
        }
      ]
    },
    {
      "cell_type": "markdown",
      "metadata": {
        "id": "_t5f03-MAs65"
      },
      "source": [
        "Посмотрим на распределение, чтобы выявить аномалии"
      ]
    },
    {
      "cell_type": "code",
      "metadata": {
        "colab": {
          "base_uri": "https://localhost:8080/",
          "height": 283
        },
        "id": "1HoZQ3Bcy2bX",
        "outputId": "794d09b7-ba6a-4f0a-f24a-b11f88913339"
      },
      "source": [
        "df['days_employed'].hist()"
      ],
      "execution_count": null,
      "outputs": [
        {
          "output_type": "execute_result",
          "data": {
            "text/plain": [
              "<matplotlib.axes._subplots.AxesSubplot at 0x7f578bd31310>"
            ]
          },
          "metadata": {},
          "execution_count": 13
        },
        {
          "output_type": "display_data",
          "data": {
            "image/png": "[encoded data removed]",
            "text/plain": [
              "<Figure size 432x288 with 1 Axes>"
            ]
          },
          "metadata": {
            "needs_background": "light"
          }
        }
      ]
    },
    {
      "cell_type": "markdown",
      "metadata": {
        "id": "jLp8yZnWyM4N"
      },
      "source": [
        "Видно, что у нас имеются выбросы.  \n",
        "Рассмотрим значения, которые являются выбросами (т.к. их достаточно много)"
      ]
    },
    {
      "cell_type": "code",
      "metadata": {
        "colab": {
          "base_uri": "https://localhost:8080/",
          "height": 502
        },
        "id": "owUSXWiIy83q",
        "outputId": "c52b97f1-5108-490e-9f2b-3014c9a3f0f3"
      },
      "source": [
        "df[df['days_employed'] > 100000].sort_values(by = 'days_employed')"
      ],
      "execution_count": null,
      "outputs": [
        {
          "output_type": "execute_result",
          "data": {
            "text/html": [
              "<div>\n",
              "<style scoped>\n",
              "    .dataframe tbody tr th:only-of-type {\n",
              "        vertical-align: middle;\n",
              "    }\n",
              "\n",
              "    .dataframe tbody tr th {\n",
              "        vertical-align: top;\n",
              "    }\n",
              "\n",
              "    .dataframe thead th {\n",
              "        text-align: right;\n",
              "    }\n",
              "</style>\n",
              "<table border=\"1\" class=\"dataframe\">\n",
              "  <thead>\n",
              "    <tr style=\"text-align: right;\">\n",
              "      <th></th>\n",
              "      <th>children</th>\n",
              "      <th>days_employed</th>\n",
              "      <th>dob_years</th>\n",
              "      <th>education</th>\n",
              "      <th>education_id</th>\n",
              "      <th>family_status</th>\n",
              "      <th>family_status_id</th>\n",
              "      <th>gender</th>\n",
              "      <th>income_type</th>\n",
              "      <th>debt</th>\n",
              "      <th>total_income</th>\n",
              "      <th>purpose</th>\n",
              "    </tr>\n",
              "  </thead>\n",
              "  <tbody>\n",
              "    <tr>\n",
              "      <th>20444</th>\n",
              "      <td>0</td>\n",
              "      <td>328728.720605</td>\n",
              "      <td>72</td>\n",
              "      <td>среднее</td>\n",
              "      <td>1</td>\n",
              "      <td>вдовец / вдова</td>\n",
              "      <td>2</td>\n",
              "      <td>F</td>\n",
              "      <td>пенсионер</td>\n",
              "      <td>0</td>\n",
              "      <td>96519.339647</td>\n",
              "      <td>покупка жилья для семьи</td>\n",
              "    </tr>\n",
              "    <tr>\n",
              "      <th>9328</th>\n",
              "      <td>2</td>\n",
              "      <td>328734.923996</td>\n",
              "      <td>41</td>\n",
              "      <td>высшее</td>\n",
              "      <td>0</td>\n",
              "      <td>женат / замужем</td>\n",
              "      <td>0</td>\n",
              "      <td>M</td>\n",
              "      <td>пенсионер</td>\n",
              "      <td>0</td>\n",
              "      <td>126997.497760</td>\n",
              "      <td>операции со своей недвижимостью</td>\n",
              "    </tr>\n",
              "    <tr>\n",
              "      <th>17782</th>\n",
              "      <td>0</td>\n",
              "      <td>328771.341387</td>\n",
              "      <td>56</td>\n",
              "      <td>среднее</td>\n",
              "      <td>1</td>\n",
              "      <td>женат / замужем</td>\n",
              "      <td>0</td>\n",
              "      <td>F</td>\n",
              "      <td>пенсионер</td>\n",
              "      <td>0</td>\n",
              "      <td>68648.047062</td>\n",
              "      <td>операции с коммерческой недвижимостью</td>\n",
              "    </tr>\n",
              "    <tr>\n",
              "      <th>14783</th>\n",
              "      <td>0</td>\n",
              "      <td>328795.726728</td>\n",
              "      <td>62</td>\n",
              "      <td>высшее</td>\n",
              "      <td>0</td>\n",
              "      <td>женат / замужем</td>\n",
              "      <td>0</td>\n",
              "      <td>F</td>\n",
              "      <td>пенсионер</td>\n",
              "      <td>0</td>\n",
              "      <td>79940.196752</td>\n",
              "      <td>на покупку своего автомобиля</td>\n",
              "    </tr>\n",
              "    <tr>\n",
              "      <th>7229</th>\n",
              "      <td>1</td>\n",
              "      <td>328827.345667</td>\n",
              "      <td>32</td>\n",
              "      <td>среднее</td>\n",
              "      <td>1</td>\n",
              "      <td>гражданский брак</td>\n",
              "      <td>1</td>\n",
              "      <td>F</td>\n",
              "      <td>пенсионер</td>\n",
              "      <td>0</td>\n",
              "      <td>122162.965695</td>\n",
              "      <td>сыграть свадьбу</td>\n",
              "    </tr>\n",
              "    <tr>\n",
              "      <th>...</th>\n",
              "      <td>...</td>\n",
              "      <td>...</td>\n",
              "      <td>...</td>\n",
              "      <td>...</td>\n",
              "      <td>...</td>\n",
              "      <td>...</td>\n",
              "      <td>...</td>\n",
              "      <td>...</td>\n",
              "      <td>...</td>\n",
              "      <td>...</td>\n",
              "      <td>...</td>\n",
              "      <td>...</td>\n",
              "    </tr>\n",
              "    <tr>\n",
              "      <th>7794</th>\n",
              "      <td>0</td>\n",
              "      <td>401663.850046</td>\n",
              "      <td>61</td>\n",
              "      <td>среднее</td>\n",
              "      <td>1</td>\n",
              "      <td>гражданский брак</td>\n",
              "      <td>1</td>\n",
              "      <td>F</td>\n",
              "      <td>пенсионер</td>\n",
              "      <td>0</td>\n",
              "      <td>48286.441362</td>\n",
              "      <td>свадьба</td>\n",
              "    </tr>\n",
              "    <tr>\n",
              "      <th>2156</th>\n",
              "      <td>0</td>\n",
              "      <td>401674.466633</td>\n",
              "      <td>60</td>\n",
              "      <td>среднее</td>\n",
              "      <td>1</td>\n",
              "      <td>женат / замужем</td>\n",
              "      <td>0</td>\n",
              "      <td>M</td>\n",
              "      <td>пенсионер</td>\n",
              "      <td>0</td>\n",
              "      <td>325395.724541</td>\n",
              "      <td>автомобили</td>\n",
              "    </tr>\n",
              "    <tr>\n",
              "      <th>7664</th>\n",
              "      <td>1</td>\n",
              "      <td>401675.093434</td>\n",
              "      <td>61</td>\n",
              "      <td>среднее</td>\n",
              "      <td>1</td>\n",
              "      <td>женат / замужем</td>\n",
              "      <td>0</td>\n",
              "      <td>F</td>\n",
              "      <td>пенсионер</td>\n",
              "      <td>0</td>\n",
              "      <td>126214.519212</td>\n",
              "      <td>операции с жильем</td>\n",
              "    </tr>\n",
              "    <tr>\n",
              "      <th>10006</th>\n",
              "      <td>0</td>\n",
              "      <td>401715.811749</td>\n",
              "      <td>69</td>\n",
              "      <td>высшее</td>\n",
              "      <td>0</td>\n",
              "      <td>Не женат / не замужем</td>\n",
              "      <td>4</td>\n",
              "      <td>F</td>\n",
              "      <td>пенсионер</td>\n",
              "      <td>0</td>\n",
              "      <td>57390.256908</td>\n",
              "      <td>получение образования</td>\n",
              "    </tr>\n",
              "    <tr>\n",
              "      <th>6954</th>\n",
              "      <td>0</td>\n",
              "      <td>401755.400475</td>\n",
              "      <td>56</td>\n",
              "      <td>среднее</td>\n",
              "      <td>1</td>\n",
              "      <td>вдовец / вдова</td>\n",
              "      <td>2</td>\n",
              "      <td>F</td>\n",
              "      <td>пенсионер</td>\n",
              "      <td>0</td>\n",
              "      <td>176278.441171</td>\n",
              "      <td>ремонт жилью</td>\n",
              "    </tr>\n",
              "  </tbody>\n",
              "</table>\n",
              "<p>3445 rows × 12 columns</p>\n",
              "</div>"
            ],
            "text/plain": [
              "       children  ...                                purpose\n",
              "20444         0  ...                покупка жилья для семьи\n",
              "9328          2  ...        операции со своей недвижимостью\n",
              "17782         0  ...  операции с коммерческой недвижимостью\n",
              "14783         0  ...           на покупку своего автомобиля\n",
              "7229          1  ...                        сыграть свадьбу\n",
              "...         ...  ...                                    ...\n",
              "7794          0  ...                                свадьба\n",
              "2156          0  ...                             автомобили\n",
              "7664          1  ...                      операции с жильем\n",
              "10006         0  ...                  получение образования\n",
              "6954          0  ...                           ремонт жилью\n",
              "\n",
              "[3445 rows x 12 columns]"
            ]
          },
          "metadata": {},
          "execution_count": 14
        }
      ]
    },
    {
      "cell_type": "code",
      "metadata": {
        "colab": {
          "base_uri": "https://localhost:8080/"
        },
        "id": "Z6R2xYfdBJK6",
        "outputId": "b3327286-1a7b-4bb8-c369-e4ce4e1e42f7"
      },
      "source": [
        "3445/19351.000000"
      ],
      "execution_count": null,
      "outputs": [
        {
          "output_type": "execute_result",
          "data": {
            "text/plain": [
              "0.1780269753501111"
            ]
          },
          "metadata": {},
          "execution_count": 15
        }
      ]
    },
    {
      "cell_type": "markdown",
      "metadata": {
        "id": "L0_jybJ-BT9h"
      },
      "source": [
        "Доля выбросов составляет 18%.  \n",
        "Это достаточно большая доля, для того, чтобы просто ее выкинуть из выборки (можем потерять ценные данные)."
      ]
    },
    {
      "cell_type": "markdown",
      "metadata": {
        "id": "RzrRllDZy8-q"
      },
      "source": [
        "Вероятно, что данные показатели выгружены с ошибкой, а именно вместо дней, данные представлены в часах  \n",
        "Посмотрим, что получится, если преобразуем аномально большие данные, поделив их на 24 (кол-во часов)"
      ]
    },
    {
      "cell_type": "code",
      "metadata": {
        "colab": {
          "base_uri": "https://localhost:8080/"
        },
        "id": "gGBQZVrNy86q",
        "outputId": "ab41dcd6-762a-490d-90b3-2a793361c9f3"
      },
      "source": [
        "328728.720605\t/24"
      ],
      "execution_count": null,
      "outputs": [
        {
          "output_type": "execute_result",
          "data": {
            "text/plain": [
              "13697.030025208333"
            ]
          },
          "metadata": {},
          "execution_count": 16
        }
      ]
    },
    {
      "cell_type": "code",
      "metadata": {
        "id": "jHC_HoEUy9BM"
      },
      "source": [
        "df.loc[df['days_employed'] > 100000, 'days_employed'] = df['days_employed']/24"
      ],
      "execution_count": null,
      "outputs": []
    },
    {
      "cell_type": "code",
      "metadata": {
        "colab": {
          "base_uri": "https://localhost:8080/",
          "height": 283
        },
        "id": "PVe5orncy9F5",
        "outputId": "1dcfbdef-3dc0-4fc7-a782-d2a6e82ee01e"
      },
      "source": [
        "df['days_employed'].hist()"
      ],
      "execution_count": null,
      "outputs": [
        {
          "output_type": "execute_result",
          "data": {
            "text/plain": [
              "<matplotlib.axes._subplots.AxesSubplot at 0x7f578b572390>"
            ]
          },
          "metadata": {},
          "execution_count": 18
        },
        {
          "output_type": "display_data",
          "data": {
            "image/png": "[encoded data removed]",
            "text/plain": [
              "<Figure size 432x288 with 1 Axes>"
            ]
          },
          "metadata": {
            "needs_background": "light"
          }
        }
      ]
    },
    {
      "cell_type": "code",
      "metadata": {
        "colab": {
          "base_uri": "https://localhost:8080/"
        },
        "id": "ipNf2Q65y9Iy",
        "outputId": "e9f6c4c9-e2e8-45af-949f-d4b54b459c54"
      },
      "source": [
        "17500/365"
      ],
      "execution_count": null,
      "outputs": [
        {
          "output_type": "execute_result",
          "data": {
            "text/plain": [
              "47.945205479452056"
            ]
          },
          "metadata": {},
          "execution_count": 19
        }
      ]
    },
    {
      "cell_type": "markdown",
      "metadata": {
        "id": "hmDDo49Fy9ME"
      },
      "source": [
        "Теперь показатель 'days_employed' выглядит правдоподобно"
      ]
    },
    {
      "cell_type": "code",
      "metadata": {
        "colab": {
          "base_uri": "https://localhost:8080/"
        },
        "id": "5KP34NgJAbR_",
        "outputId": "8eb2cd6a-6e6d-4576-e722-14705dd72cfa"
      },
      "source": [
        "df.info()"
      ],
      "execution_count": null,
      "outputs": [
        {
          "output_type": "stream",
          "name": "stdout",
          "text": [
            "<class 'pandas.core.frame.DataFrame'>\n",
            "RangeIndex: 21525 entries, 0 to 21524\n",
            "Data columns (total 12 columns):\n",
            " #   Column            Non-Null Count  Dtype  \n",
            "---  ------            --------------  -----  \n",
            " 0   children          21525 non-null  int64  \n",
            " 1   days_employed     19351 non-null  float64\n",
            " 2   dob_years         21525 non-null  int64  \n",
            " 3   education         21525 non-null  object \n",
            " 4   education_id      21525 non-null  int64  \n",
            " 5   family_status     21525 non-null  object \n",
            " 6   family_status_id  21525 non-null  int64  \n",
            " 7   gender            21525 non-null  object \n",
            " 8   income_type       21525 non-null  object \n",
            " 9   debt              21525 non-null  int64  \n",
            " 10  total_income      19351 non-null  float64\n",
            " 11  purpose           21525 non-null  object \n",
            "dtypes: float64(2), int64(5), object(5)\n",
            "memory usage: 2.0+ MB\n"
          ]
        }
      ]
    },
    {
      "cell_type": "code",
      "metadata": {
        "colab": {
          "base_uri": "https://localhost:8080/",
          "height": 502
        },
        "id": "2AdlRmD0AbZ6",
        "outputId": "3f357f31-75e0-42bf-d8f4-d44b45e1ae3a"
      },
      "source": [
        "df.loc[(df['days_employed'].isna()) & (df['total_income'].isna())] "
      ],
      "execution_count": null,
      "outputs": [
        {
          "output_type": "execute_result",
          "data": {
            "text/html": [
              "<div>\n",
              "<style scoped>\n",
              "    .dataframe tbody tr th:only-of-type {\n",
              "        vertical-align: middle;\n",
              "    }\n",
              "\n",
              "    .dataframe tbody tr th {\n",
              "        vertical-align: top;\n",
              "    }\n",
              "\n",
              "    .dataframe thead th {\n",
              "        text-align: right;\n",
              "    }\n",
              "</style>\n",
              "<table border=\"1\" class=\"dataframe\">\n",
              "  <thead>\n",
              "    <tr style=\"text-align: right;\">\n",
              "      <th></th>\n",
              "      <th>children</th>\n",
              "      <th>days_employed</th>\n",
              "      <th>dob_years</th>\n",
              "      <th>education</th>\n",
              "      <th>education_id</th>\n",
              "      <th>family_status</th>\n",
              "      <th>family_status_id</th>\n",
              "      <th>gender</th>\n",
              "      <th>income_type</th>\n",
              "      <th>debt</th>\n",
              "      <th>total_income</th>\n",
              "      <th>purpose</th>\n",
              "    </tr>\n",
              "  </thead>\n",
              "  <tbody>\n",
              "    <tr>\n",
              "      <th>12</th>\n",
              "      <td>0</td>\n",
              "      <td>NaN</td>\n",
              "      <td>65</td>\n",
              "      <td>среднее</td>\n",
              "      <td>1</td>\n",
              "      <td>гражданский брак</td>\n",
              "      <td>1</td>\n",
              "      <td>M</td>\n",
              "      <td>пенсионер</td>\n",
              "      <td>0</td>\n",
              "      <td>NaN</td>\n",
              "      <td>сыграть свадьбу</td>\n",
              "    </tr>\n",
              "    <tr>\n",
              "      <th>26</th>\n",
              "      <td>0</td>\n",
              "      <td>NaN</td>\n",
              "      <td>41</td>\n",
              "      <td>среднее</td>\n",
              "      <td>1</td>\n",
              "      <td>женат / замужем</td>\n",
              "      <td>0</td>\n",
              "      <td>M</td>\n",
              "      <td>госслужащий</td>\n",
              "      <td>0</td>\n",
              "      <td>NaN</td>\n",
              "      <td>образование</td>\n",
              "    </tr>\n",
              "    <tr>\n",
              "      <th>29</th>\n",
              "      <td>0</td>\n",
              "      <td>NaN</td>\n",
              "      <td>63</td>\n",
              "      <td>среднее</td>\n",
              "      <td>1</td>\n",
              "      <td>Не женат / не замужем</td>\n",
              "      <td>4</td>\n",
              "      <td>F</td>\n",
              "      <td>пенсионер</td>\n",
              "      <td>0</td>\n",
              "      <td>NaN</td>\n",
              "      <td>строительство жилой недвижимости</td>\n",
              "    </tr>\n",
              "    <tr>\n",
              "      <th>41</th>\n",
              "      <td>0</td>\n",
              "      <td>NaN</td>\n",
              "      <td>50</td>\n",
              "      <td>среднее</td>\n",
              "      <td>1</td>\n",
              "      <td>женат / замужем</td>\n",
              "      <td>0</td>\n",
              "      <td>F</td>\n",
              "      <td>госслужащий</td>\n",
              "      <td>0</td>\n",
              "      <td>NaN</td>\n",
              "      <td>сделка с подержанным автомобилем</td>\n",
              "    </tr>\n",
              "    <tr>\n",
              "      <th>55</th>\n",
              "      <td>0</td>\n",
              "      <td>NaN</td>\n",
              "      <td>54</td>\n",
              "      <td>среднее</td>\n",
              "      <td>1</td>\n",
              "      <td>гражданский брак</td>\n",
              "      <td>1</td>\n",
              "      <td>F</td>\n",
              "      <td>пенсионер</td>\n",
              "      <td>1</td>\n",
              "      <td>NaN</td>\n",
              "      <td>сыграть свадьбу</td>\n",
              "    </tr>\n",
              "    <tr>\n",
              "      <th>...</th>\n",
              "      <td>...</td>\n",
              "      <td>...</td>\n",
              "      <td>...</td>\n",
              "      <td>...</td>\n",
              "      <td>...</td>\n",
              "      <td>...</td>\n",
              "      <td>...</td>\n",
              "      <td>...</td>\n",
              "      <td>...</td>\n",
              "      <td>...</td>\n",
              "      <td>...</td>\n",
              "      <td>...</td>\n",
              "    </tr>\n",
              "    <tr>\n",
              "      <th>21489</th>\n",
              "      <td>2</td>\n",
              "      <td>NaN</td>\n",
              "      <td>47</td>\n",
              "      <td>Среднее</td>\n",
              "      <td>1</td>\n",
              "      <td>женат / замужем</td>\n",
              "      <td>0</td>\n",
              "      <td>M</td>\n",
              "      <td>компаньон</td>\n",
              "      <td>0</td>\n",
              "      <td>NaN</td>\n",
              "      <td>сделка с автомобилем</td>\n",
              "    </tr>\n",
              "    <tr>\n",
              "      <th>21495</th>\n",
              "      <td>1</td>\n",
              "      <td>NaN</td>\n",
              "      <td>50</td>\n",
              "      <td>среднее</td>\n",
              "      <td>1</td>\n",
              "      <td>гражданский брак</td>\n",
              "      <td>1</td>\n",
              "      <td>F</td>\n",
              "      <td>сотрудник</td>\n",
              "      <td>0</td>\n",
              "      <td>NaN</td>\n",
              "      <td>свадьба</td>\n",
              "    </tr>\n",
              "    <tr>\n",
              "      <th>21497</th>\n",
              "      <td>0</td>\n",
              "      <td>NaN</td>\n",
              "      <td>48</td>\n",
              "      <td>ВЫСШЕЕ</td>\n",
              "      <td>0</td>\n",
              "      <td>женат / замужем</td>\n",
              "      <td>0</td>\n",
              "      <td>F</td>\n",
              "      <td>компаньон</td>\n",
              "      <td>0</td>\n",
              "      <td>NaN</td>\n",
              "      <td>строительство недвижимости</td>\n",
              "    </tr>\n",
              "    <tr>\n",
              "      <th>21502</th>\n",
              "      <td>1</td>\n",
              "      <td>NaN</td>\n",
              "      <td>42</td>\n",
              "      <td>среднее</td>\n",
              "      <td>1</td>\n",
              "      <td>женат / замужем</td>\n",
              "      <td>0</td>\n",
              "      <td>F</td>\n",
              "      <td>сотрудник</td>\n",
              "      <td>0</td>\n",
              "      <td>NaN</td>\n",
              "      <td>строительство жилой недвижимости</td>\n",
              "    </tr>\n",
              "    <tr>\n",
              "      <th>21510</th>\n",
              "      <td>2</td>\n",
              "      <td>NaN</td>\n",
              "      <td>28</td>\n",
              "      <td>среднее</td>\n",
              "      <td>1</td>\n",
              "      <td>женат / замужем</td>\n",
              "      <td>0</td>\n",
              "      <td>F</td>\n",
              "      <td>сотрудник</td>\n",
              "      <td>0</td>\n",
              "      <td>NaN</td>\n",
              "      <td>приобретение автомобиля</td>\n",
              "    </tr>\n",
              "  </tbody>\n",
              "</table>\n",
              "<p>2174 rows × 12 columns</p>\n",
              "</div>"
            ],
            "text/plain": [
              "       children  days_employed  ...  total_income                           purpose\n",
              "12            0            NaN  ...           NaN                   сыграть свадьбу\n",
              "26            0            NaN  ...           NaN                       образование\n",
              "29            0            NaN  ...           NaN  строительство жилой недвижимости\n",
              "41            0            NaN  ...           NaN  сделка с подержанным автомобилем\n",
              "55            0            NaN  ...           NaN                   сыграть свадьбу\n",
              "...         ...            ...  ...           ...                               ...\n",
              "21489         2            NaN  ...           NaN              сделка с автомобилем\n",
              "21495         1            NaN  ...           NaN                           свадьба\n",
              "21497         0            NaN  ...           NaN        строительство недвижимости\n",
              "21502         1            NaN  ...           NaN  строительство жилой недвижимости\n",
              "21510         2            NaN  ...           NaN           приобретение автомобиля\n",
              "\n",
              "[2174 rows x 12 columns]"
            ]
          },
          "metadata": {},
          "execution_count": 21
        }
      ]
    },
    {
      "cell_type": "code",
      "metadata": {
        "colab": {
          "base_uri": "https://localhost:8080/"
        },
        "id": "xnynNHKKAbgK",
        "outputId": "fd398675-ac13-4a88-89e8-f25ca79c3a2b"
      },
      "source": [
        "2174 / 21525"
      ],
      "execution_count": null,
      "outputs": [
        {
          "output_type": "execute_result",
          "data": {
            "text/plain": [
              "0.10099883855981417"
            ]
          },
          "metadata": {},
          "execution_count": 22
        }
      ]
    },
    {
      "cell_type": "markdown",
      "metadata": {
        "id": "KYitR9VS48bK"
      },
      "source": [
        "пропуски в days_employed заменим на 0, так как в дальнейшем данный показатель нам будет ненужен.  \n",
        "Пропуски же в total_income заменим далее, когда произведем категоризацию данных (чтобы выборки были репрезентативными и лучше отражали данные)."
      ]
    },
    {
      "cell_type": "code",
      "metadata": {
        "colab": {
          "base_uri": "https://localhost:8080/",
          "height": 286
        },
        "id": "rDt5rKL248dw",
        "outputId": "d5a366f7-7fec-48c1-e07b-132b9bcbcac4"
      },
      "source": [
        "df['dob_years'].hist(bins = 15)"
      ],
      "execution_count": null,
      "outputs": [
        {
          "output_type": "execute_result",
          "data": {
            "text/plain": [
              "<matplotlib.axes._subplots.AxesSubplot at 0x7f578ac98450>"
            ]
          },
          "metadata": {},
          "execution_count": 23
        },
        {
          "output_type": "display_data",
          "data": {
            "image/png": "[encoded data removed]",
            "text/plain": [
              "<Figure size 432x288 with 1 Axes>"
            ]
          },
          "metadata": {
            "needs_background": "light"
          }
        }
      ]
    },
    {
      "cell_type": "markdown",
      "metadata": {
        "id": "keC_-XaV48hj"
      },
      "source": [
        "Видно, что есть данные где возраст клиента = 0, посмотрим на них"
      ]
    },
    {
      "cell_type": "code",
      "metadata": {
        "colab": {
          "base_uri": "https://localhost:8080/"
        },
        "id": "o1jbxONKmbJp",
        "outputId": "c640a5bd-700d-4744-f81d-c2e0f454d60e"
      },
      "source": [
        "len(df[df['dob_years'] <15])"
      ],
      "execution_count": null,
      "outputs": [
        {
          "output_type": "execute_result",
          "data": {
            "text/plain": [
              "101"
            ]
          },
          "metadata": {},
          "execution_count": 24
        }
      ]
    },
    {
      "cell_type": "markdown",
      "metadata": {
        "id": "aHbGGfhom4bn"
      },
      "source": [
        "удалим данных клиентов, чтобы их ошибочные показатели не портили результаты анализа. "
      ]
    },
    {
      "cell_type": "code",
      "metadata": {
        "id": "Y2bxhhunm4j7"
      },
      "source": [
        "df=df.query('dob_years >= 18')"
      ],
      "execution_count": null,
      "outputs": []
    },
    {
      "cell_type": "code",
      "metadata": {
        "id": "3guEU1CaEW4i",
        "colab": {
          "base_uri": "https://localhost:8080/"
        },
        "outputId": "d0325349-915b-4f7b-bedb-937235af4de3"
      },
      "source": [
        "df['education']=df['education'].str.lower()\n",
        "df['family_status'] = df['family_status'].str.lower()"
      ],
      "execution_count": null,
      "outputs": [
        {
          "output_type": "stream",
          "name": "stderr",
          "text": [
            "/usr/local/lib/python3.7/dist-packages/ipykernel_launcher.py:1: SettingWithCopyWarning: \n",
            "A value is trying to be set on a copy of a slice from a DataFrame.\n",
            "Try using .loc[row_indexer,col_indexer] = value instead\n",
            "\n",
            "See the caveats in the documentation: https://pandas.pydata.org/pandas-docs/stable/user_guide/indexing.html#returning-a-view-versus-a-copy\n",
            "  \"\"\"Entry point for launching an IPython kernel.\n",
            "/usr/local/lib/python3.7/dist-packages/ipykernel_launcher.py:2: SettingWithCopyWarning: \n",
            "A value is trying to be set on a copy of a slice from a DataFrame.\n",
            "Try using .loc[row_indexer,col_indexer] = value instead\n",
            "\n",
            "See the caveats in the documentation: https://pandas.pydata.org/pandas-docs/stable/user_guide/indexing.html#returning-a-view-versus-a-copy\n",
            "  \n"
          ]
        }
      ]
    },
    {
      "cell_type": "code",
      "metadata": {
        "colab": {
          "base_uri": "https://localhost:8080/",
          "height": 204
        },
        "id": "vXLU2jxEEW9y",
        "outputId": "e37b4d30-d194-4859-ef77-ff77d51a94cd"
      },
      "source": [
        "df.head()"
      ],
      "execution_count": null,
      "outputs": [
        {
          "output_type": "execute_result",
          "data": {
            "text/html": [
              "<div>\n",
              "<style scoped>\n",
              "    .dataframe tbody tr th:only-of-type {\n",
              "        vertical-align: middle;\n",
              "    }\n",
              "\n",
              "    .dataframe tbody tr th {\n",
              "        vertical-align: top;\n",
              "    }\n",
              "\n",
              "    .dataframe thead th {\n",
              "        text-align: right;\n",
              "    }\n",
              "</style>\n",
              "<table border=\"1\" class=\"dataframe\">\n",
              "  <thead>\n",
              "    <tr style=\"text-align: right;\">\n",
              "      <th></th>\n",
              "      <th>children</th>\n",
              "      <th>days_employed</th>\n",
              "      <th>dob_years</th>\n",
              "      <th>education</th>\n",
              "      <th>education_id</th>\n",
              "      <th>family_status</th>\n",
              "      <th>family_status_id</th>\n",
              "      <th>gender</th>\n",
              "      <th>income_type</th>\n",
              "      <th>debt</th>\n",
              "      <th>total_income</th>\n",
              "      <th>purpose</th>\n",
              "    </tr>\n",
              "  </thead>\n",
              "  <tbody>\n",
              "    <tr>\n",
              "      <th>0</th>\n",
              "      <td>1</td>\n",
              "      <td>8437.673028</td>\n",
              "      <td>42</td>\n",
              "      <td>высшее</td>\n",
              "      <td>0</td>\n",
              "      <td>женат / замужем</td>\n",
              "      <td>0</td>\n",
              "      <td>F</td>\n",
              "      <td>сотрудник</td>\n",
              "      <td>0</td>\n",
              "      <td>253875.639453</td>\n",
              "      <td>покупка жилья</td>\n",
              "    </tr>\n",
              "    <tr>\n",
              "      <th>1</th>\n",
              "      <td>1</td>\n",
              "      <td>4024.803754</td>\n",
              "      <td>36</td>\n",
              "      <td>среднее</td>\n",
              "      <td>1</td>\n",
              "      <td>женат / замужем</td>\n",
              "      <td>0</td>\n",
              "      <td>F</td>\n",
              "      <td>сотрудник</td>\n",
              "      <td>0</td>\n",
              "      <td>112080.014102</td>\n",
              "      <td>приобретение автомобиля</td>\n",
              "    </tr>\n",
              "    <tr>\n",
              "      <th>2</th>\n",
              "      <td>0</td>\n",
              "      <td>5623.422610</td>\n",
              "      <td>33</td>\n",
              "      <td>среднее</td>\n",
              "      <td>1</td>\n",
              "      <td>женат / замужем</td>\n",
              "      <td>0</td>\n",
              "      <td>M</td>\n",
              "      <td>сотрудник</td>\n",
              "      <td>0</td>\n",
              "      <td>145885.952297</td>\n",
              "      <td>покупка жилья</td>\n",
              "    </tr>\n",
              "    <tr>\n",
              "      <th>3</th>\n",
              "      <td>3</td>\n",
              "      <td>4124.747207</td>\n",
              "      <td>32</td>\n",
              "      <td>среднее</td>\n",
              "      <td>1</td>\n",
              "      <td>женат / замужем</td>\n",
              "      <td>0</td>\n",
              "      <td>M</td>\n",
              "      <td>сотрудник</td>\n",
              "      <td>0</td>\n",
              "      <td>267628.550329</td>\n",
              "      <td>дополнительное образование</td>\n",
              "    </tr>\n",
              "    <tr>\n",
              "      <th>4</th>\n",
              "      <td>0</td>\n",
              "      <td>14177.753002</td>\n",
              "      <td>53</td>\n",
              "      <td>среднее</td>\n",
              "      <td>1</td>\n",
              "      <td>гражданский брак</td>\n",
              "      <td>1</td>\n",
              "      <td>F</td>\n",
              "      <td>пенсионер</td>\n",
              "      <td>0</td>\n",
              "      <td>158616.077870</td>\n",
              "      <td>сыграть свадьбу</td>\n",
              "    </tr>\n",
              "  </tbody>\n",
              "</table>\n",
              "</div>"
            ],
            "text/plain": [
              "   children  days_employed  ...   total_income                     purpose\n",
              "0         1    8437.673028  ...  253875.639453               покупка жилья\n",
              "1         1    4024.803754  ...  112080.014102     приобретение автомобиля\n",
              "2         0    5623.422610  ...  145885.952297               покупка жилья\n",
              "3         3    4124.747207  ...  267628.550329  дополнительное образование\n",
              "4         0   14177.753002  ...  158616.077870             сыграть свадьбу\n",
              "\n",
              "[5 rows x 12 columns]"
            ]
          },
          "metadata": {},
          "execution_count": 27
        }
      ]
    },
    {
      "cell_type": "markdown",
      "metadata": {
        "id": "PZHULGRgGZwi"
      },
      "source": [
        "Удалим дубликаты"
      ]
    },
    {
      "cell_type": "code",
      "metadata": {
        "colab": {
          "base_uri": "https://localhost:8080/"
        },
        "id": "8mE-gNLh50Eq",
        "outputId": "cc9cb5a0-c1b6-43e5-9c1f-88035fe5fe36"
      },
      "source": [
        "df.duplicated().sum()"
      ],
      "execution_count": null,
      "outputs": [
        {
          "output_type": "execute_result",
          "data": {
            "text/plain": [
              "0"
            ]
          },
          "metadata": {},
          "execution_count": 83
        }
      ]
    },
    {
      "cell_type": "code",
      "metadata": {
        "id": "80uv-toa8-ae"
      },
      "source": [
        "df = df.drop_duplicates().reset_index(drop=True) "
      ],
      "execution_count": null,
      "outputs": []
    },
    {
      "cell_type": "code",
      "metadata": {
        "colab": {
          "base_uri": "https://localhost:8080/"
        },
        "id": "1j93gso1x9Mw",
        "outputId": "d34757c0-567f-4769-82bf-977f6ef1f50c"
      },
      "source": [
        "df.info()"
      ],
      "execution_count": null,
      "outputs": [
        {
          "output_type": "stream",
          "name": "stdout",
          "text": [
            "<class 'pandas.core.frame.DataFrame'>\n",
            "Int64Index: 21347 entries, 0 to 21352\n",
            "Data columns (total 18 columns):\n",
            " #   Column             Non-Null Count  Dtype   \n",
            "---  ------             --------------  -----   \n",
            " 0   children           21347 non-null  int64   \n",
            " 1   days_employed      19255 non-null  float64 \n",
            " 2   dob_years          21347 non-null  int64   \n",
            " 3   education          21347 non-null  object  \n",
            " 4   education_id       21347 non-null  int64   \n",
            " 5   family_status      21347 non-null  object  \n",
            " 6   family_status_id   21347 non-null  int64   \n",
            " 7   gender             21347 non-null  object  \n",
            " 8   income_type        21347 non-null  object  \n",
            " 9   debt               21347 non-null  int64   \n",
            " 10  total_income       21347 non-null  float64 \n",
            " 11  purpose            21347 non-null  object  \n",
            " 12  num_of_child       21347 non-null  object  \n",
            " 13  type_of_education  21347 non-null  object  \n",
            " 14  categ_family       21347 non-null  object  \n",
            " 15  income_for_na      21347 non-null  float64 \n",
            " 16  income_group       21347 non-null  category\n",
            " 17  age_group          21347 non-null  category\n",
            "dtypes: category(2), float64(3), int64(5), object(8)\n",
            "memory usage: 3.4+ MB\n"
          ]
        }
      ]
    },
    {
      "cell_type": "code",
      "metadata": {
        "colab": {
          "base_uri": "https://localhost:8080/",
          "height": 204
        },
        "id": "5ubOMsUL56mb",
        "outputId": "2455ba10-8fe8-42dd-f164-3e527e045826"
      },
      "source": [
        "df.head()"
      ],
      "execution_count": null,
      "outputs": [
        {
          "output_type": "execute_result",
          "data": {
            "text/html": [
              "<div>\n",
              "<style scoped>\n",
              "    .dataframe tbody tr th:only-of-type {\n",
              "        vertical-align: middle;\n",
              "    }\n",
              "\n",
              "    .dataframe tbody tr th {\n",
              "        vertical-align: top;\n",
              "    }\n",
              "\n",
              "    .dataframe thead th {\n",
              "        text-align: right;\n",
              "    }\n",
              "</style>\n",
              "<table border=\"1\" class=\"dataframe\">\n",
              "  <thead>\n",
              "    <tr style=\"text-align: right;\">\n",
              "      <th></th>\n",
              "      <th>children</th>\n",
              "      <th>days_employed</th>\n",
              "      <th>dob_years</th>\n",
              "      <th>education</th>\n",
              "      <th>education_id</th>\n",
              "      <th>family_status</th>\n",
              "      <th>family_status_id</th>\n",
              "      <th>gender</th>\n",
              "      <th>income_type</th>\n",
              "      <th>debt</th>\n",
              "      <th>total_income</th>\n",
              "      <th>purpose</th>\n",
              "    </tr>\n",
              "  </thead>\n",
              "  <tbody>\n",
              "    <tr>\n",
              "      <th>0</th>\n",
              "      <td>1</td>\n",
              "      <td>8437.673028</td>\n",
              "      <td>42</td>\n",
              "      <td>высшее</td>\n",
              "      <td>0</td>\n",
              "      <td>женат / замужем</td>\n",
              "      <td>0</td>\n",
              "      <td>F</td>\n",
              "      <td>сотрудник</td>\n",
              "      <td>0</td>\n",
              "      <td>253875.639453</td>\n",
              "      <td>покупка жилья</td>\n",
              "    </tr>\n",
              "    <tr>\n",
              "      <th>1</th>\n",
              "      <td>1</td>\n",
              "      <td>4024.803754</td>\n",
              "      <td>36</td>\n",
              "      <td>среднее</td>\n",
              "      <td>1</td>\n",
              "      <td>женат / замужем</td>\n",
              "      <td>0</td>\n",
              "      <td>F</td>\n",
              "      <td>сотрудник</td>\n",
              "      <td>0</td>\n",
              "      <td>112080.014102</td>\n",
              "      <td>приобретение автомобиля</td>\n",
              "    </tr>\n",
              "    <tr>\n",
              "      <th>2</th>\n",
              "      <td>0</td>\n",
              "      <td>5623.422610</td>\n",
              "      <td>33</td>\n",
              "      <td>среднее</td>\n",
              "      <td>1</td>\n",
              "      <td>женат / замужем</td>\n",
              "      <td>0</td>\n",
              "      <td>M</td>\n",
              "      <td>сотрудник</td>\n",
              "      <td>0</td>\n",
              "      <td>145885.952297</td>\n",
              "      <td>покупка жилья</td>\n",
              "    </tr>\n",
              "    <tr>\n",
              "      <th>3</th>\n",
              "      <td>3</td>\n",
              "      <td>4124.747207</td>\n",
              "      <td>32</td>\n",
              "      <td>среднее</td>\n",
              "      <td>1</td>\n",
              "      <td>женат / замужем</td>\n",
              "      <td>0</td>\n",
              "      <td>M</td>\n",
              "      <td>сотрудник</td>\n",
              "      <td>0</td>\n",
              "      <td>267628.550329</td>\n",
              "      <td>дополнительное образование</td>\n",
              "    </tr>\n",
              "    <tr>\n",
              "      <th>4</th>\n",
              "      <td>0</td>\n",
              "      <td>14177.753002</td>\n",
              "      <td>53</td>\n",
              "      <td>среднее</td>\n",
              "      <td>1</td>\n",
              "      <td>гражданский брак</td>\n",
              "      <td>1</td>\n",
              "      <td>F</td>\n",
              "      <td>пенсионер</td>\n",
              "      <td>0</td>\n",
              "      <td>158616.077870</td>\n",
              "      <td>сыграть свадьбу</td>\n",
              "    </tr>\n",
              "  </tbody>\n",
              "</table>\n",
              "</div>"
            ],
            "text/plain": [
              "   children  days_employed  ...   total_income                     purpose\n",
              "0         1    8437.673028  ...  253875.639453               покупка жилья\n",
              "1         1    4024.803754  ...  112080.014102     приобретение автомобиля\n",
              "2         0    5623.422610  ...  145885.952297               покупка жилья\n",
              "3         3    4124.747207  ...  267628.550329  дополнительное образование\n",
              "4         0   14177.753002  ...  158616.077870             сыграть свадьбу\n",
              "\n",
              "[5 rows x 12 columns]"
            ]
          },
          "metadata": {},
          "execution_count": 30
        }
      ]
    },
    {
      "cell_type": "code",
      "metadata": {
        "colab": {
          "base_uri": "https://localhost:8080/"
        },
        "id": "dG9CBY2H54Xh",
        "outputId": "63ee25f5-7251-4933-b09e-d9194f1ceee5"
      },
      "source": [
        "df.groupby(['education','family_status','income_type'])['total_income'].transform('median')"
      ],
      "execution_count": null,
      "outputs": [
        {
          "output_type": "execute_result",
          "data": {
            "text/plain": [
              "0        168529.808588\n",
              "1        137014.951480\n",
              "2        137014.951480\n",
              "3        137014.951480\n",
              "4        115290.905764\n",
              "             ...      \n",
              "21348    158696.519524\n",
              "21349    114197.304857\n",
              "21350    137666.609664\n",
              "21351    137014.951480\n",
              "21352    137014.951480\n",
              "Name: total_income, Length: 21353, dtype: float64"
            ]
          },
          "metadata": {},
          "execution_count": 31
        }
      ]
    },
    {
      "cell_type": "code",
      "metadata": {
        "colab": {
          "base_uri": "https://localhost:8080/"
        },
        "id": "QsoaTgHv54gg",
        "outputId": "10b07f4b-9cb1-45b8-c190-3238cf264328"
      },
      "source": [
        "df['family_status'].value_counts()"
      ],
      "execution_count": null,
      "outputs": [
        {
          "output_type": "execute_result",
          "data": {
            "text/plain": [
              "женат / замужем          12290\n",
              "гражданский брак          4130\n",
              "не женат / не замужем     2794\n",
              "в разводе                 1185\n",
              "вдовец / вдова             954\n",
              "Name: family_status, dtype: int64"
            ]
          },
          "metadata": {},
          "execution_count": 33
        }
      ]
    },
    {
      "cell_type": "code",
      "metadata": {
        "colab": {
          "base_uri": "https://localhost:8080/"
        },
        "id": "T-HvKvW_54kj",
        "outputId": "70734f41-7aa4-4d8d-f5c2-195015583778"
      },
      "source": [
        "df.groupby('family_status')['debt'].mean()"
      ],
      "execution_count": null,
      "outputs": [
        {
          "output_type": "execute_result",
          "data": {
            "text/plain": [
              "family_status\n",
              "в разводе                0.071730\n",
              "вдовец / вдова           0.064990\n",
              "гражданский брак         0.093462\n",
              "женат / замужем          0.075427\n",
              "не женат / не замужем    0.097709\n",
              "Name: debt, dtype: float64"
            ]
          },
          "metadata": {},
          "execution_count": 34
        }
      ]
    },
    {
      "cell_type": "markdown",
      "metadata": {
        "id": "RW1N7BOwHikB"
      },
      "source": [
        "## Категоризация данных"
      ]
    },
    {
      "cell_type": "code",
      "metadata": {
        "colab": {
          "base_uri": "https://localhost:8080/"
        },
        "id": "wbkCkFq4Hpz3",
        "outputId": "e845604e-3f88-4491-8dc4-d24731a6be47"
      },
      "source": [
        "df['children'].value_counts()"
      ],
      "execution_count": null,
      "outputs": [
        {
          "output_type": "execute_result",
          "data": {
            "text/plain": [
              "0    14022\n",
              "1     4839\n",
              "2     2114\n",
              "3      328\n",
              "4       41\n",
              "5        9\n",
              "Name: children, dtype: int64"
            ]
          },
          "metadata": {},
          "execution_count": 35
        }
      ]
    },
    {
      "cell_type": "code",
      "metadata": {
        "id": "ycIaJkP1Hp2d"
      },
      "source": [
        "def children(count):\n",
        "  if count == 0:\n",
        "    return 'без детей'\n",
        "  if count == 1:\n",
        "    return '1 ребёнок'\n",
        "  if count > 1:\n",
        "    return 'более одного ребёнка'"
      ],
      "execution_count": null,
      "outputs": []
    },
    {
      "cell_type": "code",
      "metadata": {
        "id": "eTgXlWexHp5d"
      },
      "source": [
        "df['num_of_child'] = df['children'].apply(children)"
      ],
      "execution_count": null,
      "outputs": []
    },
    {
      "cell_type": "code",
      "metadata": {
        "id": "OOp4jmANHp8V",
        "colab": {
          "base_uri": "https://localhost:8080/",
          "height": 288
        },
        "outputId": "80b5521e-5dc8-48a5-b6d5-7c78fd5c6b30"
      },
      "source": [
        "df.head()"
      ],
      "execution_count": null,
      "outputs": [
        {
          "output_type": "execute_result",
          "data": {
            "text/html": [
              "<div>\n",
              "<style scoped>\n",
              "    .dataframe tbody tr th:only-of-type {\n",
              "        vertical-align: middle;\n",
              "    }\n",
              "\n",
              "    .dataframe tbody tr th {\n",
              "        vertical-align: top;\n",
              "    }\n",
              "\n",
              "    .dataframe thead th {\n",
              "        text-align: right;\n",
              "    }\n",
              "</style>\n",
              "<table border=\"1\" class=\"dataframe\">\n",
              "  <thead>\n",
              "    <tr style=\"text-align: right;\">\n",
              "      <th></th>\n",
              "      <th>children</th>\n",
              "      <th>days_employed</th>\n",
              "      <th>dob_years</th>\n",
              "      <th>education</th>\n",
              "      <th>education_id</th>\n",
              "      <th>family_status</th>\n",
              "      <th>family_status_id</th>\n",
              "      <th>gender</th>\n",
              "      <th>income_type</th>\n",
              "      <th>debt</th>\n",
              "      <th>total_income</th>\n",
              "      <th>purpose</th>\n",
              "      <th>num_of_child</th>\n",
              "    </tr>\n",
              "  </thead>\n",
              "  <tbody>\n",
              "    <tr>\n",
              "      <th>0</th>\n",
              "      <td>1</td>\n",
              "      <td>8437.673028</td>\n",
              "      <td>42</td>\n",
              "      <td>высшее</td>\n",
              "      <td>0</td>\n",
              "      <td>женат / замужем</td>\n",
              "      <td>0</td>\n",
              "      <td>F</td>\n",
              "      <td>сотрудник</td>\n",
              "      <td>0</td>\n",
              "      <td>253875.639453</td>\n",
              "      <td>покупка жилья</td>\n",
              "      <td>1 ребёнок</td>\n",
              "    </tr>\n",
              "    <tr>\n",
              "      <th>1</th>\n",
              "      <td>1</td>\n",
              "      <td>4024.803754</td>\n",
              "      <td>36</td>\n",
              "      <td>среднее</td>\n",
              "      <td>1</td>\n",
              "      <td>женат / замужем</td>\n",
              "      <td>0</td>\n",
              "      <td>F</td>\n",
              "      <td>сотрудник</td>\n",
              "      <td>0</td>\n",
              "      <td>112080.014102</td>\n",
              "      <td>приобретение автомобиля</td>\n",
              "      <td>1 ребёнок</td>\n",
              "    </tr>\n",
              "    <tr>\n",
              "      <th>2</th>\n",
              "      <td>0</td>\n",
              "      <td>5623.422610</td>\n",
              "      <td>33</td>\n",
              "      <td>среднее</td>\n",
              "      <td>1</td>\n",
              "      <td>женат / замужем</td>\n",
              "      <td>0</td>\n",
              "      <td>M</td>\n",
              "      <td>сотрудник</td>\n",
              "      <td>0</td>\n",
              "      <td>145885.952297</td>\n",
              "      <td>покупка жилья</td>\n",
              "      <td>без детей</td>\n",
              "    </tr>\n",
              "    <tr>\n",
              "      <th>3</th>\n",
              "      <td>3</td>\n",
              "      <td>4124.747207</td>\n",
              "      <td>32</td>\n",
              "      <td>среднее</td>\n",
              "      <td>1</td>\n",
              "      <td>женат / замужем</td>\n",
              "      <td>0</td>\n",
              "      <td>M</td>\n",
              "      <td>сотрудник</td>\n",
              "      <td>0</td>\n",
              "      <td>267628.550329</td>\n",
              "      <td>дополнительное образование</td>\n",
              "      <td>более одного ребёнка</td>\n",
              "    </tr>\n",
              "    <tr>\n",
              "      <th>4</th>\n",
              "      <td>0</td>\n",
              "      <td>14177.753002</td>\n",
              "      <td>53</td>\n",
              "      <td>среднее</td>\n",
              "      <td>1</td>\n",
              "      <td>гражданский брак</td>\n",
              "      <td>1</td>\n",
              "      <td>F</td>\n",
              "      <td>пенсионер</td>\n",
              "      <td>0</td>\n",
              "      <td>158616.077870</td>\n",
              "      <td>сыграть свадьбу</td>\n",
              "      <td>без детей</td>\n",
              "    </tr>\n",
              "  </tbody>\n",
              "</table>\n",
              "</div>"
            ],
            "text/plain": [
              "   children  days_employed  ...                     purpose          num_of_child\n",
              "0         1    8437.673028  ...               покупка жилья             1 ребёнок\n",
              "1         1    4024.803754  ...     приобретение автомобиля             1 ребёнок\n",
              "2         0    5623.422610  ...               покупка жилья             без детей\n",
              "3         3    4124.747207  ...  дополнительное образование  более одного ребёнка\n",
              "4         0   14177.753002  ...             сыграть свадьбу             без детей\n",
              "\n",
              "[5 rows x 13 columns]"
            ]
          },
          "metadata": {},
          "execution_count": 38
        }
      ]
    },
    {
      "cell_type": "code",
      "metadata": {
        "id": "q29Ih3A0Hp-u",
        "colab": {
          "base_uri": "https://localhost:8080/"
        },
        "outputId": "9a8fb56f-29ff-4e10-e1ca-d575ca3da337"
      },
      "source": [
        "df['num_of_child'].value_counts()"
      ],
      "execution_count": null,
      "outputs": [
        {
          "output_type": "execute_result",
          "data": {
            "text/plain": [
              "без детей               14022\n",
              "1 ребёнок                4839\n",
              "более одного ребёнка     2492\n",
              "Name: num_of_child, dtype: int64"
            ]
          },
          "metadata": {},
          "execution_count": 39
        }
      ]
    },
    {
      "cell_type": "code",
      "metadata": {
        "id": "so992BM-HqBj",
        "colab": {
          "base_uri": "https://localhost:8080/"
        },
        "outputId": "ba4cd453-2734-4142-a2ae-bf57ab672aee"
      },
      "source": [
        "df['education'].value_counts()"
      ],
      "execution_count": null,
      "outputs": [
        {
          "output_type": "execute_result",
          "data": {
            "text/plain": [
              "среднее                15108\n",
              "высшее                  5215\n",
              "неоконченное высшее      742\n",
              "начальное                282\n",
              "ученая степень             6\n",
              "Name: education, dtype: int64"
            ]
          },
          "metadata": {},
          "execution_count": 40
        }
      ]
    },
    {
      "cell_type": "code",
      "metadata": {
        "id": "abSRzsXcvwc6"
      },
      "source": [
        "def studying(education):\n",
        "  if education == 'высшее':\n",
        "    return 'высшее'\n",
        "  if education == 'ученая степень':\n",
        "    return 'высшее'\n",
        "  return 'нет высшего'\n"
      ],
      "execution_count": null,
      "outputs": []
    },
    {
      "cell_type": "code",
      "metadata": {
        "id": "-q0CqE1dvwi_"
      },
      "source": [
        "df['type_of_education'] = df['education'].apply(studying)"
      ],
      "execution_count": null,
      "outputs": []
    },
    {
      "cell_type": "code",
      "metadata": {
        "colab": {
          "base_uri": "https://localhost:8080/"
        },
        "id": "EIdIgeovvwlv",
        "outputId": "31446f1b-441c-478a-d8c0-9594aa293850"
      },
      "source": [
        "df['type_of_education'].value_counts()"
      ],
      "execution_count": null,
      "outputs": [
        {
          "output_type": "execute_result",
          "data": {
            "text/plain": [
              "нет высшего    16132\n",
              "высшее          5221\n",
              "Name: type_of_education, dtype: int64"
            ]
          },
          "metadata": {},
          "execution_count": 43
        }
      ]
    },
    {
      "cell_type": "code",
      "metadata": {
        "colab": {
          "base_uri": "https://localhost:8080/"
        },
        "id": "z-vkvP-Avwow",
        "outputId": "b5b26b35-ffca-4332-9860-68cbb057f641"
      },
      "source": [
        "df['family_status'].value_counts()"
      ],
      "execution_count": null,
      "outputs": [
        {
          "output_type": "execute_result",
          "data": {
            "text/plain": [
              "женат / замужем          12290\n",
              "гражданский брак          4130\n",
              "не женат / не замужем     2794\n",
              "в разводе                 1185\n",
              "вдовец / вдова             954\n",
              "Name: family_status, dtype: int64"
            ]
          },
          "metadata": {},
          "execution_count": 44
        }
      ]
    },
    {
      "cell_type": "code",
      "metadata": {
        "id": "IBT8bBFNvwrf"
      },
      "source": [
        "def family(op):\n",
        "  if op == 'женат / замужем':\n",
        "    return 'женат / замужем'\n",
        "  if op=='гражданский брак':\n",
        "    return 'гражданский брак'\n",
        "  return 'Не женат / не замужем'"
      ],
      "execution_count": null,
      "outputs": []
    },
    {
      "cell_type": "code",
      "metadata": {
        "id": "c5RQboZTvwt5"
      },
      "source": [
        "df['categ_family'] = df['family_status'].apply(family)"
      ],
      "execution_count": null,
      "outputs": []
    },
    {
      "cell_type": "code",
      "metadata": {
        "colab": {
          "base_uri": "https://localhost:8080/"
        },
        "id": "EXu_ILIZvww9",
        "outputId": "192aa840-4001-4473-834d-4e527f8dd5d9"
      },
      "source": [
        "df['categ_family'].value_counts()"
      ],
      "execution_count": null,
      "outputs": [
        {
          "output_type": "execute_result",
          "data": {
            "text/plain": [
              "женат / замужем          12290\n",
              "Не женат / не замужем     4933\n",
              "гражданский брак          4130\n",
              "Name: categ_family, dtype: int64"
            ]
          },
          "metadata": {},
          "execution_count": 47
        }
      ]
    },
    {
      "cell_type": "code",
      "metadata": {
        "colab": {
          "base_uri": "https://localhost:8080/"
        },
        "id": "LuRSXTpcyEOi",
        "outputId": "0b304b0e-50bc-4d7d-8fa0-5200da36d889"
      },
      "source": [
        "df['income_type'].value_counts()"
      ],
      "execution_count": null,
      "outputs": [
        {
          "output_type": "execute_result",
          "data": {
            "text/plain": [
              "сотрудник          11029\n",
              "компаньон           5058\n",
              "пенсионер           3809\n",
              "госслужащий         1451\n",
              "предприниматель        2\n",
              "безработный            2\n",
              "в декрете              1\n",
              "студент                1\n",
              "Name: income_type, dtype: int64"
            ]
          },
          "metadata": {},
          "execution_count": 48
        }
      ]
    },
    {
      "cell_type": "code",
      "metadata": {
        "id": "mQp677ieyEZT"
      },
      "source": [
        "df = df.query('income_type == \"сотрудник\" or income_type == \"компаньон\" or income_type == \"пенсионер\" or income_type == \"госслужащий\"')"
      ],
      "execution_count": null,
      "outputs": []
    },
    {
      "cell_type": "code",
      "metadata": {
        "colab": {
          "base_uri": "https://localhost:8080/"
        },
        "id": "OniDyz3kyEdv",
        "outputId": "70d6085b-4f4e-4d11-af66-21387903ea6b"
      },
      "source": [
        "df['income_type'].value_counts()"
      ],
      "execution_count": null,
      "outputs": [
        {
          "output_type": "execute_result",
          "data": {
            "text/plain": [
              "сотрудник      11029\n",
              "компаньон       5058\n",
              "пенсионер       3809\n",
              "госслужащий     1451\n",
              "Name: income_type, dtype: int64"
            ]
          },
          "metadata": {},
          "execution_count": 50
        }
      ]
    },
    {
      "cell_type": "code",
      "metadata": {
        "colab": {
          "base_uri": "https://localhost:8080/",
          "height": 308
        },
        "id": "buJDaqwXyEfO",
        "outputId": "f41c325e-2390-4aa4-b440-10118ca7e26b"
      },
      "source": [
        "df.head()"
      ],
      "execution_count": null,
      "outputs": [
        {
          "output_type": "execute_result",
          "data": {
            "text/html": [
              "<div>\n",
              "<style scoped>\n",
              "    .dataframe tbody tr th:only-of-type {\n",
              "        vertical-align: middle;\n",
              "    }\n",
              "\n",
              "    .dataframe tbody tr th {\n",
              "        vertical-align: top;\n",
              "    }\n",
              "\n",
              "    .dataframe thead th {\n",
              "        text-align: right;\n",
              "    }\n",
              "</style>\n",
              "<table border=\"1\" class=\"dataframe\">\n",
              "  <thead>\n",
              "    <tr style=\"text-align: right;\">\n",
              "      <th></th>\n",
              "      <th>children</th>\n",
              "      <th>days_employed</th>\n",
              "      <th>dob_years</th>\n",
              "      <th>education</th>\n",
              "      <th>education_id</th>\n",
              "      <th>family_status</th>\n",
              "      <th>family_status_id</th>\n",
              "      <th>gender</th>\n",
              "      <th>income_type</th>\n",
              "      <th>debt</th>\n",
              "      <th>total_income</th>\n",
              "      <th>purpose</th>\n",
              "      <th>num_of_child</th>\n",
              "      <th>type_of_education</th>\n",
              "      <th>categ_family</th>\n",
              "    </tr>\n",
              "  </thead>\n",
              "  <tbody>\n",
              "    <tr>\n",
              "      <th>0</th>\n",
              "      <td>1</td>\n",
              "      <td>8437.673028</td>\n",
              "      <td>42</td>\n",
              "      <td>высшее</td>\n",
              "      <td>0</td>\n",
              "      <td>женат / замужем</td>\n",
              "      <td>0</td>\n",
              "      <td>F</td>\n",
              "      <td>сотрудник</td>\n",
              "      <td>0</td>\n",
              "      <td>253875.639453</td>\n",
              "      <td>покупка жилья</td>\n",
              "      <td>1 ребёнок</td>\n",
              "      <td>высшее</td>\n",
              "      <td>женат / замужем</td>\n",
              "    </tr>\n",
              "    <tr>\n",
              "      <th>1</th>\n",
              "      <td>1</td>\n",
              "      <td>4024.803754</td>\n",
              "      <td>36</td>\n",
              "      <td>среднее</td>\n",
              "      <td>1</td>\n",
              "      <td>женат / замужем</td>\n",
              "      <td>0</td>\n",
              "      <td>F</td>\n",
              "      <td>сотрудник</td>\n",
              "      <td>0</td>\n",
              "      <td>112080.014102</td>\n",
              "      <td>приобретение автомобиля</td>\n",
              "      <td>1 ребёнок</td>\n",
              "      <td>нет высшего</td>\n",
              "      <td>женат / замужем</td>\n",
              "    </tr>\n",
              "    <tr>\n",
              "      <th>2</th>\n",
              "      <td>0</td>\n",
              "      <td>5623.422610</td>\n",
              "      <td>33</td>\n",
              "      <td>среднее</td>\n",
              "      <td>1</td>\n",
              "      <td>женат / замужем</td>\n",
              "      <td>0</td>\n",
              "      <td>M</td>\n",
              "      <td>сотрудник</td>\n",
              "      <td>0</td>\n",
              "      <td>145885.952297</td>\n",
              "      <td>покупка жилья</td>\n",
              "      <td>без детей</td>\n",
              "      <td>нет высшего</td>\n",
              "      <td>женат / замужем</td>\n",
              "    </tr>\n",
              "    <tr>\n",
              "      <th>3</th>\n",
              "      <td>3</td>\n",
              "      <td>4124.747207</td>\n",
              "      <td>32</td>\n",
              "      <td>среднее</td>\n",
              "      <td>1</td>\n",
              "      <td>женат / замужем</td>\n",
              "      <td>0</td>\n",
              "      <td>M</td>\n",
              "      <td>сотрудник</td>\n",
              "      <td>0</td>\n",
              "      <td>267628.550329</td>\n",
              "      <td>дополнительное образование</td>\n",
              "      <td>более одного ребёнка</td>\n",
              "      <td>нет высшего</td>\n",
              "      <td>женат / замужем</td>\n",
              "    </tr>\n",
              "    <tr>\n",
              "      <th>4</th>\n",
              "      <td>0</td>\n",
              "      <td>14177.753002</td>\n",
              "      <td>53</td>\n",
              "      <td>среднее</td>\n",
              "      <td>1</td>\n",
              "      <td>гражданский брак</td>\n",
              "      <td>1</td>\n",
              "      <td>F</td>\n",
              "      <td>пенсионер</td>\n",
              "      <td>0</td>\n",
              "      <td>158616.077870</td>\n",
              "      <td>сыграть свадьбу</td>\n",
              "      <td>без детей</td>\n",
              "      <td>нет высшего</td>\n",
              "      <td>гражданский брак</td>\n",
              "    </tr>\n",
              "  </tbody>\n",
              "</table>\n",
              "</div>"
            ],
            "text/plain": [
              "   children  days_employed  ...  type_of_education      categ_family\n",
              "0         1    8437.673028  ...             высшее   женат / замужем\n",
              "1         1    4024.803754  ...        нет высшего   женат / замужем\n",
              "2         0    5623.422610  ...        нет высшего   женат / замужем\n",
              "3         3    4124.747207  ...        нет высшего   женат / замужем\n",
              "4         0   14177.753002  ...        нет высшего  гражданский брак\n",
              "\n",
              "[5 rows x 15 columns]"
            ]
          },
          "metadata": {},
          "execution_count": 51
        }
      ]
    },
    {
      "cell_type": "code",
      "metadata": {
        "colab": {
          "base_uri": "https://localhost:8080/",
          "height": 296
        },
        "id": "ymvJR0I921XK",
        "outputId": "bad1b265-1652-4f33-85df-ffc9b37b67ad"
      },
      "source": [
        "df['total_income'].hist()"
      ],
      "execution_count": null,
      "outputs": [
        {
          "output_type": "execute_result",
          "data": {
            "text/plain": [
              "<matplotlib.axes._subplots.AxesSubplot at 0x7f578ac93cd0>"
            ]
          },
          "metadata": {},
          "execution_count": 52
        },
        {
          "output_type": "display_data",
          "data": {
            "image/png": "[encoded data removed]",
            "text/plain": [
              "<Figure size 432x288 with 1 Axes>"
            ]
          },
          "metadata": {
            "needs_background": "light"
          }
        }
      ]
    },
    {
      "cell_type": "code",
      "metadata": {
        "colab": {
          "base_uri": "https://localhost:8080/"
        },
        "id": "MTg5Xq2221Zx",
        "outputId": "7e903589-9f0c-42a6-cb03-f47ee8d88ea4"
      },
      "source": [
        "df['total_income'].sort_values(ascending = False)"
      ],
      "execution_count": null,
      "outputs": [
        {
          "output_type": "execute_result",
          "data": {
            "text/plain": [
              "12327    2.265604e+06\n",
              "19452    2.200852e+06\n",
              "9115     1.726276e+06\n",
              "20643    1.715018e+06\n",
              "17051    1.711309e+06\n",
              "             ...     \n",
              "21317             NaN\n",
              "21323             NaN\n",
              "21325             NaN\n",
              "21330             NaN\n",
              "21338             NaN\n",
              "Name: total_income, Length: 21347, dtype: float64"
            ]
          },
          "metadata": {},
          "execution_count": 53
        }
      ]
    },
    {
      "cell_type": "markdown",
      "metadata": {
        "id": "g9xFNKbqoXQL"
      },
      "source": [
        "Заменим пропуски в total_income исходя из медианы total_income по сгуруппированым столбцам 'type_of_education','categ_family','income_type'"
      ]
    },
    {
      "cell_type": "code",
      "metadata": {
        "id": "8_kn31JUoXQL"
      },
      "source": [
        "df['income_for_na'] = df.groupby(['type_of_education','categ_family','income_type'])['total_income'].transform('median')"
      ],
      "execution_count": null,
      "outputs": []
    },
    {
      "cell_type": "code",
      "metadata": {
        "id": "gaFR2LxAoXQL"
      },
      "source": [
        "df['total_income'] = df['total_income'].fillna(df['income_for_na'])"
      ],
      "execution_count": null,
      "outputs": []
    },
    {
      "cell_type": "code",
      "metadata": {
        "colab": {
          "base_uri": "https://localhost:8080/"
        },
        "id": "OpP-cS5xoqEu",
        "outputId": "08984664-7e82-4282-82f5-d509f342f0fc"
      },
      "source": [
        "df['total_income'].describe()"
      ],
      "execution_count": null,
      "outputs": [
        {
          "output_type": "execute_result",
          "data": {
            "text/plain": [
              "count    2.134700e+04\n",
              "mean     1.654936e+05\n",
              "std      9.835675e+04\n",
              "min      2.066726e+04\n",
              "25%      1.076684e+05\n",
              "50%      1.431890e+05\n",
              "75%      1.975871e+05\n",
              "max      2.265604e+06\n",
              "Name: total_income, dtype: float64"
            ]
          },
          "metadata": {},
          "execution_count": 56
        }
      ]
    },
    {
      "cell_type": "code",
      "metadata": {
        "id": "1veP7Vus3ySn"
      },
      "source": [
        "df['income_group']=pd.qcut(df['total_income'],3)"
      ],
      "execution_count": null,
      "outputs": []
    },
    {
      "cell_type": "code",
      "metadata": {
        "colab": {
          "base_uri": "https://localhost:8080/"
        },
        "id": "j4LsKqQ65En-",
        "outputId": "7aea02a6-2a0f-4662-d560-78f84e0d93f2"
      },
      "source": [
        "df['income_group'].value_counts()"
      ],
      "execution_count": null,
      "outputs": [
        {
          "output_type": "execute_result",
          "data": {
            "text/plain": [
              "(173218.024, 2265604.029]    7116\n",
              "(20667.263, 119870.224]      7116\n",
              "(119870.224, 173218.024]     7115\n",
              "Name: income_group, dtype: int64"
            ]
          },
          "metadata": {},
          "execution_count": 58
        }
      ]
    },
    {
      "cell_type": "code",
      "metadata": {
        "id": "bcMk0xEq5Ewp"
      },
      "source": [
        "df['age_group'] = pd.qcut(df['dob_years'],3)"
      ],
      "execution_count": null,
      "outputs": []
    },
    {
      "cell_type": "code",
      "metadata": {
        "id": "6HTDcXB-5EzM",
        "colab": {
          "base_uri": "https://localhost:8080/"
        },
        "outputId": "ec3ebaa9-94f5-497e-f96f-7fcb144137a5"
      },
      "source": [
        "df['dob_years'].describe()"
      ],
      "execution_count": null,
      "outputs": [
        {
          "output_type": "execute_result",
          "data": {
            "text/plain": [
              "count    21347.000000\n",
              "mean        43.477725\n",
              "std         12.241890\n",
              "min         19.000000\n",
              "25%         33.000000\n",
              "50%         43.000000\n",
              "75%         53.000000\n",
              "max         75.000000\n",
              "Name: dob_years, dtype: float64"
            ]
          },
          "metadata": {},
          "execution_count": 60
        }
      ]
    },
    {
      "cell_type": "code",
      "metadata": {
        "id": "IAVupPvG5FRf",
        "colab": {
          "base_uri": "https://localhost:8080/"
        },
        "outputId": "806282f6-340b-41b8-a1eb-805b89cb0b2e"
      },
      "source": [
        "df.info()"
      ],
      "execution_count": null,
      "outputs": [
        {
          "output_type": "stream",
          "name": "stdout",
          "text": [
            "<class 'pandas.core.frame.DataFrame'>\n",
            "Int64Index: 21347 entries, 0 to 21352\n",
            "Data columns (total 18 columns):\n",
            " #   Column             Non-Null Count  Dtype   \n",
            "---  ------             --------------  -----   \n",
            " 0   children           21347 non-null  int64   \n",
            " 1   days_employed      19255 non-null  float64 \n",
            " 2   dob_years          21347 non-null  int64   \n",
            " 3   education          21347 non-null  object  \n",
            " 4   education_id       21347 non-null  int64   \n",
            " 5   family_status      21347 non-null  object  \n",
            " 6   family_status_id   21347 non-null  int64   \n",
            " 7   gender             21347 non-null  object  \n",
            " 8   income_type        21347 non-null  object  \n",
            " 9   debt               21347 non-null  int64   \n",
            " 10  total_income       21347 non-null  float64 \n",
            " 11  purpose            21347 non-null  object  \n",
            " 12  num_of_child       21347 non-null  object  \n",
            " 13  type_of_education  21347 non-null  object  \n",
            " 14  categ_family       21347 non-null  object  \n",
            " 15  income_for_na      21347 non-null  float64 \n",
            " 16  income_group       21347 non-null  category\n",
            " 17  age_group          21347 non-null  category\n",
            "dtypes: category(2), float64(3), int64(5), object(8)\n",
            "memory usage: 2.8+ MB\n"
          ]
        }
      ]
    },
    {
      "cell_type": "code",
      "metadata": {
        "id": "2wJqxKGT5FUt"
      },
      "source": [
        ""
      ],
      "execution_count": null,
      "outputs": []
    },
    {
      "cell_type": "code",
      "metadata": {
        "id": "zkEkKZb55FXZ"
      },
      "source": [
        ""
      ],
      "execution_count": null,
      "outputs": []
    },
    {
      "cell_type": "code",
      "metadata": {
        "id": "O0xpN6pg5FZx"
      },
      "source": [
        ""
      ],
      "execution_count": null,
      "outputs": []
    },
    {
      "cell_type": "code",
      "metadata": {
        "id": "rxFhUOBJ5Fc0"
      },
      "source": [
        ""
      ],
      "execution_count": null,
      "outputs": []
    },
    {
      "cell_type": "code",
      "metadata": {
        "id": "h_7DzbTg5FgU"
      },
      "source": [
        ""
      ],
      "execution_count": null,
      "outputs": []
    },
    {
      "cell_type": "markdown",
      "metadata": {
        "id": "ApVYeKiHEXFy"
      },
      "source": [
        "# Анализ"
      ]
    },
    {
      "cell_type": "markdown",
      "metadata": {
        "id": "O3bWS3G4GH7v"
      },
      "source": [
        "**Ответы на вопросы**  \n",
        "Есть ли зависимость между наличием детей и возвратом кредита в срок?  \n",
        "Есть ли зависимость между семейным положением и возвратом кредита в срок?  \n",
        "Есть ли зависимость между уровнем дохода и возвратом кредита в срок?  \n",
        "Как разные цели кредита влияют на его возврат в срок?  "
      ]
    },
    {
      "cell_type": "markdown",
      "metadata": {
        "id": "YI509_IgG5Yz"
      },
      "source": [
        "**Есть ли зависимость между наличием детей и возвратом кредита в срок?**"
      ]
    },
    {
      "cell_type": "code",
      "metadata": {
        "colab": {
          "base_uri": "https://localhost:8080/",
          "height": 308
        },
        "id": "Geu0qNlM5mAa",
        "outputId": "10c1228a-073a-42de-d7c0-6d86ae5afa1a"
      },
      "source": [
        "df.head()"
      ],
      "execution_count": null,
      "outputs": [
        {
          "output_type": "execute_result",
          "data": {
            "text/html": [
              "<div>\n",
              "<style scoped>\n",
              "    .dataframe tbody tr th:only-of-type {\n",
              "        vertical-align: middle;\n",
              "    }\n",
              "\n",
              "    .dataframe tbody tr th {\n",
              "        vertical-align: top;\n",
              "    }\n",
              "\n",
              "    .dataframe thead th {\n",
              "        text-align: right;\n",
              "    }\n",
              "</style>\n",
              "<table border=\"1\" class=\"dataframe\">\n",
              "  <thead>\n",
              "    <tr style=\"text-align: right;\">\n",
              "      <th></th>\n",
              "      <th>children</th>\n",
              "      <th>days_employed</th>\n",
              "      <th>dob_years</th>\n",
              "      <th>education</th>\n",
              "      <th>education_id</th>\n",
              "      <th>family_status</th>\n",
              "      <th>family_status_id</th>\n",
              "      <th>gender</th>\n",
              "      <th>income_type</th>\n",
              "      <th>debt</th>\n",
              "      <th>total_income</th>\n",
              "      <th>purpose</th>\n",
              "      <th>num_of_child</th>\n",
              "      <th>type_of_education</th>\n",
              "      <th>categ_family</th>\n",
              "      <th>income_for_na</th>\n",
              "      <th>income_group</th>\n",
              "      <th>age_group</th>\n",
              "    </tr>\n",
              "  </thead>\n",
              "  <tbody>\n",
              "    <tr>\n",
              "      <th>0</th>\n",
              "      <td>1</td>\n",
              "      <td>8437.673028</td>\n",
              "      <td>42</td>\n",
              "      <td>высшее</td>\n",
              "      <td>0</td>\n",
              "      <td>женат / замужем</td>\n",
              "      <td>0</td>\n",
              "      <td>F</td>\n",
              "      <td>сотрудник</td>\n",
              "      <td>0</td>\n",
              "      <td>253875.639453</td>\n",
              "      <td>покупка жилья</td>\n",
              "      <td>1 ребёнок</td>\n",
              "      <td>высшее</td>\n",
              "      <td>женат / замужем</td>\n",
              "      <td>168629.247649</td>\n",
              "      <td>(173218.024, 2265604.029]</td>\n",
              "      <td>(36.0, 50.0]</td>\n",
              "    </tr>\n",
              "    <tr>\n",
              "      <th>1</th>\n",
              "      <td>1</td>\n",
              "      <td>4024.803754</td>\n",
              "      <td>36</td>\n",
              "      <td>среднее</td>\n",
              "      <td>1</td>\n",
              "      <td>женат / замужем</td>\n",
              "      <td>0</td>\n",
              "      <td>F</td>\n",
              "      <td>сотрудник</td>\n",
              "      <td>0</td>\n",
              "      <td>112080.014102</td>\n",
              "      <td>приобретение автомобиля</td>\n",
              "      <td>1 ребёнок</td>\n",
              "      <td>нет высшего</td>\n",
              "      <td>женат / замужем</td>\n",
              "      <td>137192.823062</td>\n",
              "      <td>(20667.263, 119870.224]</td>\n",
              "      <td>(18.999, 36.0]</td>\n",
              "    </tr>\n",
              "    <tr>\n",
              "      <th>2</th>\n",
              "      <td>0</td>\n",
              "      <td>5623.422610</td>\n",
              "      <td>33</td>\n",
              "      <td>среднее</td>\n",
              "      <td>1</td>\n",
              "      <td>женат / замужем</td>\n",
              "      <td>0</td>\n",
              "      <td>M</td>\n",
              "      <td>сотрудник</td>\n",
              "      <td>0</td>\n",
              "      <td>145885.952297</td>\n",
              "      <td>покупка жилья</td>\n",
              "      <td>без детей</td>\n",
              "      <td>нет высшего</td>\n",
              "      <td>женат / замужем</td>\n",
              "      <td>137192.823062</td>\n",
              "      <td>(119870.224, 173218.024]</td>\n",
              "      <td>(18.999, 36.0]</td>\n",
              "    </tr>\n",
              "    <tr>\n",
              "      <th>3</th>\n",
              "      <td>3</td>\n",
              "      <td>4124.747207</td>\n",
              "      <td>32</td>\n",
              "      <td>среднее</td>\n",
              "      <td>1</td>\n",
              "      <td>женат / замужем</td>\n",
              "      <td>0</td>\n",
              "      <td>M</td>\n",
              "      <td>сотрудник</td>\n",
              "      <td>0</td>\n",
              "      <td>267628.550329</td>\n",
              "      <td>дополнительное образование</td>\n",
              "      <td>более одного ребёнка</td>\n",
              "      <td>нет высшего</td>\n",
              "      <td>женат / замужем</td>\n",
              "      <td>137192.823062</td>\n",
              "      <td>(173218.024, 2265604.029]</td>\n",
              "      <td>(18.999, 36.0]</td>\n",
              "    </tr>\n",
              "    <tr>\n",
              "      <th>4</th>\n",
              "      <td>0</td>\n",
              "      <td>14177.753002</td>\n",
              "      <td>53</td>\n",
              "      <td>среднее</td>\n",
              "      <td>1</td>\n",
              "      <td>гражданский брак</td>\n",
              "      <td>1</td>\n",
              "      <td>F</td>\n",
              "      <td>пенсионер</td>\n",
              "      <td>0</td>\n",
              "      <td>158616.077870</td>\n",
              "      <td>сыграть свадьбу</td>\n",
              "      <td>без детей</td>\n",
              "      <td>нет высшего</td>\n",
              "      <td>гражданский брак</td>\n",
              "      <td>113350.048684</td>\n",
              "      <td>(119870.224, 173218.024]</td>\n",
              "      <td>(50.0, 75.0]</td>\n",
              "    </tr>\n",
              "  </tbody>\n",
              "</table>\n",
              "</div>"
            ],
            "text/plain": [
              "   children  days_employed  ...               income_group       age_group\n",
              "0         1    8437.673028  ...  (173218.024, 2265604.029]    (36.0, 50.0]\n",
              "1         1    4024.803754  ...    (20667.263, 119870.224]  (18.999, 36.0]\n",
              "2         0    5623.422610  ...   (119870.224, 173218.024]  (18.999, 36.0]\n",
              "3         3    4124.747207  ...  (173218.024, 2265604.029]  (18.999, 36.0]\n",
              "4         0   14177.753002  ...   (119870.224, 173218.024]    (50.0, 75.0]\n",
              "\n",
              "[5 rows x 18 columns]"
            ]
          },
          "metadata": {},
          "execution_count": 62
        }
      ]
    },
    {
      "cell_type": "code",
      "metadata": {
        "id": "PPJy_qpNG_Tb",
        "colab": {
          "base_uri": "https://localhost:8080/",
          "height": 172
        },
        "outputId": "74e9ccb6-7a69-4c90-e3b5-3c51f03c4387"
      },
      "source": [
        "df.groupby('num_of_child')['debt'].agg(['count','mean'])"
      ],
      "execution_count": null,
      "outputs": [
        {
          "output_type": "execute_result",
          "data": {
            "text/html": [
              "<div>\n",
              "<style scoped>\n",
              "    .dataframe tbody tr th:only-of-type {\n",
              "        vertical-align: middle;\n",
              "    }\n",
              "\n",
              "    .dataframe tbody tr th {\n",
              "        vertical-align: top;\n",
              "    }\n",
              "\n",
              "    .dataframe thead th {\n",
              "        text-align: right;\n",
              "    }\n",
              "</style>\n",
              "<table border=\"1\" class=\"dataframe\">\n",
              "  <thead>\n",
              "    <tr style=\"text-align: right;\">\n",
              "      <th></th>\n",
              "      <th>count</th>\n",
              "      <th>mean</th>\n",
              "    </tr>\n",
              "    <tr>\n",
              "      <th>num_of_child</th>\n",
              "      <th></th>\n",
              "      <th></th>\n",
              "    </tr>\n",
              "  </thead>\n",
              "  <tbody>\n",
              "    <tr>\n",
              "      <th>1 ребёнок</th>\n",
              "      <td>4838</td>\n",
              "      <td>0.091153</td>\n",
              "    </tr>\n",
              "    <tr>\n",
              "      <th>без детей</th>\n",
              "      <td>14018</td>\n",
              "      <td>0.075474</td>\n",
              "    </tr>\n",
              "    <tr>\n",
              "      <th>более одного ребёнка</th>\n",
              "      <td>2491</td>\n",
              "      <td>0.093135</td>\n",
              "    </tr>\n",
              "  </tbody>\n",
              "</table>\n",
              "</div>"
            ],
            "text/plain": [
              "                      count      mean\n",
              "num_of_child                         \n",
              "1 ребёнок              4838  0.091153\n",
              "без детей             14018  0.075474\n",
              "более одного ребёнка   2491  0.093135"
            ]
          },
          "metadata": {},
          "execution_count": 63
        }
      ]
    },
    {
      "cell_type": "markdown",
      "metadata": {
        "id": "04dlJidn5s9F"
      },
      "source": [
        "Видно, что наименьший показатель у людей, неимеющих детей.  \n",
        "Явной связи нет, возможно на результаты влияет другая(ие) переменная(ые). Сначала ответим на вопросы, указанные выше, затем попробуем определить, какая переменная может оказывать влияние на показатели."
      ]
    },
    {
      "cell_type": "markdown",
      "metadata": {
        "id": "UgYCaLoM56q3"
      },
      "source": [
        "**Есть ли зависимость между семейным положением и возвратом кредита в срок?**"
      ]
    },
    {
      "cell_type": "code",
      "metadata": {
        "colab": {
          "base_uri": "https://localhost:8080/",
          "height": 172
        },
        "id": "nZMhMPI3t1-G",
        "outputId": "3a9f2ffa-fd8d-46f4-b536-dfe9c1cd5e4b"
      },
      "source": [
        "df.groupby('categ_family')['debt'].agg(['count','mean'])"
      ],
      "execution_count": null,
      "outputs": [
        {
          "output_type": "execute_result",
          "data": {
            "text/html": [
              "<div>\n",
              "<style scoped>\n",
              "    .dataframe tbody tr th:only-of-type {\n",
              "        vertical-align: middle;\n",
              "    }\n",
              "\n",
              "    .dataframe tbody tr th {\n",
              "        vertical-align: top;\n",
              "    }\n",
              "\n",
              "    .dataframe thead th {\n",
              "        text-align: right;\n",
              "    }\n",
              "</style>\n",
              "<table border=\"1\" class=\"dataframe\">\n",
              "  <thead>\n",
              "    <tr style=\"text-align: right;\">\n",
              "      <th></th>\n",
              "      <th>count</th>\n",
              "      <th>mean</th>\n",
              "    </tr>\n",
              "    <tr>\n",
              "      <th>categ_family</th>\n",
              "      <th></th>\n",
              "      <th></th>\n",
              "    </tr>\n",
              "  </thead>\n",
              "  <tbody>\n",
              "    <tr>\n",
              "      <th>Не женат / не замужем</th>\n",
              "      <td>4932</td>\n",
              "      <td>0.085158</td>\n",
              "    </tr>\n",
              "    <tr>\n",
              "      <th>гражданский брак</th>\n",
              "      <td>4128</td>\n",
              "      <td>0.093508</td>\n",
              "    </tr>\n",
              "    <tr>\n",
              "      <th>женат / замужем</th>\n",
              "      <td>12287</td>\n",
              "      <td>0.075283</td>\n",
              "    </tr>\n",
              "  </tbody>\n",
              "</table>\n",
              "</div>"
            ],
            "text/plain": [
              "                       count      mean\n",
              "categ_family                          \n",
              "Не женат / не замужем   4932  0.085158\n",
              "гражданский брак        4128  0.093508\n",
              "женат / замужем        12287  0.075283"
            ]
          },
          "metadata": {},
          "execution_count": 66
        }
      ]
    },
    {
      "cell_type": "markdown",
      "metadata": {
        "id": "7iHBiVmu5nvx"
      },
      "source": [
        "Наименьший показать по просрочке у клиентов, находящихся в браке. Далее - не в браке. И самый высокий показатель по задолженности у \"гражданского брака\".  \n",
        "Аналогично, возможно влияние другого фактора."
      ]
    },
    {
      "cell_type": "markdown",
      "metadata": {
        "id": "O8Tm_eOD8_fM"
      },
      "source": [
        "**Есть ли зависимость между уровнем дохода и возвратом кредита в срок?**"
      ]
    },
    {
      "cell_type": "code",
      "metadata": {
        "colab": {
          "base_uri": "https://localhost:8080/",
          "height": 172
        },
        "id": "wd4y0UZwqTlq",
        "outputId": "b3b5d7f4-f04f-4870-c83f-80523d34164a"
      },
      "source": [
        "df.groupby('income_group')['debt'].agg(['count','mean'])"
      ],
      "execution_count": null,
      "outputs": [
        {
          "output_type": "execute_result",
          "data": {
            "text/html": [
              "<div>\n",
              "<style scoped>\n",
              "    .dataframe tbody tr th:only-of-type {\n",
              "        vertical-align: middle;\n",
              "    }\n",
              "\n",
              "    .dataframe tbody tr th {\n",
              "        vertical-align: top;\n",
              "    }\n",
              "\n",
              "    .dataframe thead th {\n",
              "        text-align: right;\n",
              "    }\n",
              "</style>\n",
              "<table border=\"1\" class=\"dataframe\">\n",
              "  <thead>\n",
              "    <tr style=\"text-align: right;\">\n",
              "      <th></th>\n",
              "      <th>count</th>\n",
              "      <th>mean</th>\n",
              "    </tr>\n",
              "    <tr>\n",
              "      <th>income_group</th>\n",
              "      <th></th>\n",
              "      <th></th>\n",
              "    </tr>\n",
              "  </thead>\n",
              "  <tbody>\n",
              "    <tr>\n",
              "      <th>(20667.263, 119870.224]</th>\n",
              "      <td>7116</td>\n",
              "      <td>0.080804</td>\n",
              "    </tr>\n",
              "    <tr>\n",
              "      <th>(119870.224, 173218.024]</th>\n",
              "      <td>7115</td>\n",
              "      <td>0.088545</td>\n",
              "    </tr>\n",
              "    <tr>\n",
              "      <th>(173218.024, 2265604.029]</th>\n",
              "      <td>7116</td>\n",
              "      <td>0.073918</td>\n",
              "    </tr>\n",
              "  </tbody>\n",
              "</table>\n",
              "</div>"
            ],
            "text/plain": [
              "                           count      mean\n",
              "income_group                              \n",
              "(20667.263, 119870.224]     7116  0.080804\n",
              "(119870.224, 173218.024]    7115  0.088545\n",
              "(173218.024, 2265604.029]   7116  0.073918"
            ]
          },
          "metadata": {},
          "execution_count": 68
        }
      ]
    },
    {
      "cell_type": "code",
      "metadata": {
        "colab": {
          "base_uri": "https://localhost:8080/",
          "height": 504
        },
        "id": "vjq8wfKXqzoO",
        "outputId": "6a952fe9-d12c-4b24-9771-22d77ef315e6"
      },
      "source": [
        "df.groupby('income_group')['debt'].mean().plot(rot = 45, grid = True, figsize = (10,6))"
      ],
      "execution_count": null,
      "outputs": [
        {
          "output_type": "execute_result",
          "data": {
            "text/plain": [
              "<matplotlib.axes._subplots.AxesSubplot at 0x7f578acfa890>"
            ]
          },
          "metadata": {},
          "execution_count": 69
        },
        {
          "output_type": "display_data",
          "data": {
            "image/png": "[encoded data removed]",
            "text/plain": [
              "<Figure size 720x432 with 1 Axes>"
            ]
          },
          "metadata": {
            "needs_background": "light"
          }
        }
      ]
    },
    {
      "cell_type": "markdown",
      "metadata": {
        "id": "p-Iz_wLrq5fv"
      },
      "source": [
        "видно, что наибольший невозврат у группы со средним доходом. после этой группы задолженность имеет отрицательную тенденцию.  \n",
        "В группе с самым высоким доходом самый низкий процент невозврата.  \n",
        "Возможна связь с размером кредита, но, к сожалению, таких данных у нас нету.\n"
      ]
    },
    {
      "cell_type": "markdown",
      "metadata": {
        "id": "6uZo5ML6roQq"
      },
      "source": [
        "**Посмотрим есть ли зависимость от возраста**"
      ]
    },
    {
      "cell_type": "code",
      "metadata": {
        "colab": {
          "base_uri": "https://localhost:8080/",
          "height": 172
        },
        "id": "yCeIQkBWryDs",
        "outputId": "bdb62193-e1d5-4746-9261-e682cfa0535a"
      },
      "source": [
        "df.groupby('age_group')['debt'].agg(['count','mean'])"
      ],
      "execution_count": null,
      "outputs": [
        {
          "output_type": "execute_result",
          "data": {
            "text/html": [
              "<div>\n",
              "<style scoped>\n",
              "    .dataframe tbody tr th:only-of-type {\n",
              "        vertical-align: middle;\n",
              "    }\n",
              "\n",
              "    .dataframe tbody tr th {\n",
              "        vertical-align: top;\n",
              "    }\n",
              "\n",
              "    .dataframe thead th {\n",
              "        text-align: right;\n",
              "    }\n",
              "</style>\n",
              "<table border=\"1\" class=\"dataframe\">\n",
              "  <thead>\n",
              "    <tr style=\"text-align: right;\">\n",
              "      <th></th>\n",
              "      <th>count</th>\n",
              "      <th>mean</th>\n",
              "    </tr>\n",
              "    <tr>\n",
              "      <th>age_group</th>\n",
              "      <th></th>\n",
              "      <th></th>\n",
              "    </tr>\n",
              "  </thead>\n",
              "  <tbody>\n",
              "    <tr>\n",
              "      <th>(18.999, 36.0]</th>\n",
              "      <td>7134</td>\n",
              "      <td>0.103729</td>\n",
              "    </tr>\n",
              "    <tr>\n",
              "      <th>(36.0, 50.0]</th>\n",
              "      <td>7570</td>\n",
              "      <td>0.080581</td>\n",
              "    </tr>\n",
              "    <tr>\n",
              "      <th>(50.0, 75.0]</th>\n",
              "      <td>6643</td>\n",
              "      <td>0.057354</td>\n",
              "    </tr>\n",
              "  </tbody>\n",
              "</table>\n",
              "</div>"
            ],
            "text/plain": [
              "                count      mean\n",
              "age_group                      \n",
              "(18.999, 36.0]   7134  0.103729\n",
              "(36.0, 50.0]     7570  0.080581\n",
              "(50.0, 75.0]     6643  0.057354"
            ]
          },
          "metadata": {},
          "execution_count": 70
        }
      ]
    },
    {
      "cell_type": "markdown",
      "metadata": {
        "id": "CkV-82SEqznv"
      },
      "source": [
        "Тут видна чёткая связь - чем моложе группа, тем выше процент задолженности.  \n",
        "Потенциально, это один из факторов, который может влиять на результаты группировок по другим показателям.  \n",
        "Далее проверим на взаимосвязь другие показатели с просрочкой. Затем попробуем посмотреть, могли ли они оказать влияние на другие переменные"
      ]
    },
    {
      "cell_type": "markdown",
      "metadata": {
        "id": "bfvu3yKW7k6j"
      },
      "source": [
        "**Уровень образования и просроченная задолженность**"
      ]
    },
    {
      "cell_type": "code",
      "metadata": {
        "colab": {
          "base_uri": "https://localhost:8080/",
          "height": 141
        },
        "id": "DL2kE4qz8ZGl",
        "outputId": "6b1b887a-fade-4b23-c55e-af383cde0995"
      },
      "source": [
        "df.groupby('type_of_education')['debt'].agg(['count','mean'])"
      ],
      "execution_count": null,
      "outputs": [
        {
          "output_type": "execute_result",
          "data": {
            "text/html": [
              "<div>\n",
              "<style scoped>\n",
              "    .dataframe tbody tr th:only-of-type {\n",
              "        vertical-align: middle;\n",
              "    }\n",
              "\n",
              "    .dataframe tbody tr th {\n",
              "        vertical-align: top;\n",
              "    }\n",
              "\n",
              "    .dataframe thead th {\n",
              "        text-align: right;\n",
              "    }\n",
              "</style>\n",
              "<table border=\"1\" class=\"dataframe\">\n",
              "  <thead>\n",
              "    <tr style=\"text-align: right;\">\n",
              "      <th></th>\n",
              "      <th>count</th>\n",
              "      <th>mean</th>\n",
              "    </tr>\n",
              "    <tr>\n",
              "      <th>type_of_education</th>\n",
              "      <th></th>\n",
              "      <th></th>\n",
              "    </tr>\n",
              "  </thead>\n",
              "  <tbody>\n",
              "    <tr>\n",
              "      <th>высшее</th>\n",
              "      <td>5217</td>\n",
              "      <td>0.053096</td>\n",
              "    </tr>\n",
              "    <tr>\n",
              "      <th>нет высшего</th>\n",
              "      <td>16130</td>\n",
              "      <td>0.090143</td>\n",
              "    </tr>\n",
              "  </tbody>\n",
              "</table>\n",
              "</div>"
            ],
            "text/plain": [
              "                   count      mean\n",
              "type_of_education                 \n",
              "высшее              5217  0.053096\n",
              "нет высшего        16130  0.090143"
            ]
          },
          "metadata": {},
          "execution_count": 71
        }
      ]
    },
    {
      "cell_type": "markdown",
      "metadata": {
        "id": "1ZOLBOCQ8ZJX"
      },
      "source": [
        "Видна большая разница в полученных значениях. Вероятно, это вторая переменная, влияющая на другие. "
      ]
    },
    {
      "cell_type": "markdown",
      "metadata": {
        "id": "4DEsWsttNzbd"
      },
      "source": [
        "Ща проверим как распределена задолженность между возрастными группами"
      ]
    },
    {
      "cell_type": "code",
      "metadata": {
        "colab": {
          "base_uri": "https://localhost:8080/",
          "height": 358
        },
        "id": "wgWoWaksNzbd",
        "outputId": "5dcf66be-faba-4831-ddc0-1fcdd34866bc"
      },
      "source": [
        "df.groupby(['income_group', 'age_group'])['debt'].agg(['count','mean'])"
      ],
      "execution_count": null,
      "outputs": [
        {
          "output_type": "execute_result",
          "data": {
            "text/html": [
              "<div>\n",
              "<style scoped>\n",
              "    .dataframe tbody tr th:only-of-type {\n",
              "        vertical-align: middle;\n",
              "    }\n",
              "\n",
              "    .dataframe tbody tr th {\n",
              "        vertical-align: top;\n",
              "    }\n",
              "\n",
              "    .dataframe thead th {\n",
              "        text-align: right;\n",
              "    }\n",
              "</style>\n",
              "<table border=\"1\" class=\"dataframe\">\n",
              "  <thead>\n",
              "    <tr style=\"text-align: right;\">\n",
              "      <th></th>\n",
              "      <th></th>\n",
              "      <th>count</th>\n",
              "      <th>mean</th>\n",
              "    </tr>\n",
              "    <tr>\n",
              "      <th>income_group</th>\n",
              "      <th>age_group</th>\n",
              "      <th></th>\n",
              "      <th></th>\n",
              "    </tr>\n",
              "  </thead>\n",
              "  <tbody>\n",
              "    <tr>\n",
              "      <th rowspan=\"3\" valign=\"top\">(20667.263, 119870.224]</th>\n",
              "      <th>(18.999, 36.0]</th>\n",
              "      <td>2130</td>\n",
              "      <td>0.106103</td>\n",
              "    </tr>\n",
              "    <tr>\n",
              "      <th>(36.0, 50.0]</th>\n",
              "      <td>2173</td>\n",
              "      <td>0.091118</td>\n",
              "    </tr>\n",
              "    <tr>\n",
              "      <th>(50.0, 75.0]</th>\n",
              "      <td>2813</td>\n",
              "      <td>0.053679</td>\n",
              "    </tr>\n",
              "    <tr>\n",
              "      <th rowspan=\"3\" valign=\"top\">(119870.224, 173218.024]</th>\n",
              "      <th>(18.999, 36.0]</th>\n",
              "      <td>2543</td>\n",
              "      <td>0.116398</td>\n",
              "    </tr>\n",
              "    <tr>\n",
              "      <th>(36.0, 50.0]</th>\n",
              "      <td>2574</td>\n",
              "      <td>0.081585</td>\n",
              "    </tr>\n",
              "    <tr>\n",
              "      <th>(50.0, 75.0]</th>\n",
              "      <td>1998</td>\n",
              "      <td>0.062062</td>\n",
              "    </tr>\n",
              "    <tr>\n",
              "      <th rowspan=\"3\" valign=\"top\">(173218.024, 2265604.029]</th>\n",
              "      <th>(18.999, 36.0]</th>\n",
              "      <td>2461</td>\n",
              "      <td>0.088582</td>\n",
              "    </tr>\n",
              "    <tr>\n",
              "      <th>(36.0, 50.0]</th>\n",
              "      <td>2823</td>\n",
              "      <td>0.071555</td>\n",
              "    </tr>\n",
              "    <tr>\n",
              "      <th>(50.0, 75.0]</th>\n",
              "      <td>1832</td>\n",
              "      <td>0.057860</td>\n",
              "    </tr>\n",
              "  </tbody>\n",
              "</table>\n",
              "</div>"
            ],
            "text/plain": [
              "                                          count      mean\n",
              "income_group              age_group                      \n",
              "(20667.263, 119870.224]   (18.999, 36.0]   2130  0.106103\n",
              "                          (36.0, 50.0]     2173  0.091118\n",
              "                          (50.0, 75.0]     2813  0.053679\n",
              "(119870.224, 173218.024]  (18.999, 36.0]   2543  0.116398\n",
              "                          (36.0, 50.0]     2574  0.081585\n",
              "                          (50.0, 75.0]     1998  0.062062\n",
              "(173218.024, 2265604.029] (18.999, 36.0]   2461  0.088582\n",
              "                          (36.0, 50.0]     2823  0.071555\n",
              "                          (50.0, 75.0]     1832  0.057860"
            ]
          },
          "metadata": {},
          "execution_count": 72
        }
      ]
    },
    {
      "cell_type": "markdown",
      "metadata": {
        "id": "EHhKwT3jNzbd"
      },
      "source": [
        "Видно, что у группы с высоким доходом вне зависимости от возраста показатель просрочки ниже, чем у других заработных групп. "
      ]
    },
    {
      "cell_type": "markdown",
      "metadata": {
        "id": "lToaVCtQ8ZWy"
      },
      "source": [
        "**Посмотрим как выглядит сводная таблица по показателям возраста/образования с показателями, которые были выдвинуты в задание.**"
      ]
    },
    {
      "cell_type": "markdown",
      "metadata": {
        "id": "qaKu_uj3XG8W"
      },
      "source": [
        "**Количество детей**"
      ]
    },
    {
      "cell_type": "code",
      "metadata": {
        "colab": {
          "base_uri": "https://localhost:8080/",
          "height": 172
        },
        "id": "XhT3LF1GXuTM",
        "outputId": "bff2c847-3218-4bdb-87e0-4eba4361dac6"
      },
      "source": [
        "df.groupby('num_of_child')['debt'].agg(['count','mean'])"
      ],
      "execution_count": null,
      "outputs": [
        {
          "output_type": "execute_result",
          "data": {
            "text/html": [
              "<div>\n",
              "<style scoped>\n",
              "    .dataframe tbody tr th:only-of-type {\n",
              "        vertical-align: middle;\n",
              "    }\n",
              "\n",
              "    .dataframe tbody tr th {\n",
              "        vertical-align: top;\n",
              "    }\n",
              "\n",
              "    .dataframe thead th {\n",
              "        text-align: right;\n",
              "    }\n",
              "</style>\n",
              "<table border=\"1\" class=\"dataframe\">\n",
              "  <thead>\n",
              "    <tr style=\"text-align: right;\">\n",
              "      <th></th>\n",
              "      <th>count</th>\n",
              "      <th>mean</th>\n",
              "    </tr>\n",
              "    <tr>\n",
              "      <th>num_of_child</th>\n",
              "      <th></th>\n",
              "      <th></th>\n",
              "    </tr>\n",
              "  </thead>\n",
              "  <tbody>\n",
              "    <tr>\n",
              "      <th>1 ребёнок</th>\n",
              "      <td>4838</td>\n",
              "      <td>0.091153</td>\n",
              "    </tr>\n",
              "    <tr>\n",
              "      <th>без детей</th>\n",
              "      <td>14018</td>\n",
              "      <td>0.075474</td>\n",
              "    </tr>\n",
              "    <tr>\n",
              "      <th>более одного ребёнка</th>\n",
              "      <td>2491</td>\n",
              "      <td>0.093135</td>\n",
              "    </tr>\n",
              "  </tbody>\n",
              "</table>\n",
              "</div>"
            ],
            "text/plain": [
              "                      count      mean\n",
              "num_of_child                         \n",
              "1 ребёнок              4838  0.091153\n",
              "без детей             14018  0.075474\n",
              "более одного ребёнка   2491  0.093135"
            ]
          },
          "metadata": {},
          "execution_count": 73
        }
      ]
    },
    {
      "cell_type": "code",
      "metadata": {
        "colab": {
          "base_uri": "https://localhost:8080/",
          "height": 265
        },
        "id": "K5tOSq4e56D0",
        "outputId": "7c3377bc-034f-4231-d309-beab4c718184"
      },
      "source": [
        "df.groupby(['num_of_child','type_of_education'])['debt'].agg(['count','mean'])"
      ],
      "execution_count": null,
      "outputs": [
        {
          "output_type": "execute_result",
          "data": {
            "text/html": [
              "<div>\n",
              "<style scoped>\n",
              "    .dataframe tbody tr th:only-of-type {\n",
              "        vertical-align: middle;\n",
              "    }\n",
              "\n",
              "    .dataframe tbody tr th {\n",
              "        vertical-align: top;\n",
              "    }\n",
              "\n",
              "    .dataframe thead th {\n",
              "        text-align: right;\n",
              "    }\n",
              "</style>\n",
              "<table border=\"1\" class=\"dataframe\">\n",
              "  <thead>\n",
              "    <tr style=\"text-align: right;\">\n",
              "      <th></th>\n",
              "      <th></th>\n",
              "      <th>count</th>\n",
              "      <th>mean</th>\n",
              "    </tr>\n",
              "    <tr>\n",
              "      <th>num_of_child</th>\n",
              "      <th>type_of_education</th>\n",
              "      <th></th>\n",
              "      <th></th>\n",
              "    </tr>\n",
              "  </thead>\n",
              "  <tbody>\n",
              "    <tr>\n",
              "      <th rowspan=\"2\" valign=\"top\">1 ребёнок</th>\n",
              "      <th>высшее</th>\n",
              "      <td>1325</td>\n",
              "      <td>0.054340</td>\n",
              "    </tr>\n",
              "    <tr>\n",
              "      <th>нет высшего</th>\n",
              "      <td>3513</td>\n",
              "      <td>0.105038</td>\n",
              "    </tr>\n",
              "    <tr>\n",
              "      <th rowspan=\"2\" valign=\"top\">без детей</th>\n",
              "      <th>высшее</th>\n",
              "      <td>3236</td>\n",
              "      <td>0.053152</td>\n",
              "    </tr>\n",
              "    <tr>\n",
              "      <th>нет высшего</th>\n",
              "      <td>10782</td>\n",
              "      <td>0.082174</td>\n",
              "    </tr>\n",
              "    <tr>\n",
              "      <th rowspan=\"2\" valign=\"top\">более одного ребёнка</th>\n",
              "      <th>высшее</th>\n",
              "      <td>656</td>\n",
              "      <td>0.050305</td>\n",
              "    </tr>\n",
              "    <tr>\n",
              "      <th>нет высшего</th>\n",
              "      <td>1835</td>\n",
              "      <td>0.108447</td>\n",
              "    </tr>\n",
              "  </tbody>\n",
              "</table>\n",
              "</div>"
            ],
            "text/plain": [
              "                                        count      mean\n",
              "num_of_child         type_of_education                 \n",
              "1 ребёнок            высшее              1325  0.054340\n",
              "                     нет высшего         3513  0.105038\n",
              "без детей            высшее              3236  0.053152\n",
              "                     нет высшего        10782  0.082174\n",
              "более одного ребёнка высшее               656  0.050305\n",
              "                     нет высшего         1835  0.108447"
            ]
          },
          "metadata": {},
          "execution_count": 74
        }
      ]
    },
    {
      "cell_type": "markdown",
      "metadata": {
        "id": "IW3Qt-W856Ho"
      },
      "source": [
        "\n",
        "Клиент, имеющий высшее образование, независимо от кол-ва детей имеет низкую долю просрочек."
      ]
    },
    {
      "cell_type": "code",
      "metadata": {
        "colab": {
          "base_uri": "https://localhost:8080/",
          "height": 358
        },
        "id": "0s8gjkbWXXJM",
        "outputId": "0eaf45a3-e3f8-4062-e12c-c766057a0195"
      },
      "source": [
        "df.groupby(['num_of_child','age_group'])['debt'].agg(['count','mean'])"
      ],
      "execution_count": null,
      "outputs": [
        {
          "output_type": "execute_result",
          "data": {
            "text/html": [
              "<div>\n",
              "<style scoped>\n",
              "    .dataframe tbody tr th:only-of-type {\n",
              "        vertical-align: middle;\n",
              "    }\n",
              "\n",
              "    .dataframe tbody tr th {\n",
              "        vertical-align: top;\n",
              "    }\n",
              "\n",
              "    .dataframe thead th {\n",
              "        text-align: right;\n",
              "    }\n",
              "</style>\n",
              "<table border=\"1\" class=\"dataframe\">\n",
              "  <thead>\n",
              "    <tr style=\"text-align: right;\">\n",
              "      <th></th>\n",
              "      <th></th>\n",
              "      <th>count</th>\n",
              "      <th>mean</th>\n",
              "    </tr>\n",
              "    <tr>\n",
              "      <th>num_of_child</th>\n",
              "      <th>age_group</th>\n",
              "      <th></th>\n",
              "      <th></th>\n",
              "    </tr>\n",
              "  </thead>\n",
              "  <tbody>\n",
              "    <tr>\n",
              "      <th rowspan=\"3\" valign=\"top\">1 ребёнок</th>\n",
              "      <th>(18.999, 36.0]</th>\n",
              "      <td>2210</td>\n",
              "      <td>0.103620</td>\n",
              "    </tr>\n",
              "    <tr>\n",
              "      <th>(36.0, 50.0]</th>\n",
              "      <td>2059</td>\n",
              "      <td>0.087907</td>\n",
              "    </tr>\n",
              "    <tr>\n",
              "      <th>(50.0, 75.0]</th>\n",
              "      <td>569</td>\n",
              "      <td>0.054482</td>\n",
              "    </tr>\n",
              "    <tr>\n",
              "      <th rowspan=\"3\" valign=\"top\">без детей</th>\n",
              "      <th>(18.999, 36.0]</th>\n",
              "      <td>3540</td>\n",
              "      <td>0.103672</td>\n",
              "    </tr>\n",
              "    <tr>\n",
              "      <th>(36.0, 50.0]</th>\n",
              "      <td>4490</td>\n",
              "      <td>0.077060</td>\n",
              "    </tr>\n",
              "    <tr>\n",
              "      <th>(50.0, 75.0]</th>\n",
              "      <td>5988</td>\n",
              "      <td>0.057615</td>\n",
              "    </tr>\n",
              "    <tr>\n",
              "      <th rowspan=\"3\" valign=\"top\">более одного ребёнка</th>\n",
              "      <th>(18.999, 36.0]</th>\n",
              "      <td>1384</td>\n",
              "      <td>0.104046</td>\n",
              "    </tr>\n",
              "    <tr>\n",
              "      <th>(36.0, 50.0]</th>\n",
              "      <td>1021</td>\n",
              "      <td>0.081293</td>\n",
              "    </tr>\n",
              "    <tr>\n",
              "      <th>(50.0, 75.0]</th>\n",
              "      <td>86</td>\n",
              "      <td>0.058140</td>\n",
              "    </tr>\n",
              "  </tbody>\n",
              "</table>\n",
              "</div>"
            ],
            "text/plain": [
              "                                     count      mean\n",
              "num_of_child         age_group                      \n",
              "1 ребёнок            (18.999, 36.0]   2210  0.103620\n",
              "                     (36.0, 50.0]     2059  0.087907\n",
              "                     (50.0, 75.0]      569  0.054482\n",
              "без детей            (18.999, 36.0]   3540  0.103672\n",
              "                     (36.0, 50.0]     4490  0.077060\n",
              "                     (50.0, 75.0]     5988  0.057615\n",
              "более одного ребёнка (18.999, 36.0]   1384  0.104046\n",
              "                     (36.0, 50.0]     1021  0.081293\n",
              "                     (50.0, 75.0]       86  0.058140"
            ]
          },
          "metadata": {},
          "execution_count": 75
        }
      ]
    },
    {
      "cell_type": "markdown",
      "metadata": {
        "id": "P2LU0-ZMXXMU"
      },
      "source": [
        "- Тут видно, что в категории \"без детей\" большая доля людей в старшей возрастной группе, где процент задолженности наименьший.  \n",
        "- Также видно, что в целом у категории \"1 ребёнок\" и \"более одного ребёнка\" доля просроченности одинакова, однако соотношение категорий внутри группы разное - \"более одного ребёнка\" имеет меньшую долю старшей возрастной группы, что влияет на итоговый показатель."
      ]
    },
    {
      "cell_type": "markdown",
      "metadata": {
        "id": "ewHJWuVoXXS3"
      },
      "source": [
        "**Семейный статус**"
      ]
    },
    {
      "cell_type": "code",
      "metadata": {
        "colab": {
          "base_uri": "https://localhost:8080/",
          "height": 172
        },
        "id": "TYlOZ0UJXXW7",
        "outputId": "ce31f19e-562b-4c43-d3c3-88397a0ce647"
      },
      "source": [
        "df.groupby('categ_family')['debt'].agg(['count','mean'])"
      ],
      "execution_count": null,
      "outputs": [
        {
          "output_type": "execute_result",
          "data": {
            "text/html": [
              "<div>\n",
              "<style scoped>\n",
              "    .dataframe tbody tr th:only-of-type {\n",
              "        vertical-align: middle;\n",
              "    }\n",
              "\n",
              "    .dataframe tbody tr th {\n",
              "        vertical-align: top;\n",
              "    }\n",
              "\n",
              "    .dataframe thead th {\n",
              "        text-align: right;\n",
              "    }\n",
              "</style>\n",
              "<table border=\"1\" class=\"dataframe\">\n",
              "  <thead>\n",
              "    <tr style=\"text-align: right;\">\n",
              "      <th></th>\n",
              "      <th>count</th>\n",
              "      <th>mean</th>\n",
              "    </tr>\n",
              "    <tr>\n",
              "      <th>categ_family</th>\n",
              "      <th></th>\n",
              "      <th></th>\n",
              "    </tr>\n",
              "  </thead>\n",
              "  <tbody>\n",
              "    <tr>\n",
              "      <th>Не женат / не замужем</th>\n",
              "      <td>4932</td>\n",
              "      <td>0.085158</td>\n",
              "    </tr>\n",
              "    <tr>\n",
              "      <th>гражданский брак</th>\n",
              "      <td>4128</td>\n",
              "      <td>0.093508</td>\n",
              "    </tr>\n",
              "    <tr>\n",
              "      <th>женат / замужем</th>\n",
              "      <td>12287</td>\n",
              "      <td>0.075283</td>\n",
              "    </tr>\n",
              "  </tbody>\n",
              "</table>\n",
              "</div>"
            ],
            "text/plain": [
              "                       count      mean\n",
              "categ_family                          \n",
              "Не женат / не замужем   4932  0.085158\n",
              "гражданский брак        4128  0.093508\n",
              "женат / замужем        12287  0.075283"
            ]
          },
          "metadata": {},
          "execution_count": 76
        }
      ]
    },
    {
      "cell_type": "code",
      "metadata": {
        "colab": {
          "base_uri": "https://localhost:8080/",
          "height": 265
        },
        "id": "hzC_ZQ-3XXb_",
        "outputId": "b992c1a5-89eb-4de2-8fa1-8bb98e1342a2"
      },
      "source": [
        "df.groupby(['categ_family','type_of_education'])['debt'].agg(['count','mean'])"
      ],
      "execution_count": null,
      "outputs": [
        {
          "output_type": "execute_result",
          "data": {
            "text/html": [
              "<div>\n",
              "<style scoped>\n",
              "    .dataframe tbody tr th:only-of-type {\n",
              "        vertical-align: middle;\n",
              "    }\n",
              "\n",
              "    .dataframe tbody tr th {\n",
              "        vertical-align: top;\n",
              "    }\n",
              "\n",
              "    .dataframe thead th {\n",
              "        text-align: right;\n",
              "    }\n",
              "</style>\n",
              "<table border=\"1\" class=\"dataframe\">\n",
              "  <thead>\n",
              "    <tr style=\"text-align: right;\">\n",
              "      <th></th>\n",
              "      <th></th>\n",
              "      <th>count</th>\n",
              "      <th>mean</th>\n",
              "    </tr>\n",
              "    <tr>\n",
              "      <th>categ_family</th>\n",
              "      <th>type_of_education</th>\n",
              "      <th></th>\n",
              "      <th></th>\n",
              "    </tr>\n",
              "  </thead>\n",
              "  <tbody>\n",
              "    <tr>\n",
              "      <th rowspan=\"2\" valign=\"top\">Не женат / не замужем</th>\n",
              "      <th>высшее</th>\n",
              "      <td>1242</td>\n",
              "      <td>0.053945</td>\n",
              "    </tr>\n",
              "    <tr>\n",
              "      <th>нет высшего</th>\n",
              "      <td>3690</td>\n",
              "      <td>0.095664</td>\n",
              "    </tr>\n",
              "    <tr>\n",
              "      <th rowspan=\"2\" valign=\"top\">гражданский брак</th>\n",
              "      <th>высшее</th>\n",
              "      <td>945</td>\n",
              "      <td>0.058201</td>\n",
              "    </tr>\n",
              "    <tr>\n",
              "      <th>нет высшего</th>\n",
              "      <td>3183</td>\n",
              "      <td>0.103990</td>\n",
              "    </tr>\n",
              "    <tr>\n",
              "      <th rowspan=\"2\" valign=\"top\">женат / замужем</th>\n",
              "      <th>высшее</th>\n",
              "      <td>3030</td>\n",
              "      <td>0.051155</td>\n",
              "    </tr>\n",
              "    <tr>\n",
              "      <th>нет высшего</th>\n",
              "      <td>9257</td>\n",
              "      <td>0.083180</td>\n",
              "    </tr>\n",
              "  </tbody>\n",
              "</table>\n",
              "</div>"
            ],
            "text/plain": [
              "                                         count      mean\n",
              "categ_family          type_of_education                 \n",
              "Не женат / не замужем высшее              1242  0.053945\n",
              "                      нет высшего         3690  0.095664\n",
              "гражданский брак      высшее               945  0.058201\n",
              "                      нет высшего         3183  0.103990\n",
              "женат / замужем       высшее              3030  0.051155\n",
              "                      нет высшего         9257  0.083180"
            ]
          },
          "metadata": {},
          "execution_count": 77
        }
      ]
    },
    {
      "cell_type": "markdown",
      "metadata": {
        "id": "7gf6LTrvZNMd"
      },
      "source": [
        "Тут четкой связи образования и семейного статуса не наблюдается"
      ]
    },
    {
      "cell_type": "code",
      "metadata": {
        "colab": {
          "base_uri": "https://localhost:8080/",
          "height": 358
        },
        "id": "wHMfqwIZZNP0",
        "outputId": "03f51d19-6721-4b25-e792-dba926165d3d"
      },
      "source": [
        "df.groupby(['categ_family','age_group'])['debt'].agg(['count','mean'])"
      ],
      "execution_count": null,
      "outputs": [
        {
          "output_type": "execute_result",
          "data": {
            "text/html": [
              "<div>\n",
              "<style scoped>\n",
              "    .dataframe tbody tr th:only-of-type {\n",
              "        vertical-align: middle;\n",
              "    }\n",
              "\n",
              "    .dataframe tbody tr th {\n",
              "        vertical-align: top;\n",
              "    }\n",
              "\n",
              "    .dataframe thead th {\n",
              "        text-align: right;\n",
              "    }\n",
              "</style>\n",
              "<table border=\"1\" class=\"dataframe\">\n",
              "  <thead>\n",
              "    <tr style=\"text-align: right;\">\n",
              "      <th></th>\n",
              "      <th></th>\n",
              "      <th>count</th>\n",
              "      <th>mean</th>\n",
              "    </tr>\n",
              "    <tr>\n",
              "      <th>categ_family</th>\n",
              "      <th>age_group</th>\n",
              "      <th></th>\n",
              "      <th></th>\n",
              "    </tr>\n",
              "  </thead>\n",
              "  <tbody>\n",
              "    <tr>\n",
              "      <th rowspan=\"3\" valign=\"top\">Не женат / не замужем</th>\n",
              "      <th>(18.999, 36.0]</th>\n",
              "      <td>1735</td>\n",
              "      <td>0.112392</td>\n",
              "    </tr>\n",
              "    <tr>\n",
              "      <th>(36.0, 50.0]</th>\n",
              "      <td>1416</td>\n",
              "      <td>0.081921</td>\n",
              "    </tr>\n",
              "    <tr>\n",
              "      <th>(50.0, 75.0]</th>\n",
              "      <td>1781</td>\n",
              "      <td>0.061202</td>\n",
              "    </tr>\n",
              "    <tr>\n",
              "      <th rowspan=\"3\" valign=\"top\">гражданский брак</th>\n",
              "      <th>(18.999, 36.0]</th>\n",
              "      <td>1487</td>\n",
              "      <td>0.108944</td>\n",
              "    </tr>\n",
              "    <tr>\n",
              "      <th>(36.0, 50.0]</th>\n",
              "      <td>1528</td>\n",
              "      <td>0.098168</td>\n",
              "    </tr>\n",
              "    <tr>\n",
              "      <th>(50.0, 75.0]</th>\n",
              "      <td>1113</td>\n",
              "      <td>0.066487</td>\n",
              "    </tr>\n",
              "    <tr>\n",
              "      <th rowspan=\"3\" valign=\"top\">женат / замужем</th>\n",
              "      <th>(18.999, 36.0]</th>\n",
              "      <td>3912</td>\n",
              "      <td>0.097904</td>\n",
              "    </tr>\n",
              "    <tr>\n",
              "      <th>(36.0, 50.0]</th>\n",
              "      <td>4626</td>\n",
              "      <td>0.074362</td>\n",
              "    </tr>\n",
              "    <tr>\n",
              "      <th>(50.0, 75.0]</th>\n",
              "      <td>3749</td>\n",
              "      <td>0.052814</td>\n",
              "    </tr>\n",
              "  </tbody>\n",
              "</table>\n",
              "</div>"
            ],
            "text/plain": [
              "                                      count      mean\n",
              "categ_family          age_group                      \n",
              "Не женат / не замужем (18.999, 36.0]   1735  0.112392\n",
              "                      (36.0, 50.0]     1416  0.081921\n",
              "                      (50.0, 75.0]     1781  0.061202\n",
              "гражданский брак      (18.999, 36.0]   1487  0.108944\n",
              "                      (36.0, 50.0]     1528  0.098168\n",
              "                      (50.0, 75.0]     1113  0.066487\n",
              "женат / замужем       (18.999, 36.0]   3912  0.097904\n",
              "                      (36.0, 50.0]     4626  0.074362\n",
              "                      (50.0, 75.0]     3749  0.052814"
            ]
          },
          "metadata": {},
          "execution_count": 78
        }
      ]
    },
    {
      "cell_type": "markdown",
      "metadata": {
        "id": "SNDzhINgZNZV"
      },
      "source": [
        "Вне зависимости от возраста, группа 'женат/замужем' имеет самые низкие показатели.  \n",
        "Возможно, в группе \"женатых\" более обеспеченные люди, так как, в основном, чтобы содержать семью, должна быть стабильность в финансом плане."
      ]
    },
    {
      "cell_type": "code",
      "metadata": {
        "colab": {
          "base_uri": "https://localhost:8080/",
          "height": 358
        },
        "id": "rutSwbtzis_N",
        "outputId": "408cded8-428f-4fa6-afdb-6a626fa3eadc"
      },
      "source": [
        "df.groupby(['categ_family','income_group'])['debt'].agg(['count','mean'])"
      ],
      "execution_count": null,
      "outputs": [
        {
          "output_type": "execute_result",
          "data": {
            "text/html": [
              "<div>\n",
              "<style scoped>\n",
              "    .dataframe tbody tr th:only-of-type {\n",
              "        vertical-align: middle;\n",
              "    }\n",
              "\n",
              "    .dataframe tbody tr th {\n",
              "        vertical-align: top;\n",
              "    }\n",
              "\n",
              "    .dataframe thead th {\n",
              "        text-align: right;\n",
              "    }\n",
              "</style>\n",
              "<table border=\"1\" class=\"dataframe\">\n",
              "  <thead>\n",
              "    <tr style=\"text-align: right;\">\n",
              "      <th></th>\n",
              "      <th></th>\n",
              "      <th>count</th>\n",
              "      <th>mean</th>\n",
              "    </tr>\n",
              "    <tr>\n",
              "      <th>categ_family</th>\n",
              "      <th>income_group</th>\n",
              "      <th></th>\n",
              "      <th></th>\n",
              "    </tr>\n",
              "  </thead>\n",
              "  <tbody>\n",
              "    <tr>\n",
              "      <th rowspan=\"3\" valign=\"top\">Не женат / не замужем</th>\n",
              "      <th>(20667.263, 119870.224]</th>\n",
              "      <td>1705</td>\n",
              "      <td>0.076246</td>\n",
              "    </tr>\n",
              "    <tr>\n",
              "      <th>(119870.224, 173218.024]</th>\n",
              "      <td>1655</td>\n",
              "      <td>0.095468</td>\n",
              "    </tr>\n",
              "    <tr>\n",
              "      <th>(173218.024, 2265604.029]</th>\n",
              "      <td>1572</td>\n",
              "      <td>0.083969</td>\n",
              "    </tr>\n",
              "    <tr>\n",
              "      <th rowspan=\"3\" valign=\"top\">гражданский брак</th>\n",
              "      <th>(20667.263, 119870.224]</th>\n",
              "      <td>1381</td>\n",
              "      <td>0.099203</td>\n",
              "    </tr>\n",
              "    <tr>\n",
              "      <th>(119870.224, 173218.024]</th>\n",
              "      <td>1363</td>\n",
              "      <td>0.108584</td>\n",
              "    </tr>\n",
              "    <tr>\n",
              "      <th>(173218.024, 2265604.029]</th>\n",
              "      <td>1384</td>\n",
              "      <td>0.072977</td>\n",
              "    </tr>\n",
              "    <tr>\n",
              "      <th rowspan=\"3\" valign=\"top\">женат / замужем</th>\n",
              "      <th>(20667.263, 119870.224]</th>\n",
              "      <td>4030</td>\n",
              "      <td>0.076427</td>\n",
              "    </tr>\n",
              "    <tr>\n",
              "      <th>(119870.224, 173218.024]</th>\n",
              "      <td>4097</td>\n",
              "      <td>0.079082</td>\n",
              "    </tr>\n",
              "    <tr>\n",
              "      <th>(173218.024, 2265604.029]</th>\n",
              "      <td>4160</td>\n",
              "      <td>0.070433</td>\n",
              "    </tr>\n",
              "  </tbody>\n",
              "</table>\n",
              "</div>"
            ],
            "text/plain": [
              "                                                 count      mean\n",
              "categ_family          income_group                              \n",
              "Не женат / не замужем (20667.263, 119870.224]     1705  0.076246\n",
              "                      (119870.224, 173218.024]    1655  0.095468\n",
              "                      (173218.024, 2265604.029]   1572  0.083969\n",
              "гражданский брак      (20667.263, 119870.224]     1381  0.099203\n",
              "                      (119870.224, 173218.024]    1363  0.108584\n",
              "                      (173218.024, 2265604.029]   1384  0.072977\n",
              "женат / замужем       (20667.263, 119870.224]     4030  0.076427\n",
              "                      (119870.224, 173218.024]    4097  0.079082\n",
              "                      (173218.024, 2265604.029]   4160  0.070433"
            ]
          },
          "metadata": {},
          "execution_count": 79
        }
      ]
    },
    {
      "cell_type": "markdown",
      "metadata": {
        "id": "ff0XqYIGitCv"
      },
      "source": [
        "Видим, что наше предположение было неверным, относительно того, что у \"женатых\" доля обеспеченных людей больше. Везде одинаковое приблизительно равномерное распределение.  \n",
        "Возможно, тогда имеет вес психологический фактор, что клиенты, находящиеся в браке, являются более ответственными. "
      ]
    },
    {
      "cell_type": "code",
      "metadata": {
        "id": "1aQiAOuLadh-"
      },
      "source": [
        ""
      ],
      "execution_count": null,
      "outputs": []
    },
    {
      "cell_type": "markdown",
      "metadata": {
        "id": "ool1y2i-7NX0"
      },
      "source": [
        "**Ежемесячный доход**"
      ]
    },
    {
      "cell_type": "code",
      "metadata": {
        "colab": {
          "base_uri": "https://localhost:8080/",
          "height": 172
        },
        "id": "plX_UfYQ7MQs",
        "outputId": "0fb896ea-bfff-4702-bd34-50a9b3a47d99"
      },
      "source": [
        "df.groupby('income_group')['debt'].agg(['count','mean'])"
      ],
      "execution_count": null,
      "outputs": [
        {
          "output_type": "execute_result",
          "data": {
            "text/html": [
              "<div>\n",
              "<style scoped>\n",
              "    .dataframe tbody tr th:only-of-type {\n",
              "        vertical-align: middle;\n",
              "    }\n",
              "\n",
              "    .dataframe tbody tr th {\n",
              "        vertical-align: top;\n",
              "    }\n",
              "\n",
              "    .dataframe thead th {\n",
              "        text-align: right;\n",
              "    }\n",
              "</style>\n",
              "<table border=\"1\" class=\"dataframe\">\n",
              "  <thead>\n",
              "    <tr style=\"text-align: right;\">\n",
              "      <th></th>\n",
              "      <th>count</th>\n",
              "      <th>mean</th>\n",
              "    </tr>\n",
              "    <tr>\n",
              "      <th>income_group</th>\n",
              "      <th></th>\n",
              "      <th></th>\n",
              "    </tr>\n",
              "  </thead>\n",
              "  <tbody>\n",
              "    <tr>\n",
              "      <th>(20667.263, 119870.224]</th>\n",
              "      <td>7116</td>\n",
              "      <td>0.080804</td>\n",
              "    </tr>\n",
              "    <tr>\n",
              "      <th>(119870.224, 173218.024]</th>\n",
              "      <td>7115</td>\n",
              "      <td>0.088545</td>\n",
              "    </tr>\n",
              "    <tr>\n",
              "      <th>(173218.024, 2265604.029]</th>\n",
              "      <td>7116</td>\n",
              "      <td>0.073918</td>\n",
              "    </tr>\n",
              "  </tbody>\n",
              "</table>\n",
              "</div>"
            ],
            "text/plain": [
              "                           count      mean\n",
              "income_group                              \n",
              "(20667.263, 119870.224]     7116  0.080804\n",
              "(119870.224, 173218.024]    7115  0.088545\n",
              "(173218.024, 2265604.029]   7116  0.073918"
            ]
          },
          "metadata": {},
          "execution_count": 80
        }
      ]
    },
    {
      "cell_type": "code",
      "metadata": {
        "colab": {
          "base_uri": "https://localhost:8080/",
          "height": 358
        },
        "id": "MupOaCcEbT6g",
        "outputId": "05d026d0-a331-4fc1-aba0-cade8d465832"
      },
      "source": [
        "df.groupby(['income_group','age_group'])['debt'].agg(['count','mean'])"
      ],
      "execution_count": null,
      "outputs": [
        {
          "output_type": "execute_result",
          "data": {
            "text/html": [
              "<div>\n",
              "<style scoped>\n",
              "    .dataframe tbody tr th:only-of-type {\n",
              "        vertical-align: middle;\n",
              "    }\n",
              "\n",
              "    .dataframe tbody tr th {\n",
              "        vertical-align: top;\n",
              "    }\n",
              "\n",
              "    .dataframe thead th {\n",
              "        text-align: right;\n",
              "    }\n",
              "</style>\n",
              "<table border=\"1\" class=\"dataframe\">\n",
              "  <thead>\n",
              "    <tr style=\"text-align: right;\">\n",
              "      <th></th>\n",
              "      <th></th>\n",
              "      <th>count</th>\n",
              "      <th>mean</th>\n",
              "    </tr>\n",
              "    <tr>\n",
              "      <th>income_group</th>\n",
              "      <th>age_group</th>\n",
              "      <th></th>\n",
              "      <th></th>\n",
              "    </tr>\n",
              "  </thead>\n",
              "  <tbody>\n",
              "    <tr>\n",
              "      <th rowspan=\"3\" valign=\"top\">(20667.263, 119870.224]</th>\n",
              "      <th>(18.999, 36.0]</th>\n",
              "      <td>2130</td>\n",
              "      <td>0.106103</td>\n",
              "    </tr>\n",
              "    <tr>\n",
              "      <th>(36.0, 50.0]</th>\n",
              "      <td>2173</td>\n",
              "      <td>0.091118</td>\n",
              "    </tr>\n",
              "    <tr>\n",
              "      <th>(50.0, 75.0]</th>\n",
              "      <td>2813</td>\n",
              "      <td>0.053679</td>\n",
              "    </tr>\n",
              "    <tr>\n",
              "      <th rowspan=\"3\" valign=\"top\">(119870.224, 173218.024]</th>\n",
              "      <th>(18.999, 36.0]</th>\n",
              "      <td>2543</td>\n",
              "      <td>0.116398</td>\n",
              "    </tr>\n",
              "    <tr>\n",
              "      <th>(36.0, 50.0]</th>\n",
              "      <td>2574</td>\n",
              "      <td>0.081585</td>\n",
              "    </tr>\n",
              "    <tr>\n",
              "      <th>(50.0, 75.0]</th>\n",
              "      <td>1998</td>\n",
              "      <td>0.062062</td>\n",
              "    </tr>\n",
              "    <tr>\n",
              "      <th rowspan=\"3\" valign=\"top\">(173218.024, 2265604.029]</th>\n",
              "      <th>(18.999, 36.0]</th>\n",
              "      <td>2461</td>\n",
              "      <td>0.088582</td>\n",
              "    </tr>\n",
              "    <tr>\n",
              "      <th>(36.0, 50.0]</th>\n",
              "      <td>2823</td>\n",
              "      <td>0.071555</td>\n",
              "    </tr>\n",
              "    <tr>\n",
              "      <th>(50.0, 75.0]</th>\n",
              "      <td>1832</td>\n",
              "      <td>0.057860</td>\n",
              "    </tr>\n",
              "  </tbody>\n",
              "</table>\n",
              "</div>"
            ],
            "text/plain": [
              "                                          count      mean\n",
              "income_group              age_group                      \n",
              "(20667.263, 119870.224]   (18.999, 36.0]   2130  0.106103\n",
              "                          (36.0, 50.0]     2173  0.091118\n",
              "                          (50.0, 75.0]     2813  0.053679\n",
              "(119870.224, 173218.024]  (18.999, 36.0]   2543  0.116398\n",
              "                          (36.0, 50.0]     2574  0.081585\n",
              "                          (50.0, 75.0]     1998  0.062062\n",
              "(173218.024, 2265604.029] (18.999, 36.0]   2461  0.088582\n",
              "                          (36.0, 50.0]     2823  0.071555\n",
              "                          (50.0, 75.0]     1832  0.057860"
            ]
          },
          "metadata": {},
          "execution_count": 81
        }
      ]
    },
    {
      "cell_type": "markdown",
      "metadata": {
        "id": "c1ydrXcXbT-A"
      },
      "source": [
        "Вне зависимости от возраста, средний показатель по задолженности у самой обеспеченной группы ниже остальных.  \n",
        "Почему же у средней по доходу группы показатель выше, чем у группы с низким доходом? Не до конца понятно, возможно, причина в сумме кредита."
      ]
    },
    {
      "cell_type": "code",
      "metadata": {
        "colab": {
          "base_uri": "https://localhost:8080/",
          "height": 265
        },
        "id": "w8B60AZE56LJ",
        "outputId": "6cac7364-286f-4fcb-f6c5-e18144908bcc"
      },
      "source": [
        "df.groupby(['income_group','type_of_education'])['debt'].agg(['count','mean'])"
      ],
      "execution_count": null,
      "outputs": [
        {
          "output_type": "execute_result",
          "data": {
            "text/html": [
              "<div>\n",
              "<style scoped>\n",
              "    .dataframe tbody tr th:only-of-type {\n",
              "        vertical-align: middle;\n",
              "    }\n",
              "\n",
              "    .dataframe tbody tr th {\n",
              "        vertical-align: top;\n",
              "    }\n",
              "\n",
              "    .dataframe thead th {\n",
              "        text-align: right;\n",
              "    }\n",
              "</style>\n",
              "<table border=\"1\" class=\"dataframe\">\n",
              "  <thead>\n",
              "    <tr style=\"text-align: right;\">\n",
              "      <th></th>\n",
              "      <th></th>\n",
              "      <th>count</th>\n",
              "      <th>mean</th>\n",
              "    </tr>\n",
              "    <tr>\n",
              "      <th>income_group</th>\n",
              "      <th>type_of_education</th>\n",
              "      <th></th>\n",
              "      <th></th>\n",
              "    </tr>\n",
              "  </thead>\n",
              "  <tbody>\n",
              "    <tr>\n",
              "      <th rowspan=\"2\" valign=\"top\">(20667.263, 119870.224]</th>\n",
              "      <th>высшее</th>\n",
              "      <td>1024</td>\n",
              "      <td>0.047852</td>\n",
              "    </tr>\n",
              "    <tr>\n",
              "      <th>нет высшего</th>\n",
              "      <td>6092</td>\n",
              "      <td>0.086343</td>\n",
              "    </tr>\n",
              "    <tr>\n",
              "      <th rowspan=\"2\" valign=\"top\">(119870.224, 173218.024]</th>\n",
              "      <th>высшее</th>\n",
              "      <td>1592</td>\n",
              "      <td>0.064070</td>\n",
              "    </tr>\n",
              "    <tr>\n",
              "      <th>нет высшего</th>\n",
              "      <td>5523</td>\n",
              "      <td>0.095600</td>\n",
              "    </tr>\n",
              "    <tr>\n",
              "      <th rowspan=\"2\" valign=\"top\">(173218.024, 2265604.029]</th>\n",
              "      <th>высшее</th>\n",
              "      <td>2601</td>\n",
              "      <td>0.048443</td>\n",
              "    </tr>\n",
              "    <tr>\n",
              "      <th>нет высшего</th>\n",
              "      <td>4515</td>\n",
              "      <td>0.088594</td>\n",
              "    </tr>\n",
              "  </tbody>\n",
              "</table>\n",
              "</div>"
            ],
            "text/plain": [
              "                                             count      mean\n",
              "income_group              type_of_education                 \n",
              "(20667.263, 119870.224]   высшее              1024  0.047852\n",
              "                          нет высшего         6092  0.086343\n",
              "(119870.224, 173218.024]  высшее              1592  0.064070\n",
              "                          нет высшего         5523  0.095600\n",
              "(173218.024, 2265604.029] высшее              2601  0.048443\n",
              "                          нет высшего         4515  0.088594"
            ]
          },
          "metadata": {},
          "execution_count": 82
        }
      ]
    },
    {
      "cell_type": "markdown",
      "metadata": {
        "id": "53tbgjGQ56PU"
      },
      "source": [
        "В группе с самым высоким доходом доля клиентов с высшим образованием самая большая, что обьясняет низкую просрочку у данной группы.\n",
        "В остальных группах связи не обнаружено."
      ]
    },
    {
      "cell_type": "markdown",
      "metadata": {
        "id": "ZUqhdNr946YA"
      },
      "source": [
        "-----------------------------------------------------------"
      ]
    },
    {
      "cell_type": "markdown",
      "metadata": {
        "id": "oxoyvPj2c4g_"
      },
      "source": [
        "#Общий вывод"
      ]
    },
    {
      "cell_type": "markdown",
      "metadata": {
        "id": "55qLose75QlC"
      },
      "source": [
        "- Основные факторы, оказывающие влияние на своевременный возврат кредита - возраст, уровень образования.\n",
        "- Чем старше клиент, тем выше вероятность, что кредит будет возвращён вовремя. \n",
        "- Если клиент имеет высшее образование вероятность своевременного возврата будет выше, чем у того, кто не имеет высшего. \n",
        "- Количество детей напрямую не влияет на вероятность просроченной задолженности. В данном случае, самый низкий процент был у группы, неимеющей детей потому, что в ней наибольшую долю занимали клиенты, старшей возрастной категории, имеющие самую низкую просрочку. \n",
        "- Семейный статус \"хорошего\" клиента - 'женат/замужем'. Просрочка в этой группе является самой низкой внезависимости от группировки по возрасту, доходу, уровню образования. Причиной тому может быть, что люди, находящиеся в браке являются более ответственными, так как отвечают не только за себя, но и за членов своей семьи. В группах 'гражданский брак', 'не женат/не замужем' чёткой связи с другими переменными не выявлено. Показатели везде +- одинаковые. \n",
        "- Наименьшую долю задолженности имеют клиенты с высоким доходом. Вне зависимости от возраста, средний показатель по задолженности у самой обеспеченной группы ниже остальных.  В группе с самым высоким доходом доля клиентов с высшим образованием самая большая, что обьясняет низкую просрочку у данной группы. Наибольшая доля просроченности у клиентов из группы со средним доходом (117т.р - 173т.р.). Определенной связи не выявлено, объясняющей данный факт. Предположение, что может оказывать влияние размер кредита. \n",
        "\n",
        "Таким образом, подведём итоги.  \n",
        "\"Хороший\" клиент для банка обладает следующими показателями:\n",
        "1. Человек взрослого возраста (>50 лет. Чем старше, тем лучше)\n",
        "2. Имеет высшее образование\n",
        "3. Женат\n",
        "4. С высоким уровнем дохода\n",
        "\n",
        "\"Плохой\" клиент:\n",
        "1. Молодой (Чем моложе, тем хуже) \n",
        "2. Не имеет высшего образования\n",
        "3. Не женат/гражданский брак\n",
        "4. Cо средним доходом"
      ]
    }
  ]
}